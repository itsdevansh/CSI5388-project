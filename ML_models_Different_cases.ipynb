{
 "cells": [
  {
   "cell_type": "code",
   "execution_count": 2,
   "id": "a7b7571b",
   "metadata": {},
   "outputs": [],
   "source": [
    "import pandas as pd\n",
    "import numpy as np\n",
    "import seaborn as sns\n",
    "import matplotlib.pyplot as plt\n",
    "from sklearn.metrics import mean_absolute_percentage_error\n",
    "from sklearn.model_selection import train_test_split\n",
    "from sklearn.preprocessing import MinMaxScaler\n",
    "from sklearn.pipeline import Pipeline\n",
    "from sklearn.feature_selection import SelectPercentile, f_classif\n",
    "from sklearn.model_selection import GridSearchCV\n",
    "from sklearn.preprocessing import StandardScaler\n",
    "from sklearn.model_selection import train_test_split\n",
    "from sklearn.metrics import f1_score\n",
    "import numpy as np\n",
    "from sklearn.model_selection import cross_val_score, KFold\n",
    "from sklearn.tree import DecisionTreeClassifier\n",
    "from sklearn.ensemble import RandomForestClassifier\n",
    "from sklearn.linear_model import LogisticRegression\n",
    "from sklearn.svm import SVC\n",
    "from xgboost import XGBClassifier\n",
    "from sklearn.model_selection import RandomizedSearchCV\n",
    "from sklearn.metrics import roc_curve, auc, classification_report\n",
    "from sklearn.metrics import confusion_matrix"
   ]
  },
  {
   "cell_type": "code",
   "execution_count": 3,
   "id": "7cff6318",
   "metadata": {},
   "outputs": [],
   "source": [
    "pd.set_option('display.max_columns', None) #so the maximum number of columns are displayed in .head()"
   ]
  },
  {
   "cell_type": "code",
   "execution_count": 4,
   "id": "6adf6b81",
   "metadata": {},
   "outputs": [
    {
     "name": "stderr",
     "output_type": "stream",
     "text": [
      "C:\\Users\\Devansh\\AppData\\Local\\Temp\\ipykernel_1544\\2565550375.py:2: DtypeWarning: Columns (56,58,63) have mixed types. Specify dtype option on import or set low_memory=False.\n",
      "  data = pd.read_csv(\"Android_Malware.csv\")\n"
     ]
    }
   ],
   "source": [
    "#Loading the dataset on a datafdrame data\n",
    "data = pd.read_csv(\"Android_Malware.csv\")"
   ]
  },
  {
   "cell_type": "code",
   "execution_count": 5,
   "id": "34af53c7",
   "metadata": {},
   "outputs": [],
   "source": [
    "data.columns = [i.strip() for i in data.columns] # stripping all the whitespaces from the column names"
   ]
  },
  {
   "cell_type": "code",
   "execution_count": 6,
   "id": "26bc3c51",
   "metadata": {},
   "outputs": [
    {
     "name": "stdout",
     "output_type": "stream",
     "text": [
      "Unnamed: 0        0\n",
      "Flow ID           1\n",
      "Source IP         0\n",
      "Source Port       0\n",
      "Destination IP    0\n",
      "                 ..\n",
      "Idle Mean         4\n",
      "Idle Std          4\n",
      "Idle Max          4\n",
      "Idle Min          4\n",
      "Label             0\n",
      "Length: 86, dtype: int64\n"
     ]
    }
   ],
   "source": [
    "print(data.isnull().sum())\n",
    "data = data.dropna()"
   ]
  },
  {
   "cell_type": "code",
   "execution_count": 7,
   "id": "f0f19373",
   "metadata": {},
   "outputs": [],
   "source": [
    "#Dropping Android_Adware and Android_Scareware\n",
    "data['Label'].unique()\n",
    "labels_to_remove = ['Android_Adware', 'Android_Scareware']\n",
    "data = data[~data['Label'].isin(labels_to_remove)]\n",
    "for column in data.columns:\n",
    "    if 'Timestamp' in column:\n",
    "        data = data.drop(column, axis = 1)"
   ]
  },
  {
   "cell_type": "code",
   "execution_count": 8,
   "id": "7334d3f0",
   "metadata": {},
   "outputs": [
    {
     "name": "stdout",
     "output_type": "stream",
     "text": [
      "Only 1 value :  Bwd PSH Flags\n",
      "Only 1 value :  Fwd URG Flags\n",
      "Only 1 value :  Bwd URG Flags\n",
      "Only 1 value :  RST Flag Count\n",
      "Same Unique Values :  CWE Flag Count\n",
      "Only 1 value :  ECE Flag Count\n",
      "Same Unique Values :  Fwd Avg Bytes/Bulk\n",
      "Only 1 value :  Fwd Avg Packets/Bulk\n",
      "Only 1 value :  Fwd Avg Bulk Rate\n",
      "Only 1 value :  Bwd Avg Bytes/Bulk\n",
      "Only 1 value :  Bwd Avg Packets/Bulk\n",
      "Only 1 value :  Bwd Avg Bulk Rate\n"
     ]
    }
   ],
   "source": [
    "for column in data.columns:\n",
    "    if len(data[column].unique()) > 1:\n",
    "        count = 0\n",
    "        if str(data[column].unique()[0]) != str(data[column].unique()[1]):\n",
    "                count += 1\n",
    "        if (count == 0):\n",
    "            print('Same Unique Values : ',column)\n",
    "            data = data.drop(column, axis = 1)\n",
    "    elif len(data[column].unique()) == 1:\n",
    "        print('Only 1 value : ', column)\n",
    "        data = data.drop(column, axis = 1)"
   ]
  },
  {
   "cell_type": "code",
   "execution_count": 9,
   "id": "bca4ed50",
   "metadata": {},
   "outputs": [],
   "source": [
    "data['Down/Up Ratio']  = [float(x) for x in data['Down/Up Ratio'].values]"
   ]
  },
  {
   "cell_type": "code",
   "execution_count": 10,
   "id": "d341ebfb",
   "metadata": {},
   "outputs": [
    {
     "data": {
      "text/html": [
       "<div>\n",
       "<style scoped>\n",
       "    .dataframe tbody tr th:only-of-type {\n",
       "        vertical-align: middle;\n",
       "    }\n",
       "\n",
       "    .dataframe tbody tr th {\n",
       "        vertical-align: top;\n",
       "    }\n",
       "\n",
       "    .dataframe thead th {\n",
       "        text-align: right;\n",
       "    }\n",
       "</style>\n",
       "<table border=\"1\" class=\"dataframe\">\n",
       "  <thead>\n",
       "    <tr style=\"text-align: right;\">\n",
       "      <th></th>\n",
       "      <th>Unnamed: 0</th>\n",
       "      <th>Flow ID</th>\n",
       "      <th>Source IP</th>\n",
       "      <th>Source Port</th>\n",
       "      <th>Destination IP</th>\n",
       "      <th>Destination Port</th>\n",
       "      <th>Protocol</th>\n",
       "      <th>Flow Duration</th>\n",
       "      <th>Total Fwd Packets</th>\n",
       "      <th>Total Backward Packets</th>\n",
       "      <th>Total Length of Fwd Packets</th>\n",
       "      <th>Total Length of Bwd Packets</th>\n",
       "      <th>Fwd Packet Length Max</th>\n",
       "      <th>Fwd Packet Length Min</th>\n",
       "      <th>Fwd Packet Length Mean</th>\n",
       "      <th>Fwd Packet Length Std</th>\n",
       "      <th>Bwd Packet Length Max</th>\n",
       "      <th>Bwd Packet Length Min</th>\n",
       "      <th>Bwd Packet Length Mean</th>\n",
       "      <th>Bwd Packet Length Std</th>\n",
       "      <th>Flow Bytes/s</th>\n",
       "      <th>Flow Packets/s</th>\n",
       "      <th>Flow IAT Mean</th>\n",
       "      <th>Flow IAT Std</th>\n",
       "      <th>Flow IAT Max</th>\n",
       "      <th>Flow IAT Min</th>\n",
       "      <th>Fwd IAT Total</th>\n",
       "      <th>Fwd IAT Mean</th>\n",
       "      <th>Fwd IAT Std</th>\n",
       "      <th>Fwd IAT Max</th>\n",
       "      <th>Fwd IAT Min</th>\n",
       "      <th>Bwd IAT Total</th>\n",
       "      <th>Bwd IAT Mean</th>\n",
       "      <th>Bwd IAT Std</th>\n",
       "      <th>Bwd IAT Max</th>\n",
       "      <th>Bwd IAT Min</th>\n",
       "      <th>Fwd PSH Flags</th>\n",
       "      <th>Fwd Header Length</th>\n",
       "      <th>Bwd Header Length</th>\n",
       "      <th>Fwd Packets/s</th>\n",
       "      <th>Bwd Packets/s</th>\n",
       "      <th>Min Packet Length</th>\n",
       "      <th>Max Packet Length</th>\n",
       "      <th>Packet Length Mean</th>\n",
       "      <th>Packet Length Std</th>\n",
       "      <th>Packet Length Variance</th>\n",
       "      <th>FIN Flag Count</th>\n",
       "      <th>SYN Flag Count</th>\n",
       "      <th>PSH Flag Count</th>\n",
       "      <th>ACK Flag Count</th>\n",
       "      <th>URG Flag Count</th>\n",
       "      <th>Down/Up Ratio</th>\n",
       "      <th>Average Packet Size</th>\n",
       "      <th>Avg Fwd Segment Size</th>\n",
       "      <th>Avg Bwd Segment Size</th>\n",
       "      <th>Fwd Header Length.1</th>\n",
       "      <th>Subflow Fwd Packets</th>\n",
       "      <th>Subflow Fwd Bytes</th>\n",
       "      <th>Subflow Bwd Packets</th>\n",
       "      <th>Subflow Bwd Bytes</th>\n",
       "      <th>Init_Win_bytes_forward</th>\n",
       "      <th>Init_Win_bytes_backward</th>\n",
       "      <th>act_data_pkt_fwd</th>\n",
       "      <th>min_seg_size_forward</th>\n",
       "      <th>Active Mean</th>\n",
       "      <th>Active Std</th>\n",
       "      <th>Active Max</th>\n",
       "      <th>Active Min</th>\n",
       "      <th>Idle Mean</th>\n",
       "      <th>Idle Std</th>\n",
       "      <th>Idle Max</th>\n",
       "      <th>Idle Min</th>\n",
       "      <th>Label</th>\n",
       "    </tr>\n",
       "  </thead>\n",
       "  <tbody>\n",
       "    <tr>\n",
       "      <th>264525</th>\n",
       "      <td>0</td>\n",
       "      <td>10.42.0.151-40.69.219.199-35131-443-6</td>\n",
       "      <td>10.42.0.151</td>\n",
       "      <td>35131</td>\n",
       "      <td>40.69.219.199</td>\n",
       "      <td>443.0</td>\n",
       "      <td>6.0</td>\n",
       "      <td>12109</td>\n",
       "      <td>2</td>\n",
       "      <td>0</td>\n",
       "      <td>85.0</td>\n",
       "      <td>0.0</td>\n",
       "      <td>85.0</td>\n",
       "      <td>0.0</td>\n",
       "      <td>42.500000</td>\n",
       "      <td>60.104076</td>\n",
       "      <td>0.0</td>\n",
       "      <td>0.0</td>\n",
       "      <td>0.000000</td>\n",
       "      <td>0.000000</td>\n",
       "      <td>7019.572219</td>\n",
       "      <td>165.166405</td>\n",
       "      <td>12109.000000</td>\n",
       "      <td>0.000000</td>\n",
       "      <td>12109.0</td>\n",
       "      <td>12109.0</td>\n",
       "      <td>12109.0</td>\n",
       "      <td>12109.0</td>\n",
       "      <td>0.000000</td>\n",
       "      <td>12109.0</td>\n",
       "      <td>12109.0</td>\n",
       "      <td>0.0</td>\n",
       "      <td>0.0</td>\n",
       "      <td>0.000000</td>\n",
       "      <td>0.0</td>\n",
       "      <td>0.0</td>\n",
       "      <td>1.0</td>\n",
       "      <td>64</td>\n",
       "      <td>0</td>\n",
       "      <td>165.166405</td>\n",
       "      <td>0.000000</td>\n",
       "      <td>0.0</td>\n",
       "      <td>85.0</td>\n",
       "      <td>56.666667</td>\n",
       "      <td>49.074773</td>\n",
       "      <td>2408.333333</td>\n",
       "      <td>0.0</td>\n",
       "      <td>1.0</td>\n",
       "      <td>0.0</td>\n",
       "      <td>1.0</td>\n",
       "      <td>0.0</td>\n",
       "      <td>0.0</td>\n",
       "      <td>85.000000</td>\n",
       "      <td>42.500000</td>\n",
       "      <td>0.000000</td>\n",
       "      <td>64.0</td>\n",
       "      <td>2.0</td>\n",
       "      <td>85.0</td>\n",
       "      <td>0.0</td>\n",
       "      <td>0.0</td>\n",
       "      <td>1550.0</td>\n",
       "      <td>-1.0</td>\n",
       "      <td>0.0</td>\n",
       "      <td>32.0</td>\n",
       "      <td>0.0</td>\n",
       "      <td>0.0</td>\n",
       "      <td>0.0</td>\n",
       "      <td>0.0</td>\n",
       "      <td>0.0</td>\n",
       "      <td>0.0</td>\n",
       "      <td>0.0</td>\n",
       "      <td>0.0</td>\n",
       "      <td>Android_SMS_Malware</td>\n",
       "    </tr>\n",
       "    <tr>\n",
       "      <th>264526</th>\n",
       "      <td>1</td>\n",
       "      <td>10.42.0.151-40.69.219.199-35131-443-6</td>\n",
       "      <td>40.69.219.199</td>\n",
       "      <td>443</td>\n",
       "      <td>10.42.0.151</td>\n",
       "      <td>35131.0</td>\n",
       "      <td>6.0</td>\n",
       "      <td>43</td>\n",
       "      <td>2</td>\n",
       "      <td>0</td>\n",
       "      <td>0.0</td>\n",
       "      <td>0.0</td>\n",
       "      <td>0.0</td>\n",
       "      <td>0.0</td>\n",
       "      <td>0.000000</td>\n",
       "      <td>0.000000</td>\n",
       "      <td>0.0</td>\n",
       "      <td>0.0</td>\n",
       "      <td>0.000000</td>\n",
       "      <td>0.000000</td>\n",
       "      <td>0.000000</td>\n",
       "      <td>46511.627907</td>\n",
       "      <td>43.000000</td>\n",
       "      <td>0.000000</td>\n",
       "      <td>43.0</td>\n",
       "      <td>43.0</td>\n",
       "      <td>43.0</td>\n",
       "      <td>43.0</td>\n",
       "      <td>0.000000</td>\n",
       "      <td>43.0</td>\n",
       "      <td>43.0</td>\n",
       "      <td>0.0</td>\n",
       "      <td>0.0</td>\n",
       "      <td>0.000000</td>\n",
       "      <td>0.0</td>\n",
       "      <td>0.0</td>\n",
       "      <td>0.0</td>\n",
       "      <td>64</td>\n",
       "      <td>0</td>\n",
       "      <td>46511.627907</td>\n",
       "      <td>0.000000</td>\n",
       "      <td>0.0</td>\n",
       "      <td>0.0</td>\n",
       "      <td>0.000000</td>\n",
       "      <td>0.000000</td>\n",
       "      <td>0.000000</td>\n",
       "      <td>0.0</td>\n",
       "      <td>0.0</td>\n",
       "      <td>0.0</td>\n",
       "      <td>1.0</td>\n",
       "      <td>0.0</td>\n",
       "      <td>0.0</td>\n",
       "      <td>0.000000</td>\n",
       "      <td>0.000000</td>\n",
       "      <td>0.000000</td>\n",
       "      <td>64.0</td>\n",
       "      <td>2.0</td>\n",
       "      <td>0.0</td>\n",
       "      <td>0.0</td>\n",
       "      <td>0.0</td>\n",
       "      <td>510.0</td>\n",
       "      <td>-1.0</td>\n",
       "      <td>0.0</td>\n",
       "      <td>32.0</td>\n",
       "      <td>0.0</td>\n",
       "      <td>0.0</td>\n",
       "      <td>0.0</td>\n",
       "      <td>0.0</td>\n",
       "      <td>0.0</td>\n",
       "      <td>0.0</td>\n",
       "      <td>0.0</td>\n",
       "      <td>0.0</td>\n",
       "      <td>Android_SMS_Malware</td>\n",
       "    </tr>\n",
       "    <tr>\n",
       "      <th>264527</th>\n",
       "      <td>2</td>\n",
       "      <td>10.42.0.151-40.122.44.96-54930-443-6</td>\n",
       "      <td>10.42.0.151</td>\n",
       "      <td>54930</td>\n",
       "      <td>40.122.44.96</td>\n",
       "      <td>443.0</td>\n",
       "      <td>6.0</td>\n",
       "      <td>14678</td>\n",
       "      <td>2</td>\n",
       "      <td>0</td>\n",
       "      <td>85.0</td>\n",
       "      <td>0.0</td>\n",
       "      <td>85.0</td>\n",
       "      <td>0.0</td>\n",
       "      <td>42.500000</td>\n",
       "      <td>60.104076</td>\n",
       "      <td>0.0</td>\n",
       "      <td>0.0</td>\n",
       "      <td>0.000000</td>\n",
       "      <td>0.000000</td>\n",
       "      <td>5790.979698</td>\n",
       "      <td>136.258346</td>\n",
       "      <td>14678.000000</td>\n",
       "      <td>0.000000</td>\n",
       "      <td>14678.0</td>\n",
       "      <td>14678.0</td>\n",
       "      <td>14678.0</td>\n",
       "      <td>14678.0</td>\n",
       "      <td>0.000000</td>\n",
       "      <td>14678.0</td>\n",
       "      <td>14678.0</td>\n",
       "      <td>0.0</td>\n",
       "      <td>0.0</td>\n",
       "      <td>0.000000</td>\n",
       "      <td>0.0</td>\n",
       "      <td>0.0</td>\n",
       "      <td>1.0</td>\n",
       "      <td>64</td>\n",
       "      <td>0</td>\n",
       "      <td>136.258346</td>\n",
       "      <td>0.000000</td>\n",
       "      <td>0.0</td>\n",
       "      <td>85.0</td>\n",
       "      <td>56.666667</td>\n",
       "      <td>49.074773</td>\n",
       "      <td>2408.333333</td>\n",
       "      <td>0.0</td>\n",
       "      <td>1.0</td>\n",
       "      <td>0.0</td>\n",
       "      <td>1.0</td>\n",
       "      <td>0.0</td>\n",
       "      <td>0.0</td>\n",
       "      <td>85.000000</td>\n",
       "      <td>42.500000</td>\n",
       "      <td>0.000000</td>\n",
       "      <td>64.0</td>\n",
       "      <td>2.0</td>\n",
       "      <td>85.0</td>\n",
       "      <td>0.0</td>\n",
       "      <td>0.0</td>\n",
       "      <td>1550.0</td>\n",
       "      <td>-1.0</td>\n",
       "      <td>0.0</td>\n",
       "      <td>32.0</td>\n",
       "      <td>0.0</td>\n",
       "      <td>0.0</td>\n",
       "      <td>0.0</td>\n",
       "      <td>0.0</td>\n",
       "      <td>0.0</td>\n",
       "      <td>0.0</td>\n",
       "      <td>0.0</td>\n",
       "      <td>0.0</td>\n",
       "      <td>Android_SMS_Malware</td>\n",
       "    </tr>\n",
       "    <tr>\n",
       "      <th>264528</th>\n",
       "      <td>3</td>\n",
       "      <td>10.42.0.151-40.122.44.96-54930-443-6</td>\n",
       "      <td>40.122.44.96</td>\n",
       "      <td>443</td>\n",
       "      <td>10.42.0.151</td>\n",
       "      <td>54930.0</td>\n",
       "      <td>6.0</td>\n",
       "      <td>43</td>\n",
       "      <td>2</td>\n",
       "      <td>0</td>\n",
       "      <td>0.0</td>\n",
       "      <td>0.0</td>\n",
       "      <td>0.0</td>\n",
       "      <td>0.0</td>\n",
       "      <td>0.000000</td>\n",
       "      <td>0.000000</td>\n",
       "      <td>0.0</td>\n",
       "      <td>0.0</td>\n",
       "      <td>0.000000</td>\n",
       "      <td>0.000000</td>\n",
       "      <td>0.000000</td>\n",
       "      <td>46511.627907</td>\n",
       "      <td>43.000000</td>\n",
       "      <td>0.000000</td>\n",
       "      <td>43.0</td>\n",
       "      <td>43.0</td>\n",
       "      <td>43.0</td>\n",
       "      <td>43.0</td>\n",
       "      <td>0.000000</td>\n",
       "      <td>43.0</td>\n",
       "      <td>43.0</td>\n",
       "      <td>0.0</td>\n",
       "      <td>0.0</td>\n",
       "      <td>0.000000</td>\n",
       "      <td>0.0</td>\n",
       "      <td>0.0</td>\n",
       "      <td>0.0</td>\n",
       "      <td>64</td>\n",
       "      <td>0</td>\n",
       "      <td>46511.627907</td>\n",
       "      <td>0.000000</td>\n",
       "      <td>0.0</td>\n",
       "      <td>0.0</td>\n",
       "      <td>0.000000</td>\n",
       "      <td>0.000000</td>\n",
       "      <td>0.000000</td>\n",
       "      <td>0.0</td>\n",
       "      <td>0.0</td>\n",
       "      <td>0.0</td>\n",
       "      <td>1.0</td>\n",
       "      <td>0.0</td>\n",
       "      <td>0.0</td>\n",
       "      <td>0.000000</td>\n",
       "      <td>0.000000</td>\n",
       "      <td>0.000000</td>\n",
       "      <td>64.0</td>\n",
       "      <td>2.0</td>\n",
       "      <td>0.0</td>\n",
       "      <td>0.0</td>\n",
       "      <td>0.0</td>\n",
       "      <td>509.0</td>\n",
       "      <td>-1.0</td>\n",
       "      <td>0.0</td>\n",
       "      <td>32.0</td>\n",
       "      <td>0.0</td>\n",
       "      <td>0.0</td>\n",
       "      <td>0.0</td>\n",
       "      <td>0.0</td>\n",
       "      <td>0.0</td>\n",
       "      <td>0.0</td>\n",
       "      <td>0.0</td>\n",
       "      <td>0.0</td>\n",
       "      <td>Android_SMS_Malware</td>\n",
       "    </tr>\n",
       "    <tr>\n",
       "      <th>264529</th>\n",
       "      <td>4</td>\n",
       "      <td>10.42.0.151-52.179.153.195-53215-443-6</td>\n",
       "      <td>10.42.0.151</td>\n",
       "      <td>53215</td>\n",
       "      <td>52.179.153.195</td>\n",
       "      <td>443.0</td>\n",
       "      <td>6.0</td>\n",
       "      <td>3355709</td>\n",
       "      <td>11</td>\n",
       "      <td>7</td>\n",
       "      <td>1290.0</td>\n",
       "      <td>5430.0</td>\n",
       "      <td>869.0</td>\n",
       "      <td>0.0</td>\n",
       "      <td>117.272727</td>\n",
       "      <td>263.158542</td>\n",
       "      <td>1448.0</td>\n",
       "      <td>0.0</td>\n",
       "      <td>775.714286</td>\n",
       "      <td>672.413245</td>\n",
       "      <td>2002.557433</td>\n",
       "      <td>5.363993</td>\n",
       "      <td>197394.647059</td>\n",
       "      <td>653868.357763</td>\n",
       "      <td>2731778.0</td>\n",
       "      <td>6.0</td>\n",
       "      <td>3355709.0</td>\n",
       "      <td>335570.9</td>\n",
       "      <td>843621.265168</td>\n",
       "      <td>2731778.0</td>\n",
       "      <td>13.0</td>\n",
       "      <td>542766.0</td>\n",
       "      <td>90461.0</td>\n",
       "      <td>100811.101629</td>\n",
       "      <td>200127.0</td>\n",
       "      <td>6.0</td>\n",
       "      <td>0.0</td>\n",
       "      <td>360</td>\n",
       "      <td>232</td>\n",
       "      <td>3.277996</td>\n",
       "      <td>2.085997</td>\n",
       "      <td>0.0</td>\n",
       "      <td>1448.0</td>\n",
       "      <td>353.684211</td>\n",
       "      <td>547.317403</td>\n",
       "      <td>299556.339181</td>\n",
       "      <td>0.0</td>\n",
       "      <td>0.0</td>\n",
       "      <td>1.0</td>\n",
       "      <td>0.0</td>\n",
       "      <td>0.0</td>\n",
       "      <td>0.0</td>\n",
       "      <td>373.333333</td>\n",
       "      <td>117.272727</td>\n",
       "      <td>775.714286</td>\n",
       "      <td>360.0</td>\n",
       "      <td>11.0</td>\n",
       "      <td>1290.0</td>\n",
       "      <td>7.0</td>\n",
       "      <td>5430.0</td>\n",
       "      <td>65535.0</td>\n",
       "      <td>510.0</td>\n",
       "      <td>3.0</td>\n",
       "      <td>32.0</td>\n",
       "      <td>0.0</td>\n",
       "      <td>0.0</td>\n",
       "      <td>0.0</td>\n",
       "      <td>0.0</td>\n",
       "      <td>0.0</td>\n",
       "      <td>0.0</td>\n",
       "      <td>0.0</td>\n",
       "      <td>0.0</td>\n",
       "      <td>Android_SMS_Malware</td>\n",
       "    </tr>\n",
       "  </tbody>\n",
       "</table>\n",
       "</div>"
      ],
      "text/plain": [
       "        Unnamed: 0                                 Flow ID      Source IP  \\\n",
       "264525           0   10.42.0.151-40.69.219.199-35131-443-6    10.42.0.151   \n",
       "264526           1   10.42.0.151-40.69.219.199-35131-443-6  40.69.219.199   \n",
       "264527           2    10.42.0.151-40.122.44.96-54930-443-6    10.42.0.151   \n",
       "264528           3    10.42.0.151-40.122.44.96-54930-443-6   40.122.44.96   \n",
       "264529           4  10.42.0.151-52.179.153.195-53215-443-6    10.42.0.151   \n",
       "\n",
       "        Source Port  Destination IP  Destination Port  Protocol  \\\n",
       "264525        35131   40.69.219.199             443.0       6.0   \n",
       "264526          443     10.42.0.151           35131.0       6.0   \n",
       "264527        54930    40.122.44.96             443.0       6.0   \n",
       "264528          443     10.42.0.151           54930.0       6.0   \n",
       "264529        53215  52.179.153.195             443.0       6.0   \n",
       "\n",
       "        Flow Duration  Total Fwd Packets  Total Backward Packets  \\\n",
       "264525          12109                  2                       0   \n",
       "264526             43                  2                       0   \n",
       "264527          14678                  2                       0   \n",
       "264528             43                  2                       0   \n",
       "264529        3355709                 11                       7   \n",
       "\n",
       "        Total Length of Fwd Packets  Total Length of Bwd Packets  \\\n",
       "264525                         85.0                          0.0   \n",
       "264526                          0.0                          0.0   \n",
       "264527                         85.0                          0.0   \n",
       "264528                          0.0                          0.0   \n",
       "264529                       1290.0                       5430.0   \n",
       "\n",
       "        Fwd Packet Length Max  Fwd Packet Length Min  Fwd Packet Length Mean  \\\n",
       "264525                   85.0                    0.0               42.500000   \n",
       "264526                    0.0                    0.0                0.000000   \n",
       "264527                   85.0                    0.0               42.500000   \n",
       "264528                    0.0                    0.0                0.000000   \n",
       "264529                  869.0                    0.0              117.272727   \n",
       "\n",
       "        Fwd Packet Length Std  Bwd Packet Length Max  Bwd Packet Length Min  \\\n",
       "264525              60.104076                    0.0                    0.0   \n",
       "264526               0.000000                    0.0                    0.0   \n",
       "264527              60.104076                    0.0                    0.0   \n",
       "264528               0.000000                    0.0                    0.0   \n",
       "264529             263.158542                 1448.0                    0.0   \n",
       "\n",
       "        Bwd Packet Length Mean  Bwd Packet Length Std  Flow Bytes/s  \\\n",
       "264525                0.000000               0.000000   7019.572219   \n",
       "264526                0.000000               0.000000      0.000000   \n",
       "264527                0.000000               0.000000   5790.979698   \n",
       "264528                0.000000               0.000000      0.000000   \n",
       "264529              775.714286             672.413245   2002.557433   \n",
       "\n",
       "        Flow Packets/s  Flow IAT Mean   Flow IAT Std  Flow IAT Max  \\\n",
       "264525      165.166405   12109.000000       0.000000       12109.0   \n",
       "264526    46511.627907      43.000000       0.000000          43.0   \n",
       "264527      136.258346   14678.000000       0.000000       14678.0   \n",
       "264528    46511.627907      43.000000       0.000000          43.0   \n",
       "264529        5.363993  197394.647059  653868.357763     2731778.0   \n",
       "\n",
       "        Flow IAT Min  Fwd IAT Total  Fwd IAT Mean    Fwd IAT Std  Fwd IAT Max  \\\n",
       "264525       12109.0        12109.0       12109.0       0.000000      12109.0   \n",
       "264526          43.0           43.0          43.0       0.000000         43.0   \n",
       "264527       14678.0        14678.0       14678.0       0.000000      14678.0   \n",
       "264528          43.0           43.0          43.0       0.000000         43.0   \n",
       "264529           6.0      3355709.0      335570.9  843621.265168    2731778.0   \n",
       "\n",
       "        Fwd IAT Min  Bwd IAT Total  Bwd IAT Mean    Bwd IAT Std  Bwd IAT Max  \\\n",
       "264525      12109.0            0.0           0.0       0.000000          0.0   \n",
       "264526         43.0            0.0           0.0       0.000000          0.0   \n",
       "264527      14678.0            0.0           0.0       0.000000          0.0   \n",
       "264528         43.0            0.0           0.0       0.000000          0.0   \n",
       "264529         13.0       542766.0       90461.0  100811.101629     200127.0   \n",
       "\n",
       "        Bwd IAT Min  Fwd PSH Flags  Fwd Header Length  Bwd Header Length  \\\n",
       "264525          0.0            1.0                 64                  0   \n",
       "264526          0.0            0.0                 64                  0   \n",
       "264527          0.0            1.0                 64                  0   \n",
       "264528          0.0            0.0                 64                  0   \n",
       "264529          6.0            0.0                360                232   \n",
       "\n",
       "        Fwd Packets/s  Bwd Packets/s  Min Packet Length  Max Packet Length  \\\n",
       "264525     165.166405       0.000000                0.0               85.0   \n",
       "264526   46511.627907       0.000000                0.0                0.0   \n",
       "264527     136.258346       0.000000                0.0               85.0   \n",
       "264528   46511.627907       0.000000                0.0                0.0   \n",
       "264529       3.277996       2.085997                0.0             1448.0   \n",
       "\n",
       "        Packet Length Mean  Packet Length Std  Packet Length Variance  \\\n",
       "264525           56.666667          49.074773             2408.333333   \n",
       "264526            0.000000           0.000000                0.000000   \n",
       "264527           56.666667          49.074773             2408.333333   \n",
       "264528            0.000000           0.000000                0.000000   \n",
       "264529          353.684211         547.317403           299556.339181   \n",
       "\n",
       "        FIN Flag Count  SYN Flag Count  PSH Flag Count  ACK Flag Count  \\\n",
       "264525             0.0             1.0             0.0             1.0   \n",
       "264526             0.0             0.0             0.0             1.0   \n",
       "264527             0.0             1.0             0.0             1.0   \n",
       "264528             0.0             0.0             0.0             1.0   \n",
       "264529             0.0             0.0             1.0             0.0   \n",
       "\n",
       "        URG Flag Count  Down/Up Ratio  Average Packet Size  \\\n",
       "264525             0.0            0.0            85.000000   \n",
       "264526             0.0            0.0             0.000000   \n",
       "264527             0.0            0.0            85.000000   \n",
       "264528             0.0            0.0             0.000000   \n",
       "264529             0.0            0.0           373.333333   \n",
       "\n",
       "        Avg Fwd Segment Size  Avg Bwd Segment Size  Fwd Header Length.1  \\\n",
       "264525             42.500000              0.000000                 64.0   \n",
       "264526              0.000000              0.000000                 64.0   \n",
       "264527             42.500000              0.000000                 64.0   \n",
       "264528              0.000000              0.000000                 64.0   \n",
       "264529            117.272727            775.714286                360.0   \n",
       "\n",
       "        Subflow Fwd Packets  Subflow Fwd Bytes  Subflow Bwd Packets  \\\n",
       "264525                  2.0               85.0                  0.0   \n",
       "264526                  2.0                0.0                  0.0   \n",
       "264527                  2.0               85.0                  0.0   \n",
       "264528                  2.0                0.0                  0.0   \n",
       "264529                 11.0             1290.0                  7.0   \n",
       "\n",
       "        Subflow Bwd Bytes  Init_Win_bytes_forward  Init_Win_bytes_backward  \\\n",
       "264525                0.0                  1550.0                     -1.0   \n",
       "264526                0.0                   510.0                     -1.0   \n",
       "264527                0.0                  1550.0                     -1.0   \n",
       "264528                0.0                   509.0                     -1.0   \n",
       "264529             5430.0                 65535.0                    510.0   \n",
       "\n",
       "        act_data_pkt_fwd  min_seg_size_forward  Active Mean  Active Std  \\\n",
       "264525               0.0                  32.0          0.0         0.0   \n",
       "264526               0.0                  32.0          0.0         0.0   \n",
       "264527               0.0                  32.0          0.0         0.0   \n",
       "264528               0.0                  32.0          0.0         0.0   \n",
       "264529               3.0                  32.0          0.0         0.0   \n",
       "\n",
       "        Active Max  Active Min  Idle Mean  Idle Std  Idle Max  Idle Min  \\\n",
       "264525         0.0         0.0        0.0       0.0       0.0       0.0   \n",
       "264526         0.0         0.0        0.0       0.0       0.0       0.0   \n",
       "264527         0.0         0.0        0.0       0.0       0.0       0.0   \n",
       "264528         0.0         0.0        0.0       0.0       0.0       0.0   \n",
       "264529         0.0         0.0        0.0       0.0       0.0       0.0   \n",
       "\n",
       "                      Label  \n",
       "264525  Android_SMS_Malware  \n",
       "264526  Android_SMS_Malware  \n",
       "264527  Android_SMS_Malware  \n",
       "264528  Android_SMS_Malware  \n",
       "264529  Android_SMS_Malware  "
      ]
     },
     "execution_count": 10,
     "metadata": {},
     "output_type": "execute_result"
    }
   ],
   "source": [
    "data.head()"
   ]
  },
  {
   "cell_type": "code",
   "execution_count": 11,
   "id": "d886e976",
   "metadata": {},
   "outputs": [],
   "source": [
    "from category_encoders import TargetEncoder"
   ]
  },
  {
   "cell_type": "code",
   "execution_count": 12,
   "id": "d84a6abb",
   "metadata": {},
   "outputs": [],
   "source": [
    "data.drop('Unnamed: 0', axis=1, inplace=True)"
   ]
  },
  {
   "cell_type": "code",
   "execution_count": 13,
   "id": "39d988ff",
   "metadata": {},
   "outputs": [],
   "source": [
    "x = data.drop(['Label'], axis=1)\n",
    "y = [data['Label'].unique().tolist().index(i) for i in data['Label']]"
   ]
  },
  {
   "cell_type": "code",
   "execution_count": 16,
   "id": "3bf63f79",
   "metadata": {},
   "outputs": [
    {
     "name": "stdout",
     "output_type": "stream",
     "text": [
      "['Android_SMS_Malware' 'Benign']\n"
     ]
    }
   ],
   "source": [
    "print(data['Label'].unique())"
   ]
  },
  {
   "cell_type": "code",
   "execution_count": 13,
   "id": "71d9c58b",
   "metadata": {},
   "outputs": [],
   "source": [
    "X_train, X_test, y_train, y_test = train_test_split(x, y, test_size=0.3, random_state=42, shuffle=True, stratify=y)"
   ]
  },
  {
   "cell_type": "code",
   "execution_count": 14,
   "id": "0e68f927",
   "metadata": {},
   "outputs": [],
   "source": [
    "# Apply target encoding only to training data\n",
    "encoder = TargetEncoder()\n",
    "X_train_encoded = pd.DataFrame(encoder.fit_transform(X_train, y_train), columns=X_train.columns)\n",
    "X_test_encoded = pd.DataFrame(encoder.transform(X_test), columns=X_test.columns)"
   ]
  },
  {
   "cell_type": "code",
   "execution_count": 15,
   "id": "8fdebb26",
   "metadata": {},
   "outputs": [],
   "source": [
    "# Apply scaling only to training data\n",
    "scaler = MinMaxScaler()\n",
    "X_train_scaled = pd.DataFrame(scaler.fit_transform(X_train_encoded), columns=X_train_encoded.columns)\n",
    "X_test_scaled = pd.DataFrame(scaler.transform(X_test_encoded), columns=X_test_encoded.columns)"
   ]
  },
  {
   "cell_type": "code",
   "execution_count": 16,
   "id": "18471187",
   "metadata": {},
   "outputs": [
    {
     "name": "stdout",
     "output_type": "stream",
     "text": [
      "Fitting 5 folds for each of 10 candidates, totalling 50 fits\n",
      "[CV] END classifier__max_depth=50, classifier__max_features=log2, classifier__min_samples_leaf=2, classifier__min_samples_split=10; total time=  10.5s\n",
      "[CV] END classifier__max_depth=50, classifier__max_features=log2, classifier__min_samples_leaf=2, classifier__min_samples_split=10; total time=  10.8s\n",
      "[CV] END classifier__max_depth=50, classifier__max_features=log2, classifier__min_samples_leaf=2, classifier__min_samples_split=10; total time=  10.7s\n",
      "[CV] END classifier__max_depth=50, classifier__max_features=log2, classifier__min_samples_leaf=2, classifier__min_samples_split=10; total time=  10.3s\n",
      "[CV] END classifier__max_depth=50, classifier__max_features=log2, classifier__min_samples_leaf=2, classifier__min_samples_split=10; total time=  10.1s\n",
      "[CV] END classifier__max_depth=40, classifier__max_features=auto, classifier__min_samples_leaf=1, classifier__min_samples_split=5; total time=  12.1s\n",
      "[CV] END classifier__max_depth=40, classifier__max_features=auto, classifier__min_samples_leaf=1, classifier__min_samples_split=5; total time=  12.2s\n",
      "[CV] END classifier__max_depth=40, classifier__max_features=auto, classifier__min_samples_leaf=1, classifier__min_samples_split=5; total time=  12.1s\n",
      "[CV] END classifier__max_depth=40, classifier__max_features=auto, classifier__min_samples_leaf=1, classifier__min_samples_split=5; total time=  12.3s\n",
      "[CV] END classifier__max_depth=40, classifier__max_features=auto, classifier__min_samples_leaf=1, classifier__min_samples_split=5; total time=  12.3s\n",
      "[CV] END classifier__max_depth=40, classifier__max_features=log2, classifier__min_samples_leaf=2, classifier__min_samples_split=10; total time=  10.5s\n",
      "[CV] END classifier__max_depth=40, classifier__max_features=log2, classifier__min_samples_leaf=2, classifier__min_samples_split=10; total time=  10.7s\n",
      "[CV] END classifier__max_depth=40, classifier__max_features=log2, classifier__min_samples_leaf=2, classifier__min_samples_split=10; total time=  11.0s\n",
      "[CV] END classifier__max_depth=40, classifier__max_features=log2, classifier__min_samples_leaf=2, classifier__min_samples_split=10; total time=  10.4s\n",
      "[CV] END classifier__max_depth=40, classifier__max_features=log2, classifier__min_samples_leaf=2, classifier__min_samples_split=10; total time=  10.2s\n",
      "[CV] END classifier__max_depth=20, classifier__max_features=auto, classifier__min_samples_leaf=1, classifier__min_samples_split=5; total time=  12.1s\n",
      "[CV] END classifier__max_depth=20, classifier__max_features=auto, classifier__min_samples_leaf=1, classifier__min_samples_split=5; total time=  12.1s\n",
      "[CV] END classifier__max_depth=20, classifier__max_features=auto, classifier__min_samples_leaf=1, classifier__min_samples_split=5; total time=  11.9s\n",
      "[CV] END classifier__max_depth=20, classifier__max_features=auto, classifier__min_samples_leaf=1, classifier__min_samples_split=5; total time=  12.2s\n",
      "[CV] END classifier__max_depth=20, classifier__max_features=auto, classifier__min_samples_leaf=1, classifier__min_samples_split=5; total time=  11.9s\n",
      "[CV] END classifier__max_depth=30, classifier__max_features=sqrt, classifier__min_samples_leaf=2, classifier__min_samples_split=5; total time=  11.9s\n",
      "[CV] END classifier__max_depth=30, classifier__max_features=sqrt, classifier__min_samples_leaf=2, classifier__min_samples_split=5; total time=  11.8s\n",
      "[CV] END classifier__max_depth=30, classifier__max_features=sqrt, classifier__min_samples_leaf=2, classifier__min_samples_split=5; total time=  12.5s\n",
      "[CV] END classifier__max_depth=30, classifier__max_features=sqrt, classifier__min_samples_leaf=2, classifier__min_samples_split=5; total time=  12.2s\n",
      "[CV] END classifier__max_depth=30, classifier__max_features=sqrt, classifier__min_samples_leaf=2, classifier__min_samples_split=5; total time=  11.7s\n",
      "[CV] END classifier__max_depth=10, classifier__max_features=auto, classifier__min_samples_leaf=1, classifier__min_samples_split=10; total time=  10.2s\n",
      "[CV] END classifier__max_depth=10, classifier__max_features=auto, classifier__min_samples_leaf=1, classifier__min_samples_split=10; total time=  10.4s\n",
      "[CV] END classifier__max_depth=10, classifier__max_features=auto, classifier__min_samples_leaf=1, classifier__min_samples_split=10; total time=  10.4s\n",
      "[CV] END classifier__max_depth=10, classifier__max_features=auto, classifier__min_samples_leaf=1, classifier__min_samples_split=10; total time=  10.4s\n",
      "[CV] END classifier__max_depth=10, classifier__max_features=auto, classifier__min_samples_leaf=1, classifier__min_samples_split=10; total time=  10.4s\n",
      "[CV] END classifier__max_depth=30, classifier__max_features=log2, classifier__min_samples_leaf=1, classifier__min_samples_split=10; total time=  11.0s\n",
      "[CV] END classifier__max_depth=30, classifier__max_features=log2, classifier__min_samples_leaf=1, classifier__min_samples_split=10; total time=  10.5s\n",
      "[CV] END classifier__max_depth=30, classifier__max_features=log2, classifier__min_samples_leaf=1, classifier__min_samples_split=10; total time=  10.3s\n",
      "[CV] END classifier__max_depth=30, classifier__max_features=log2, classifier__min_samples_leaf=1, classifier__min_samples_split=10; total time=  10.6s\n",
      "[CV] END classifier__max_depth=30, classifier__max_features=log2, classifier__min_samples_leaf=1, classifier__min_samples_split=10; total time=  10.7s\n",
      "[CV] END classifier__max_depth=10, classifier__max_features=log2, classifier__min_samples_leaf=4, classifier__min_samples_split=2; total time=   8.5s\n",
      "[CV] END classifier__max_depth=10, classifier__max_features=log2, classifier__min_samples_leaf=4, classifier__min_samples_split=2; total time=   8.5s\n",
      "[CV] END classifier__max_depth=10, classifier__max_features=log2, classifier__min_samples_leaf=4, classifier__min_samples_split=2; total time=   8.6s\n",
      "[CV] END classifier__max_depth=10, classifier__max_features=log2, classifier__min_samples_leaf=4, classifier__min_samples_split=2; total time=   8.5s\n",
      "[CV] END classifier__max_depth=10, classifier__max_features=log2, classifier__min_samples_leaf=4, classifier__min_samples_split=2; total time=   8.4s\n",
      "[CV] END classifier__max_depth=30, classifier__max_features=log2, classifier__min_samples_leaf=1, classifier__min_samples_split=5; total time=  10.8s\n",
      "[CV] END classifier__max_depth=30, classifier__max_features=log2, classifier__min_samples_leaf=1, classifier__min_samples_split=5; total time=  10.8s\n",
      "[CV] END classifier__max_depth=30, classifier__max_features=log2, classifier__min_samples_leaf=1, classifier__min_samples_split=5; total time=  10.9s\n",
      "[CV] END classifier__max_depth=30, classifier__max_features=log2, classifier__min_samples_leaf=1, classifier__min_samples_split=5; total time=  10.3s\n",
      "[CV] END classifier__max_depth=30, classifier__max_features=log2, classifier__min_samples_leaf=1, classifier__min_samples_split=5; total time=  10.7s\n",
      "[CV] END classifier__max_depth=50, classifier__max_features=sqrt, classifier__min_samples_leaf=1, classifier__min_samples_split=2; total time=  12.4s\n",
      "[CV] END classifier__max_depth=50, classifier__max_features=sqrt, classifier__min_samples_leaf=1, classifier__min_samples_split=2; total time=  12.2s\n",
      "[CV] END classifier__max_depth=50, classifier__max_features=sqrt, classifier__min_samples_leaf=1, classifier__min_samples_split=2; total time=  12.1s\n",
      "[CV] END classifier__max_depth=50, classifier__max_features=sqrt, classifier__min_samples_leaf=1, classifier__min_samples_split=2; total time=  12.7s\n",
      "[CV] END classifier__max_depth=50, classifier__max_features=sqrt, classifier__min_samples_leaf=1, classifier__min_samples_split=2; total time=  12.4s\n",
      "Best parameters for rf: {'classifier__min_samples_split': 5, 'classifier__min_samples_leaf': 1, 'classifier__max_features': 'log2', 'classifier__max_depth': 30}\n",
      "Classification report for rf:\n",
      "              precision    recall  f1-score   support\n",
      "\n",
      "           0       0.87      1.00      0.93     20218\n",
      "           1       0.98      0.58      0.73      7113\n",
      "\n",
      "    accuracy                           0.89     27331\n",
      "   macro avg       0.93      0.79      0.83     27331\n",
      "weighted avg       0.90      0.89      0.88     27331\n",
      "\n",
      "Confusion Matrix for rf:\n",
      "[[20138    80]\n",
      " [ 3022  4091]]\n",
      "\n",
      "AUC for rf: 0.96\n",
      "\n",
      "Fitting 5 folds for each of 10 candidates, totalling 50 fits\n"
     ]
    },
    {
     "name": "stdout",
     "output_type": "stream",
     "text": [
      "[CV] END classifier__max_depth=50, classifier__max_features=log2, classifier__min_samples_leaf=2, classifier__min_samples_split=10; total time=   0.1s\n",
      "[CV] END classifier__max_depth=50, classifier__max_features=log2, classifier__min_samples_leaf=2, classifier__min_samples_split=10; total time=   0.1s\n",
      "[CV] END classifier__max_depth=50, classifier__max_features=log2, classifier__min_samples_leaf=2, classifier__min_samples_split=10; total time=   0.1s\n",
      "[CV] END classifier__max_depth=50, classifier__max_features=log2, classifier__min_samples_leaf=2, classifier__min_samples_split=10; total time=   0.1s\n",
      "[CV] END classifier__max_depth=50, classifier__max_features=log2, classifier__min_samples_leaf=2, classifier__min_samples_split=10; total time=   0.1s\n",
      "[CV] END classifier__max_depth=40, classifier__max_features=auto, classifier__min_samples_leaf=1, classifier__min_samples_split=5; total time=   0.1s\n",
      "[CV] END classifier__max_depth=40, classifier__max_features=auto, classifier__min_samples_leaf=1, classifier__min_samples_split=5; total time=   0.2s\n",
      "[CV] END classifier__max_depth=40, classifier__max_features=auto, classifier__min_samples_leaf=1, classifier__min_samples_split=5; total time=   0.2s\n",
      "[CV] END classifier__max_depth=40, classifier__max_features=auto, classifier__min_samples_leaf=1, classifier__min_samples_split=5; total time=   0.1s\n",
      "[CV] END classifier__max_depth=40, classifier__max_features=auto, classifier__min_samples_leaf=1, classifier__min_samples_split=5; total time=   0.2s\n",
      "[CV] END classifier__max_depth=40, classifier__max_features=log2, classifier__min_samples_leaf=2, classifier__min_samples_split=10; total time=   0.1s\n",
      "[CV] END classifier__max_depth=40, classifier__max_features=log2, classifier__min_samples_leaf=2, classifier__min_samples_split=10; total time=   0.1s\n",
      "[CV] END classifier__max_depth=40, classifier__max_features=log2, classifier__min_samples_leaf=2, classifier__min_samples_split=10; total time=   0.1s\n",
      "[CV] END classifier__max_depth=40, classifier__max_features=log2, classifier__min_samples_leaf=2, classifier__min_samples_split=10; total time=   0.1s\n",
      "[CV] END classifier__max_depth=40, classifier__max_features=log2, classifier__min_samples_leaf=2, classifier__min_samples_split=10; total time=   0.1s\n",
      "[CV] END classifier__max_depth=20, classifier__max_features=auto, classifier__min_samples_leaf=1, classifier__min_samples_split=5; total time=   0.1s\n",
      "[CV] END classifier__max_depth=20, classifier__max_features=auto, classifier__min_samples_leaf=1, classifier__min_samples_split=5; total time=   0.1s\n",
      "[CV] END classifier__max_depth=20, classifier__max_features=auto, classifier__min_samples_leaf=1, classifier__min_samples_split=5; total time=   0.1s\n",
      "[CV] END classifier__max_depth=20, classifier__max_features=auto, classifier__min_samples_leaf=1, classifier__min_samples_split=5; total time=   0.1s\n",
      "[CV] END classifier__max_depth=20, classifier__max_features=auto, classifier__min_samples_leaf=1, classifier__min_samples_split=5; total time=   0.2s\n",
      "[CV] END classifier__max_depth=30, classifier__max_features=sqrt, classifier__min_samples_leaf=2, classifier__min_samples_split=5; total time=   0.2s\n",
      "[CV] END classifier__max_depth=30, classifier__max_features=sqrt, classifier__min_samples_leaf=2, classifier__min_samples_split=5; total time=   0.2s\n",
      "[CV] END classifier__max_depth=30, classifier__max_features=sqrt, classifier__min_samples_leaf=2, classifier__min_samples_split=5; total time=   0.1s\n",
      "[CV] END classifier__max_depth=30, classifier__max_features=sqrt, classifier__min_samples_leaf=2, classifier__min_samples_split=5; total time=   0.1s\n",
      "[CV] END classifier__max_depth=30, classifier__max_features=sqrt, classifier__min_samples_leaf=2, classifier__min_samples_split=5; total time=   0.1s\n",
      "[CV] END classifier__max_depth=10, classifier__max_features=auto, classifier__min_samples_leaf=1, classifier__min_samples_split=10; total time=   0.1s\n",
      "[CV] END classifier__max_depth=10, classifier__max_features=auto, classifier__min_samples_leaf=1, classifier__min_samples_split=10; total time=   0.1s\n",
      "[CV] END classifier__max_depth=10, classifier__max_features=auto, classifier__min_samples_leaf=1, classifier__min_samples_split=10; total time=   0.1s\n",
      "[CV] END classifier__max_depth=10, classifier__max_features=auto, classifier__min_samples_leaf=1, classifier__min_samples_split=10; total time=   0.1s\n",
      "[CV] END classifier__max_depth=10, classifier__max_features=auto, classifier__min_samples_leaf=1, classifier__min_samples_split=10; total time=   0.1s\n",
      "[CV] END classifier__max_depth=30, classifier__max_features=log2, classifier__min_samples_leaf=1, classifier__min_samples_split=10; total time=   0.0s\n",
      "[CV] END classifier__max_depth=30, classifier__max_features=log2, classifier__min_samples_leaf=1, classifier__min_samples_split=10; total time=   0.1s\n",
      "[CV] END classifier__max_depth=30, classifier__max_features=log2, classifier__min_samples_leaf=1, classifier__min_samples_split=10; total time=   0.1s\n",
      "[CV] END classifier__max_depth=30, classifier__max_features=log2, classifier__min_samples_leaf=1, classifier__min_samples_split=10; total time=   0.1s\n",
      "[CV] END classifier__max_depth=30, classifier__max_features=log2, classifier__min_samples_leaf=1, classifier__min_samples_split=10; total time=   0.1s\n",
      "[CV] END classifier__max_depth=10, classifier__max_features=log2, classifier__min_samples_leaf=4, classifier__min_samples_split=2; total time=   0.1s\n",
      "[CV] END classifier__max_depth=10, classifier__max_features=log2, classifier__min_samples_leaf=4, classifier__min_samples_split=2; total time=   0.1s\n",
      "[CV] END classifier__max_depth=10, classifier__max_features=log2, classifier__min_samples_leaf=4, classifier__min_samples_split=2; total time=   0.1s\n",
      "[CV] END classifier__max_depth=10, classifier__max_features=log2, classifier__min_samples_leaf=4, classifier__min_samples_split=2; total time=   0.1s\n",
      "[CV] END classifier__max_depth=10, classifier__max_features=log2, classifier__min_samples_leaf=4, classifier__min_samples_split=2; total time=   0.1s\n",
      "[CV] END classifier__max_depth=30, classifier__max_features=log2, classifier__min_samples_leaf=1, classifier__min_samples_split=5; total time=   0.1s\n",
      "[CV] END classifier__max_depth=30, classifier__max_features=log2, classifier__min_samples_leaf=1, classifier__min_samples_split=5; total time=   0.1s\n",
      "[CV] END classifier__max_depth=30, classifier__max_features=log2, classifier__min_samples_leaf=1, classifier__min_samples_split=5; total time=   0.1s\n",
      "[CV] END classifier__max_depth=30, classifier__max_features=log2, classifier__min_samples_leaf=1, classifier__min_samples_split=5; total time=   0.1s\n",
      "[CV] END classifier__max_depth=30, classifier__max_features=log2, classifier__min_samples_leaf=1, classifier__min_samples_split=5; total time=   0.1s\n",
      "[CV] END classifier__max_depth=50, classifier__max_features=sqrt, classifier__min_samples_leaf=1, classifier__min_samples_split=2; total time=   0.1s\n",
      "[CV] END classifier__max_depth=50, classifier__max_features=sqrt, classifier__min_samples_leaf=1, classifier__min_samples_split=2; total time=   0.1s\n",
      "[CV] END classifier__max_depth=50, classifier__max_features=sqrt, classifier__min_samples_leaf=1, classifier__min_samples_split=2; total time=   0.2s\n",
      "[CV] END classifier__max_depth=50, classifier__max_features=sqrt, classifier__min_samples_leaf=1, classifier__min_samples_split=2; total time=   0.2s\n",
      "[CV] END classifier__max_depth=50, classifier__max_features=sqrt, classifier__min_samples_leaf=1, classifier__min_samples_split=2; total time=   0.1s\n",
      "Best parameters for dt: {'classifier__min_samples_split': 5, 'classifier__min_samples_leaf': 1, 'classifier__max_features': 'auto', 'classifier__max_depth': 40}\n",
      "Classification report for dt:\n",
      "              precision    recall  f1-score   support\n",
      "\n",
      "           0       0.87      0.97      0.92     20218\n",
      "           1       0.87      0.60      0.71      7113\n",
      "\n",
      "    accuracy                           0.87     27331\n",
      "   macro avg       0.87      0.78      0.81     27331\n",
      "weighted avg       0.87      0.87      0.86     27331\n",
      "\n",
      "Confusion Matrix for dt:\n",
      "[[19587   631]\n",
      " [ 2859  4254]]\n",
      "\n",
      "AUC for dt: 0.79\n",
      "\n",
      "Fitting 5 folds for each of 10 candidates, totalling 50 fits\n",
      "[CV] END classifier__colsample_bytree=0.6, classifier__gamma=0.1, classifier__learning_rate=0.05, classifier__max_depth=10, classifier__min_child_weight=5, classifier__n_estimators=150, classifier__subsample=1.0; total time=   2.6s\n"
     ]
    },
    {
     "name": "stdout",
     "output_type": "stream",
     "text": [
      "[CV] END classifier__colsample_bytree=0.6, classifier__gamma=0.1, classifier__learning_rate=0.05, classifier__max_depth=10, classifier__min_child_weight=5, classifier__n_estimators=150, classifier__subsample=1.0; total time=   2.0s\n",
      "[CV] END classifier__colsample_bytree=0.6, classifier__gamma=0.1, classifier__learning_rate=0.05, classifier__max_depth=10, classifier__min_child_weight=5, classifier__n_estimators=150, classifier__subsample=1.0; total time=   2.1s\n",
      "[CV] END classifier__colsample_bytree=0.6, classifier__gamma=0.1, classifier__learning_rate=0.05, classifier__max_depth=10, classifier__min_child_weight=5, classifier__n_estimators=150, classifier__subsample=1.0; total time=   2.0s\n",
      "[CV] END classifier__colsample_bytree=0.6, classifier__gamma=0.1, classifier__learning_rate=0.05, classifier__max_depth=10, classifier__min_child_weight=5, classifier__n_estimators=150, classifier__subsample=1.0; total time=   2.0s\n",
      "[CV] END classifier__colsample_bytree=1.0, classifier__gamma=0.1, classifier__learning_rate=0.05, classifier__max_depth=5, classifier__min_child_weight=5, classifier__n_estimators=50, classifier__subsample=1.0; total time=   0.5s\n",
      "[CV] END classifier__colsample_bytree=1.0, classifier__gamma=0.1, classifier__learning_rate=0.05, classifier__max_depth=5, classifier__min_child_weight=5, classifier__n_estimators=50, classifier__subsample=1.0; total time=   0.5s\n",
      "[CV] END classifier__colsample_bytree=1.0, classifier__gamma=0.1, classifier__learning_rate=0.05, classifier__max_depth=5, classifier__min_child_weight=5, classifier__n_estimators=50, classifier__subsample=1.0; total time=   0.6s\n",
      "[CV] END classifier__colsample_bytree=1.0, classifier__gamma=0.1, classifier__learning_rate=0.05, classifier__max_depth=5, classifier__min_child_weight=5, classifier__n_estimators=50, classifier__subsample=1.0; total time=   0.5s\n",
      "[CV] END classifier__colsample_bytree=1.0, classifier__gamma=0.1, classifier__learning_rate=0.05, classifier__max_depth=5, classifier__min_child_weight=5, classifier__n_estimators=50, classifier__subsample=1.0; total time=   0.5s\n",
      "[CV] END classifier__colsample_bytree=1.0, classifier__gamma=0.1, classifier__learning_rate=0.01, classifier__max_depth=5, classifier__min_child_weight=1, classifier__n_estimators=150, classifier__subsample=0.6; total time=   1.2s\n",
      "[CV] END classifier__colsample_bytree=1.0, classifier__gamma=0.1, classifier__learning_rate=0.01, classifier__max_depth=5, classifier__min_child_weight=1, classifier__n_estimators=150, classifier__subsample=0.6; total time=   1.2s\n",
      "[CV] END classifier__colsample_bytree=1.0, classifier__gamma=0.1, classifier__learning_rate=0.01, classifier__max_depth=5, classifier__min_child_weight=1, classifier__n_estimators=150, classifier__subsample=0.6; total time=   1.2s\n",
      "[CV] END classifier__colsample_bytree=1.0, classifier__gamma=0.1, classifier__learning_rate=0.01, classifier__max_depth=5, classifier__min_child_weight=1, classifier__n_estimators=150, classifier__subsample=0.6; total time=   1.2s\n",
      "[CV] END classifier__colsample_bytree=1.0, classifier__gamma=0.1, classifier__learning_rate=0.01, classifier__max_depth=5, classifier__min_child_weight=1, classifier__n_estimators=150, classifier__subsample=0.6; total time=   1.2s\n",
      "[CV] END classifier__colsample_bytree=1.0, classifier__gamma=0.1, classifier__learning_rate=0.01, classifier__max_depth=3, classifier__min_child_weight=1, classifier__n_estimators=150, classifier__subsample=0.8; total time=   1.0s\n",
      "[CV] END classifier__colsample_bytree=1.0, classifier__gamma=0.1, classifier__learning_rate=0.01, classifier__max_depth=3, classifier__min_child_weight=1, classifier__n_estimators=150, classifier__subsample=0.8; total time=   1.0s\n",
      "[CV] END classifier__colsample_bytree=1.0, classifier__gamma=0.1, classifier__learning_rate=0.01, classifier__max_depth=3, classifier__min_child_weight=1, classifier__n_estimators=150, classifier__subsample=0.8; total time=   1.1s\n",
      "[CV] END classifier__colsample_bytree=1.0, classifier__gamma=0.1, classifier__learning_rate=0.01, classifier__max_depth=3, classifier__min_child_weight=1, classifier__n_estimators=150, classifier__subsample=0.8; total time=   1.0s\n",
      "[CV] END classifier__colsample_bytree=1.0, classifier__gamma=0.1, classifier__learning_rate=0.01, classifier__max_depth=3, classifier__min_child_weight=1, classifier__n_estimators=150, classifier__subsample=0.8; total time=   1.0s\n",
      "[CV] END classifier__colsample_bytree=0.8, classifier__gamma=0.2, classifier__learning_rate=0.1, classifier__max_depth=3, classifier__min_child_weight=5, classifier__n_estimators=100, classifier__subsample=0.8; total time=   0.8s\n",
      "[CV] END classifier__colsample_bytree=0.8, classifier__gamma=0.2, classifier__learning_rate=0.1, classifier__max_depth=3, classifier__min_child_weight=5, classifier__n_estimators=100, classifier__subsample=0.8; total time=   0.8s\n",
      "[CV] END classifier__colsample_bytree=0.8, classifier__gamma=0.2, classifier__learning_rate=0.1, classifier__max_depth=3, classifier__min_child_weight=5, classifier__n_estimators=100, classifier__subsample=0.8; total time=   0.8s\n",
      "[CV] END classifier__colsample_bytree=0.8, classifier__gamma=0.2, classifier__learning_rate=0.1, classifier__max_depth=3, classifier__min_child_weight=5, classifier__n_estimators=100, classifier__subsample=0.8; total time=   0.8s\n",
      "[CV] END classifier__colsample_bytree=0.8, classifier__gamma=0.2, classifier__learning_rate=0.1, classifier__max_depth=3, classifier__min_child_weight=5, classifier__n_estimators=100, classifier__subsample=0.8; total time=   0.8s\n",
      "[CV] END classifier__colsample_bytree=0.8, classifier__gamma=0.1, classifier__learning_rate=0.05, classifier__max_depth=5, classifier__min_child_weight=5, classifier__n_estimators=150, classifier__subsample=1.0; total time=   1.1s\n",
      "[CV] END classifier__colsample_bytree=0.8, classifier__gamma=0.1, classifier__learning_rate=0.05, classifier__max_depth=5, classifier__min_child_weight=5, classifier__n_estimators=150, classifier__subsample=1.0; total time=   1.1s\n",
      "[CV] END classifier__colsample_bytree=0.8, classifier__gamma=0.1, classifier__learning_rate=0.05, classifier__max_depth=5, classifier__min_child_weight=5, classifier__n_estimators=150, classifier__subsample=1.0; total time=   1.1s\n",
      "[CV] END classifier__colsample_bytree=0.8, classifier__gamma=0.1, classifier__learning_rate=0.05, classifier__max_depth=5, classifier__min_child_weight=5, classifier__n_estimators=150, classifier__subsample=1.0; total time=   1.0s\n",
      "[CV] END classifier__colsample_bytree=0.8, classifier__gamma=0.1, classifier__learning_rate=0.05, classifier__max_depth=5, classifier__min_child_weight=5, classifier__n_estimators=150, classifier__subsample=1.0; total time=   1.1s\n",
      "[CV] END classifier__colsample_bytree=1.0, classifier__gamma=0.1, classifier__learning_rate=0.2, classifier__max_depth=10, classifier__min_child_weight=1, classifier__n_estimators=200, classifier__subsample=0.8; total time=   2.0s\n",
      "[CV] END classifier__colsample_bytree=1.0, classifier__gamma=0.1, classifier__learning_rate=0.2, classifier__max_depth=10, classifier__min_child_weight=1, classifier__n_estimators=200, classifier__subsample=0.8; total time=   2.1s\n",
      "[CV] END classifier__colsample_bytree=1.0, classifier__gamma=0.1, classifier__learning_rate=0.2, classifier__max_depth=10, classifier__min_child_weight=1, classifier__n_estimators=200, classifier__subsample=0.8; total time=   2.2s\n",
      "[CV] END classifier__colsample_bytree=1.0, classifier__gamma=0.1, classifier__learning_rate=0.2, classifier__max_depth=10, classifier__min_child_weight=1, classifier__n_estimators=200, classifier__subsample=0.8; total time=   2.0s\n",
      "[CV] END classifier__colsample_bytree=1.0, classifier__gamma=0.1, classifier__learning_rate=0.2, classifier__max_depth=10, classifier__min_child_weight=1, classifier__n_estimators=200, classifier__subsample=0.8; total time=   2.0s\n",
      "[CV] END classifier__colsample_bytree=1.0, classifier__gamma=0.2, classifier__learning_rate=0.2, classifier__max_depth=7, classifier__min_child_weight=1, classifier__n_estimators=50, classifier__subsample=0.8; total time=   0.6s\n",
      "[CV] END classifier__colsample_bytree=1.0, classifier__gamma=0.2, classifier__learning_rate=0.2, classifier__max_depth=7, classifier__min_child_weight=1, classifier__n_estimators=50, classifier__subsample=0.8; total time=   0.6s\n"
     ]
    },
    {
     "name": "stdout",
     "output_type": "stream",
     "text": [
      "[CV] END classifier__colsample_bytree=1.0, classifier__gamma=0.2, classifier__learning_rate=0.2, classifier__max_depth=7, classifier__min_child_weight=1, classifier__n_estimators=50, classifier__subsample=0.8; total time=   0.6s\n",
      "[CV] END classifier__colsample_bytree=1.0, classifier__gamma=0.2, classifier__learning_rate=0.2, classifier__max_depth=7, classifier__min_child_weight=1, classifier__n_estimators=50, classifier__subsample=0.8; total time=   0.6s\n",
      "[CV] END classifier__colsample_bytree=1.0, classifier__gamma=0.2, classifier__learning_rate=0.2, classifier__max_depth=7, classifier__min_child_weight=1, classifier__n_estimators=50, classifier__subsample=0.8; total time=   0.6s\n",
      "[CV] END classifier__colsample_bytree=0.6, classifier__gamma=0, classifier__learning_rate=0.2, classifier__max_depth=3, classifier__min_child_weight=5, classifier__n_estimators=200, classifier__subsample=0.8; total time=   1.3s\n",
      "[CV] END classifier__colsample_bytree=0.6, classifier__gamma=0, classifier__learning_rate=0.2, classifier__max_depth=3, classifier__min_child_weight=5, classifier__n_estimators=200, classifier__subsample=0.8; total time=   1.2s\n",
      "[CV] END classifier__colsample_bytree=0.6, classifier__gamma=0, classifier__learning_rate=0.2, classifier__max_depth=3, classifier__min_child_weight=5, classifier__n_estimators=200, classifier__subsample=0.8; total time=   1.3s\n",
      "[CV] END classifier__colsample_bytree=0.6, classifier__gamma=0, classifier__learning_rate=0.2, classifier__max_depth=3, classifier__min_child_weight=5, classifier__n_estimators=200, classifier__subsample=0.8; total time=   1.2s\n",
      "[CV] END classifier__colsample_bytree=0.6, classifier__gamma=0, classifier__learning_rate=0.2, classifier__max_depth=3, classifier__min_child_weight=5, classifier__n_estimators=200, classifier__subsample=0.8; total time=   1.3s\n",
      "[CV] END classifier__colsample_bytree=1.0, classifier__gamma=0.1, classifier__learning_rate=0.05, classifier__max_depth=3, classifier__min_child_weight=1, classifier__n_estimators=150, classifier__subsample=0.6; total time=   1.1s\n",
      "[CV] END classifier__colsample_bytree=1.0, classifier__gamma=0.1, classifier__learning_rate=0.05, classifier__max_depth=3, classifier__min_child_weight=1, classifier__n_estimators=150, classifier__subsample=0.6; total time=   1.1s\n",
      "[CV] END classifier__colsample_bytree=1.0, classifier__gamma=0.1, classifier__learning_rate=0.05, classifier__max_depth=3, classifier__min_child_weight=1, classifier__n_estimators=150, classifier__subsample=0.6; total time=   1.3s\n",
      "[CV] END classifier__colsample_bytree=1.0, classifier__gamma=0.1, classifier__learning_rate=0.05, classifier__max_depth=3, classifier__min_child_weight=1, classifier__n_estimators=150, classifier__subsample=0.6; total time=   1.2s\n",
      "[CV] END classifier__colsample_bytree=1.0, classifier__gamma=0.1, classifier__learning_rate=0.05, classifier__max_depth=3, classifier__min_child_weight=1, classifier__n_estimators=150, classifier__subsample=0.6; total time=   1.0s\n",
      "Best parameters for xgb: {'classifier__subsample': 0.6, 'classifier__n_estimators': 150, 'classifier__min_child_weight': 1, 'classifier__max_depth': 3, 'classifier__learning_rate': 0.05, 'classifier__gamma': 0.1, 'classifier__colsample_bytree': 1.0}\n",
      "Classification report for xgb:\n",
      "              precision    recall  f1-score   support\n",
      "\n",
      "           0       0.87      1.00      0.93     20218\n",
      "           1       0.98      0.57      0.72      7113\n",
      "\n",
      "    accuracy                           0.89     27331\n",
      "   macro avg       0.93      0.78      0.83     27331\n",
      "weighted avg       0.90      0.89      0.87     27331\n",
      "\n",
      "Confusion Matrix for xgb:\n",
      "[[20142    76]\n",
      " [ 3047  4066]]\n",
      "\n",
      "AUC for xgb: 0.93\n",
      "\n",
      "Fitting 5 folds for each of 10 candidates, totalling 50 fits\n"
     ]
    },
    {
     "name": "stderr",
     "output_type": "stream",
     "text": [
      "C:\\ProgramData\\Anaconda3\\lib\\site-packages\\sklearn\\linear_model\\_logistic.py:1476: UserWarning: l1_ratio parameter is only used when penalty is 'elasticnet'. Got (penalty=l1)\n",
      "  warnings.warn(\n",
      "C:\\ProgramData\\Anaconda3\\lib\\site-packages\\sklearn\\linear_model\\_sag.py:352: ConvergenceWarning: The max_iter was reached which means the coef_ did not converge\n",
      "  warnings.warn(\n",
      "C:\\ProgramData\\Anaconda3\\lib\\site-packages\\sklearn\\linear_model\\_logistic.py:1476: UserWarning: l1_ratio parameter is only used when penalty is 'elasticnet'. Got (penalty=l1)\n",
      "  warnings.warn(\n"
     ]
    },
    {
     "name": "stdout",
     "output_type": "stream",
     "text": [
      "[CV] END classifier__C=100, classifier__l1_ratio=0.1, classifier__penalty=l1, classifier__solver=saga; total time=   9.8s\n"
     ]
    },
    {
     "name": "stderr",
     "output_type": "stream",
     "text": [
      "C:\\ProgramData\\Anaconda3\\lib\\site-packages\\sklearn\\linear_model\\_sag.py:352: ConvergenceWarning: The max_iter was reached which means the coef_ did not converge\n",
      "  warnings.warn(\n",
      "C:\\ProgramData\\Anaconda3\\lib\\site-packages\\sklearn\\linear_model\\_logistic.py:1476: UserWarning: l1_ratio parameter is only used when penalty is 'elasticnet'. Got (penalty=l1)\n",
      "  warnings.warn(\n"
     ]
    },
    {
     "name": "stdout",
     "output_type": "stream",
     "text": [
      "[CV] END classifier__C=100, classifier__l1_ratio=0.1, classifier__penalty=l1, classifier__solver=saga; total time=   9.8s\n"
     ]
    },
    {
     "name": "stderr",
     "output_type": "stream",
     "text": [
      "C:\\ProgramData\\Anaconda3\\lib\\site-packages\\sklearn\\linear_model\\_sag.py:352: ConvergenceWarning: The max_iter was reached which means the coef_ did not converge\n",
      "  warnings.warn(\n",
      "C:\\ProgramData\\Anaconda3\\lib\\site-packages\\sklearn\\linear_model\\_logistic.py:1476: UserWarning: l1_ratio parameter is only used when penalty is 'elasticnet'. Got (penalty=l1)\n",
      "  warnings.warn(\n"
     ]
    },
    {
     "name": "stdout",
     "output_type": "stream",
     "text": [
      "[CV] END classifier__C=100, classifier__l1_ratio=0.1, classifier__penalty=l1, classifier__solver=saga; total time=   9.6s\n"
     ]
    },
    {
     "name": "stderr",
     "output_type": "stream",
     "text": [
      "C:\\ProgramData\\Anaconda3\\lib\\site-packages\\sklearn\\linear_model\\_sag.py:352: ConvergenceWarning: The max_iter was reached which means the coef_ did not converge\n",
      "  warnings.warn(\n",
      "C:\\ProgramData\\Anaconda3\\lib\\site-packages\\sklearn\\linear_model\\_logistic.py:1476: UserWarning: l1_ratio parameter is only used when penalty is 'elasticnet'. Got (penalty=l1)\n",
      "  warnings.warn(\n"
     ]
    },
    {
     "name": "stdout",
     "output_type": "stream",
     "text": [
      "[CV] END classifier__C=100, classifier__l1_ratio=0.1, classifier__penalty=l1, classifier__solver=saga; total time=   9.5s\n"
     ]
    },
    {
     "name": "stderr",
     "output_type": "stream",
     "text": [
      "C:\\ProgramData\\Anaconda3\\lib\\site-packages\\sklearn\\linear_model\\_sag.py:352: ConvergenceWarning: The max_iter was reached which means the coef_ did not converge\n",
      "  warnings.warn(\n",
      "C:\\ProgramData\\Anaconda3\\lib\\site-packages\\sklearn\\linear_model\\_logistic.py:1476: UserWarning: l1_ratio parameter is only used when penalty is 'elasticnet'. Got (penalty=l2)\n",
      "  warnings.warn(\n"
     ]
    },
    {
     "name": "stdout",
     "output_type": "stream",
     "text": [
      "[CV] END classifier__C=100, classifier__l1_ratio=0.1, classifier__penalty=l1, classifier__solver=saga; total time=   9.8s\n"
     ]
    },
    {
     "name": "stderr",
     "output_type": "stream",
     "text": [
      "C:\\ProgramData\\Anaconda3\\lib\\site-packages\\sklearn\\linear_model\\_sag.py:352: ConvergenceWarning: The max_iter was reached which means the coef_ did not converge\n",
      "  warnings.warn(\n",
      "C:\\ProgramData\\Anaconda3\\lib\\site-packages\\sklearn\\linear_model\\_logistic.py:1476: UserWarning: l1_ratio parameter is only used when penalty is 'elasticnet'. Got (penalty=l2)\n",
      "  warnings.warn(\n"
     ]
    },
    {
     "name": "stdout",
     "output_type": "stream",
     "text": [
      "[CV] END classifier__C=10, classifier__l1_ratio=1, classifier__penalty=l2, classifier__solver=saga; total time=   7.0s\n"
     ]
    },
    {
     "name": "stderr",
     "output_type": "stream",
     "text": [
      "C:\\ProgramData\\Anaconda3\\lib\\site-packages\\sklearn\\linear_model\\_sag.py:352: ConvergenceWarning: The max_iter was reached which means the coef_ did not converge\n",
      "  warnings.warn(\n",
      "C:\\ProgramData\\Anaconda3\\lib\\site-packages\\sklearn\\linear_model\\_logistic.py:1476: UserWarning: l1_ratio parameter is only used when penalty is 'elasticnet'. Got (penalty=l2)\n",
      "  warnings.warn(\n"
     ]
    },
    {
     "name": "stdout",
     "output_type": "stream",
     "text": [
      "[CV] END classifier__C=10, classifier__l1_ratio=1, classifier__penalty=l2, classifier__solver=saga; total time=   6.9s\n"
     ]
    },
    {
     "name": "stderr",
     "output_type": "stream",
     "text": [
      "C:\\ProgramData\\Anaconda3\\lib\\site-packages\\sklearn\\linear_model\\_sag.py:352: ConvergenceWarning: The max_iter was reached which means the coef_ did not converge\n",
      "  warnings.warn(\n",
      "C:\\ProgramData\\Anaconda3\\lib\\site-packages\\sklearn\\linear_model\\_logistic.py:1476: UserWarning: l1_ratio parameter is only used when penalty is 'elasticnet'. Got (penalty=l2)\n",
      "  warnings.warn(\n"
     ]
    },
    {
     "name": "stdout",
     "output_type": "stream",
     "text": [
      "[CV] END classifier__C=10, classifier__l1_ratio=1, classifier__penalty=l2, classifier__solver=saga; total time=   6.9s\n"
     ]
    },
    {
     "name": "stderr",
     "output_type": "stream",
     "text": [
      "C:\\ProgramData\\Anaconda3\\lib\\site-packages\\sklearn\\linear_model\\_sag.py:352: ConvergenceWarning: The max_iter was reached which means the coef_ did not converge\n",
      "  warnings.warn(\n",
      "C:\\ProgramData\\Anaconda3\\lib\\site-packages\\sklearn\\linear_model\\_logistic.py:1476: UserWarning: l1_ratio parameter is only used when penalty is 'elasticnet'. Got (penalty=l2)\n",
      "  warnings.warn(\n"
     ]
    },
    {
     "name": "stdout",
     "output_type": "stream",
     "text": [
      "[CV] END classifier__C=10, classifier__l1_ratio=1, classifier__penalty=l2, classifier__solver=saga; total time=   7.1s\n"
     ]
    },
    {
     "name": "stderr",
     "output_type": "stream",
     "text": [
      "C:\\ProgramData\\Anaconda3\\lib\\site-packages\\sklearn\\linear_model\\_sag.py:352: ConvergenceWarning: The max_iter was reached which means the coef_ did not converge\n",
      "  warnings.warn(\n",
      "C:\\ProgramData\\Anaconda3\\lib\\site-packages\\sklearn\\linear_model\\_logistic.py:1476: UserWarning: l1_ratio parameter is only used when penalty is 'elasticnet'. Got (penalty=l2)\n",
      "  warnings.warn(\n"
     ]
    },
    {
     "name": "stdout",
     "output_type": "stream",
     "text": [
      "[CV] END classifier__C=10, classifier__l1_ratio=1, classifier__penalty=l2, classifier__solver=saga; total time=   7.0s\n"
     ]
    },
    {
     "name": "stderr",
     "output_type": "stream",
     "text": [
      "C:\\ProgramData\\Anaconda3\\lib\\site-packages\\sklearn\\linear_model\\_sag.py:352: ConvergenceWarning: The max_iter was reached which means the coef_ did not converge\n",
      "  warnings.warn(\n",
      "C:\\ProgramData\\Anaconda3\\lib\\site-packages\\sklearn\\linear_model\\_logistic.py:1476: UserWarning: l1_ratio parameter is only used when penalty is 'elasticnet'. Got (penalty=l2)\n",
      "  warnings.warn(\n"
     ]
    },
    {
     "name": "stdout",
     "output_type": "stream",
     "text": [
      "[CV] END classifier__C=10, classifier__l1_ratio=0.7, classifier__penalty=l2, classifier__solver=saga; total time=   7.0s\n"
     ]
    },
    {
     "name": "stderr",
     "output_type": "stream",
     "text": [
      "C:\\ProgramData\\Anaconda3\\lib\\site-packages\\sklearn\\linear_model\\_sag.py:352: ConvergenceWarning: The max_iter was reached which means the coef_ did not converge\n",
      "  warnings.warn(\n",
      "C:\\ProgramData\\Anaconda3\\lib\\site-packages\\sklearn\\linear_model\\_logistic.py:1476: UserWarning: l1_ratio parameter is only used when penalty is 'elasticnet'. Got (penalty=l2)\n",
      "  warnings.warn(\n"
     ]
    },
    {
     "name": "stdout",
     "output_type": "stream",
     "text": [
      "[CV] END classifier__C=10, classifier__l1_ratio=0.7, classifier__penalty=l2, classifier__solver=saga; total time=   7.1s\n"
     ]
    },
    {
     "name": "stderr",
     "output_type": "stream",
     "text": [
      "C:\\ProgramData\\Anaconda3\\lib\\site-packages\\sklearn\\linear_model\\_sag.py:352: ConvergenceWarning: The max_iter was reached which means the coef_ did not converge\n",
      "  warnings.warn(\n",
      "C:\\ProgramData\\Anaconda3\\lib\\site-packages\\sklearn\\linear_model\\_logistic.py:1476: UserWarning: l1_ratio parameter is only used when penalty is 'elasticnet'. Got (penalty=l2)\n",
      "  warnings.warn(\n"
     ]
    },
    {
     "name": "stdout",
     "output_type": "stream",
     "text": [
      "[CV] END classifier__C=10, classifier__l1_ratio=0.7, classifier__penalty=l2, classifier__solver=saga; total time=   7.0s\n"
     ]
    },
    {
     "name": "stderr",
     "output_type": "stream",
     "text": [
      "C:\\ProgramData\\Anaconda3\\lib\\site-packages\\sklearn\\linear_model\\_sag.py:352: ConvergenceWarning: The max_iter was reached which means the coef_ did not converge\n",
      "  warnings.warn(\n",
      "C:\\ProgramData\\Anaconda3\\lib\\site-packages\\sklearn\\linear_model\\_logistic.py:1476: UserWarning: l1_ratio parameter is only used when penalty is 'elasticnet'. Got (penalty=l2)\n",
      "  warnings.warn(\n"
     ]
    },
    {
     "name": "stdout",
     "output_type": "stream",
     "text": [
      "[CV] END classifier__C=10, classifier__l1_ratio=0.7, classifier__penalty=l2, classifier__solver=saga; total time=   7.0s\n"
     ]
    },
    {
     "name": "stderr",
     "output_type": "stream",
     "text": [
      "C:\\ProgramData\\Anaconda3\\lib\\site-packages\\sklearn\\linear_model\\_sag.py:352: ConvergenceWarning: The max_iter was reached which means the coef_ did not converge\n",
      "  warnings.warn(\n"
     ]
    },
    {
     "name": "stdout",
     "output_type": "stream",
     "text": [
      "[CV] END classifier__C=10, classifier__l1_ratio=0.7, classifier__penalty=l2, classifier__solver=saga; total time=   7.1s\n"
     ]
    },
    {
     "name": "stderr",
     "output_type": "stream",
     "text": [
      "C:\\ProgramData\\Anaconda3\\lib\\site-packages\\sklearn\\linear_model\\_sag.py:352: ConvergenceWarning: The max_iter was reached which means the coef_ did not converge\n",
      "  warnings.warn(\n"
     ]
    },
    {
     "name": "stdout",
     "output_type": "stream",
     "text": [
      "[CV] END classifier__C=100, classifier__l1_ratio=1, classifier__penalty=elasticnet, classifier__solver=saga; total time=   9.7s\n"
     ]
    },
    {
     "name": "stderr",
     "output_type": "stream",
     "text": [
      "C:\\ProgramData\\Anaconda3\\lib\\site-packages\\sklearn\\linear_model\\_sag.py:352: ConvergenceWarning: The max_iter was reached which means the coef_ did not converge\n",
      "  warnings.warn(\n"
     ]
    },
    {
     "name": "stdout",
     "output_type": "stream",
     "text": [
      "[CV] END classifier__C=100, classifier__l1_ratio=1, classifier__penalty=elasticnet, classifier__solver=saga; total time=   9.8s\n"
     ]
    },
    {
     "name": "stderr",
     "output_type": "stream",
     "text": [
      "C:\\ProgramData\\Anaconda3\\lib\\site-packages\\sklearn\\linear_model\\_sag.py:352: ConvergenceWarning: The max_iter was reached which means the coef_ did not converge\n",
      "  warnings.warn(\n"
     ]
    },
    {
     "name": "stdout",
     "output_type": "stream",
     "text": [
      "[CV] END classifier__C=100, classifier__l1_ratio=1, classifier__penalty=elasticnet, classifier__solver=saga; total time=   9.5s\n"
     ]
    },
    {
     "name": "stderr",
     "output_type": "stream",
     "text": [
      "C:\\ProgramData\\Anaconda3\\lib\\site-packages\\sklearn\\linear_model\\_sag.py:352: ConvergenceWarning: The max_iter was reached which means the coef_ did not converge\n",
      "  warnings.warn(\n"
     ]
    },
    {
     "name": "stdout",
     "output_type": "stream",
     "text": [
      "[CV] END classifier__C=100, classifier__l1_ratio=1, classifier__penalty=elasticnet, classifier__solver=saga; total time=   9.4s\n"
     ]
    },
    {
     "name": "stderr",
     "output_type": "stream",
     "text": [
      "C:\\ProgramData\\Anaconda3\\lib\\site-packages\\sklearn\\linear_model\\_sag.py:352: ConvergenceWarning: The max_iter was reached which means the coef_ did not converge\n",
      "  warnings.warn(\n",
      "C:\\ProgramData\\Anaconda3\\lib\\site-packages\\sklearn\\linear_model\\_logistic.py:1476: UserWarning: l1_ratio parameter is only used when penalty is 'elasticnet'. Got (penalty=l2)\n",
      "  warnings.warn(\n"
     ]
    },
    {
     "name": "stdout",
     "output_type": "stream",
     "text": [
      "[CV] END classifier__C=100, classifier__l1_ratio=1, classifier__penalty=elasticnet, classifier__solver=saga; total time=   9.3s\n",
      "[CV] END classifier__C=0.1, classifier__l1_ratio=0.1, classifier__penalty=l2, classifier__solver=saga; total time=   3.0s\n"
     ]
    },
    {
     "name": "stderr",
     "output_type": "stream",
     "text": [
      "C:\\ProgramData\\Anaconda3\\lib\\site-packages\\sklearn\\linear_model\\_logistic.py:1476: UserWarning: l1_ratio parameter is only used when penalty is 'elasticnet'. Got (penalty=l2)\n",
      "  warnings.warn(\n"
     ]
    },
    {
     "name": "stdout",
     "output_type": "stream",
     "text": [
      "[CV] END classifier__C=0.1, classifier__l1_ratio=0.1, classifier__penalty=l2, classifier__solver=saga; total time=   3.1s\n"
     ]
    },
    {
     "name": "stderr",
     "output_type": "stream",
     "text": [
      "C:\\ProgramData\\Anaconda3\\lib\\site-packages\\sklearn\\linear_model\\_logistic.py:1476: UserWarning: l1_ratio parameter is only used when penalty is 'elasticnet'. Got (penalty=l2)\n",
      "  warnings.warn(\n"
     ]
    },
    {
     "name": "stdout",
     "output_type": "stream",
     "text": [
      "[CV] END classifier__C=0.1, classifier__l1_ratio=0.1, classifier__penalty=l2, classifier__solver=saga; total time=   3.1s\n"
     ]
    },
    {
     "name": "stderr",
     "output_type": "stream",
     "text": [
      "C:\\ProgramData\\Anaconda3\\lib\\site-packages\\sklearn\\linear_model\\_logistic.py:1476: UserWarning: l1_ratio parameter is only used when penalty is 'elasticnet'. Got (penalty=l2)\n",
      "  warnings.warn(\n"
     ]
    },
    {
     "name": "stdout",
     "output_type": "stream",
     "text": [
      "[CV] END classifier__C=0.1, classifier__l1_ratio=0.1, classifier__penalty=l2, classifier__solver=saga; total time=   3.0s\n"
     ]
    },
    {
     "name": "stderr",
     "output_type": "stream",
     "text": [
      "C:\\ProgramData\\Anaconda3\\lib\\site-packages\\sklearn\\linear_model\\_logistic.py:1476: UserWarning: l1_ratio parameter is only used when penalty is 'elasticnet'. Got (penalty=l2)\n",
      "  warnings.warn(\n"
     ]
    },
    {
     "name": "stdout",
     "output_type": "stream",
     "text": [
      "[CV] END classifier__C=0.1, classifier__l1_ratio=0.1, classifier__penalty=l2, classifier__solver=saga; total time=   3.1s\n"
     ]
    },
    {
     "name": "stderr",
     "output_type": "stream",
     "text": [
      "C:\\ProgramData\\Anaconda3\\lib\\site-packages\\sklearn\\linear_model\\_logistic.py:1476: UserWarning: l1_ratio parameter is only used when penalty is 'elasticnet'. Got (penalty=none)\n",
      "  warnings.warn(\n",
      "C:\\ProgramData\\Anaconda3\\lib\\site-packages\\sklearn\\linear_model\\_logistic.py:1483: UserWarning: Setting penalty='none' will ignore the C and l1_ratio parameters\n",
      "  warnings.warn(\n",
      "C:\\ProgramData\\Anaconda3\\lib\\site-packages\\sklearn\\linear_model\\_sag.py:352: ConvergenceWarning: The max_iter was reached which means the coef_ did not converge\n",
      "  warnings.warn(\n",
      "C:\\ProgramData\\Anaconda3\\lib\\site-packages\\sklearn\\linear_model\\_logistic.py:1476: UserWarning: l1_ratio parameter is only used when penalty is 'elasticnet'. Got (penalty=none)\n",
      "  warnings.warn(\n",
      "C:\\ProgramData\\Anaconda3\\lib\\site-packages\\sklearn\\linear_model\\_logistic.py:1483: UserWarning: Setting penalty='none' will ignore the C and l1_ratio parameters\n",
      "  warnings.warn(\n"
     ]
    },
    {
     "name": "stdout",
     "output_type": "stream",
     "text": [
      "[CV] END classifier__C=10, classifier__l1_ratio=1, classifier__penalty=none, classifier__solver=saga; total time=   6.9s\n"
     ]
    },
    {
     "name": "stderr",
     "output_type": "stream",
     "text": [
      "C:\\ProgramData\\Anaconda3\\lib\\site-packages\\sklearn\\linear_model\\_sag.py:352: ConvergenceWarning: The max_iter was reached which means the coef_ did not converge\n",
      "  warnings.warn(\n",
      "C:\\ProgramData\\Anaconda3\\lib\\site-packages\\sklearn\\linear_model\\_logistic.py:1476: UserWarning: l1_ratio parameter is only used when penalty is 'elasticnet'. Got (penalty=none)\n",
      "  warnings.warn(\n",
      "C:\\ProgramData\\Anaconda3\\lib\\site-packages\\sklearn\\linear_model\\_logistic.py:1483: UserWarning: Setting penalty='none' will ignore the C and l1_ratio parameters\n",
      "  warnings.warn(\n"
     ]
    },
    {
     "name": "stdout",
     "output_type": "stream",
     "text": [
      "[CV] END classifier__C=10, classifier__l1_ratio=1, classifier__penalty=none, classifier__solver=saga; total time=   7.0s\n"
     ]
    },
    {
     "name": "stderr",
     "output_type": "stream",
     "text": [
      "C:\\ProgramData\\Anaconda3\\lib\\site-packages\\sklearn\\linear_model\\_sag.py:352: ConvergenceWarning: The max_iter was reached which means the coef_ did not converge\n",
      "  warnings.warn(\n",
      "C:\\ProgramData\\Anaconda3\\lib\\site-packages\\sklearn\\linear_model\\_logistic.py:1476: UserWarning: l1_ratio parameter is only used when penalty is 'elasticnet'. Got (penalty=none)\n",
      "  warnings.warn(\n",
      "C:\\ProgramData\\Anaconda3\\lib\\site-packages\\sklearn\\linear_model\\_logistic.py:1483: UserWarning: Setting penalty='none' will ignore the C and l1_ratio parameters\n",
      "  warnings.warn(\n"
     ]
    },
    {
     "name": "stdout",
     "output_type": "stream",
     "text": [
      "[CV] END classifier__C=10, classifier__l1_ratio=1, classifier__penalty=none, classifier__solver=saga; total time=   7.0s\n"
     ]
    },
    {
     "name": "stderr",
     "output_type": "stream",
     "text": [
      "C:\\ProgramData\\Anaconda3\\lib\\site-packages\\sklearn\\linear_model\\_sag.py:352: ConvergenceWarning: The max_iter was reached which means the coef_ did not converge\n",
      "  warnings.warn(\n",
      "C:\\ProgramData\\Anaconda3\\lib\\site-packages\\sklearn\\linear_model\\_logistic.py:1476: UserWarning: l1_ratio parameter is only used when penalty is 'elasticnet'. Got (penalty=none)\n",
      "  warnings.warn(\n",
      "C:\\ProgramData\\Anaconda3\\lib\\site-packages\\sklearn\\linear_model\\_logistic.py:1483: UserWarning: Setting penalty='none' will ignore the C and l1_ratio parameters\n",
      "  warnings.warn(\n"
     ]
    },
    {
     "name": "stdout",
     "output_type": "stream",
     "text": [
      "[CV] END classifier__C=10, classifier__l1_ratio=1, classifier__penalty=none, classifier__solver=saga; total time=   7.0s\n"
     ]
    },
    {
     "name": "stderr",
     "output_type": "stream",
     "text": [
      "C:\\ProgramData\\Anaconda3\\lib\\site-packages\\sklearn\\linear_model\\_sag.py:352: ConvergenceWarning: The max_iter was reached which means the coef_ did not converge\n",
      "  warnings.warn(\n",
      "C:\\ProgramData\\Anaconda3\\lib\\site-packages\\sklearn\\linear_model\\_logistic.py:1476: UserWarning: l1_ratio parameter is only used when penalty is 'elasticnet'. Got (penalty=l2)\n",
      "  warnings.warn(\n"
     ]
    },
    {
     "name": "stdout",
     "output_type": "stream",
     "text": [
      "[CV] END classifier__C=10, classifier__l1_ratio=1, classifier__penalty=none, classifier__solver=saga; total time=   6.9s\n"
     ]
    },
    {
     "name": "stderr",
     "output_type": "stream",
     "text": [
      "C:\\ProgramData\\Anaconda3\\lib\\site-packages\\sklearn\\linear_model\\_sag.py:352: ConvergenceWarning: The max_iter was reached which means the coef_ did not converge\n",
      "  warnings.warn(\n",
      "C:\\ProgramData\\Anaconda3\\lib\\site-packages\\sklearn\\linear_model\\_logistic.py:1476: UserWarning: l1_ratio parameter is only used when penalty is 'elasticnet'. Got (penalty=l2)\n",
      "  warnings.warn(\n"
     ]
    },
    {
     "name": "stdout",
     "output_type": "stream",
     "text": [
      "[CV] END classifier__C=10, classifier__l1_ratio=0.5, classifier__penalty=l2, classifier__solver=saga; total time=   6.9s\n"
     ]
    },
    {
     "name": "stderr",
     "output_type": "stream",
     "text": [
      "C:\\ProgramData\\Anaconda3\\lib\\site-packages\\sklearn\\linear_model\\_sag.py:352: ConvergenceWarning: The max_iter was reached which means the coef_ did not converge\n",
      "  warnings.warn(\n",
      "C:\\ProgramData\\Anaconda3\\lib\\site-packages\\sklearn\\linear_model\\_logistic.py:1476: UserWarning: l1_ratio parameter is only used when penalty is 'elasticnet'. Got (penalty=l2)\n",
      "  warnings.warn(\n"
     ]
    },
    {
     "name": "stdout",
     "output_type": "stream",
     "text": [
      "[CV] END classifier__C=10, classifier__l1_ratio=0.5, classifier__penalty=l2, classifier__solver=saga; total time=   6.9s\n"
     ]
    },
    {
     "name": "stderr",
     "output_type": "stream",
     "text": [
      "C:\\ProgramData\\Anaconda3\\lib\\site-packages\\sklearn\\linear_model\\_sag.py:352: ConvergenceWarning: The max_iter was reached which means the coef_ did not converge\n",
      "  warnings.warn(\n",
      "C:\\ProgramData\\Anaconda3\\lib\\site-packages\\sklearn\\linear_model\\_logistic.py:1476: UserWarning: l1_ratio parameter is only used when penalty is 'elasticnet'. Got (penalty=l2)\n",
      "  warnings.warn(\n"
     ]
    },
    {
     "name": "stdout",
     "output_type": "stream",
     "text": [
      "[CV] END classifier__C=10, classifier__l1_ratio=0.5, classifier__penalty=l2, classifier__solver=saga; total time=   6.8s\n"
     ]
    },
    {
     "name": "stderr",
     "output_type": "stream",
     "text": [
      "C:\\ProgramData\\Anaconda3\\lib\\site-packages\\sklearn\\linear_model\\_sag.py:352: ConvergenceWarning: The max_iter was reached which means the coef_ did not converge\n",
      "  warnings.warn(\n",
      "C:\\ProgramData\\Anaconda3\\lib\\site-packages\\sklearn\\linear_model\\_logistic.py:1476: UserWarning: l1_ratio parameter is only used when penalty is 'elasticnet'. Got (penalty=l2)\n",
      "  warnings.warn(\n"
     ]
    },
    {
     "name": "stdout",
     "output_type": "stream",
     "text": [
      "[CV] END classifier__C=10, classifier__l1_ratio=0.5, classifier__penalty=l2, classifier__solver=saga; total time=   6.9s\n"
     ]
    },
    {
     "name": "stderr",
     "output_type": "stream",
     "text": [
      "C:\\ProgramData\\Anaconda3\\lib\\site-packages\\sklearn\\linear_model\\_sag.py:352: ConvergenceWarning: The max_iter was reached which means the coef_ did not converge\n",
      "  warnings.warn(\n"
     ]
    },
    {
     "name": "stdout",
     "output_type": "stream",
     "text": [
      "[CV] END classifier__C=10, classifier__l1_ratio=0.5, classifier__penalty=l2, classifier__solver=saga; total time=   7.1s\n",
      "[CV] END classifier__C=0.1, classifier__l1_ratio=0.7, classifier__penalty=elasticnet, classifier__solver=saga; total time=   2.6s\n",
      "[CV] END classifier__C=0.1, classifier__l1_ratio=0.7, classifier__penalty=elasticnet, classifier__solver=saga; total time=   2.7s\n",
      "[CV] END classifier__C=0.1, classifier__l1_ratio=0.7, classifier__penalty=elasticnet, classifier__solver=saga; total time=   2.7s\n",
      "[CV] END classifier__C=0.1, classifier__l1_ratio=0.7, classifier__penalty=elasticnet, classifier__solver=saga; total time=   2.5s\n",
      "[CV] END classifier__C=0.1, classifier__l1_ratio=0.7, classifier__penalty=elasticnet, classifier__solver=saga; total time=   2.6s\n"
     ]
    },
    {
     "name": "stderr",
     "output_type": "stream",
     "text": [
      "C:\\ProgramData\\Anaconda3\\lib\\site-packages\\sklearn\\linear_model\\_logistic.py:1476: UserWarning: l1_ratio parameter is only used when penalty is 'elasticnet'. Got (penalty=l1)\n",
      "  warnings.warn(\n"
     ]
    },
    {
     "name": "stdout",
     "output_type": "stream",
     "text": [
      "[CV] END classifier__C=0.001, classifier__l1_ratio=0.1, classifier__penalty=l1, classifier__solver=saga; total time=   0.9s\n"
     ]
    },
    {
     "name": "stderr",
     "output_type": "stream",
     "text": [
      "C:\\ProgramData\\Anaconda3\\lib\\site-packages\\sklearn\\linear_model\\_logistic.py:1476: UserWarning: l1_ratio parameter is only used when penalty is 'elasticnet'. Got (penalty=l1)\n",
      "  warnings.warn(\n"
     ]
    },
    {
     "name": "stdout",
     "output_type": "stream",
     "text": [
      "[CV] END classifier__C=0.001, classifier__l1_ratio=0.1, classifier__penalty=l1, classifier__solver=saga; total time=   0.7s\n"
     ]
    },
    {
     "name": "stderr",
     "output_type": "stream",
     "text": [
      "C:\\ProgramData\\Anaconda3\\lib\\site-packages\\sklearn\\linear_model\\_logistic.py:1476: UserWarning: l1_ratio parameter is only used when penalty is 'elasticnet'. Got (penalty=l1)\n",
      "  warnings.warn(\n"
     ]
    },
    {
     "name": "stdout",
     "output_type": "stream",
     "text": [
      "[CV] END classifier__C=0.001, classifier__l1_ratio=0.1, classifier__penalty=l1, classifier__solver=saga; total time=   0.7s\n"
     ]
    },
    {
     "name": "stderr",
     "output_type": "stream",
     "text": [
      "C:\\ProgramData\\Anaconda3\\lib\\site-packages\\sklearn\\linear_model\\_logistic.py:1476: UserWarning: l1_ratio parameter is only used when penalty is 'elasticnet'. Got (penalty=l1)\n",
      "  warnings.warn(\n"
     ]
    },
    {
     "name": "stdout",
     "output_type": "stream",
     "text": [
      "[CV] END classifier__C=0.001, classifier__l1_ratio=0.1, classifier__penalty=l1, classifier__solver=saga; total time=   0.8s\n"
     ]
    },
    {
     "name": "stderr",
     "output_type": "stream",
     "text": [
      "C:\\ProgramData\\Anaconda3\\lib\\site-packages\\sklearn\\linear_model\\_logistic.py:1476: UserWarning: l1_ratio parameter is only used when penalty is 'elasticnet'. Got (penalty=l1)\n",
      "  warnings.warn(\n"
     ]
    },
    {
     "name": "stdout",
     "output_type": "stream",
     "text": [
      "[CV] END classifier__C=0.001, classifier__l1_ratio=0.1, classifier__penalty=l1, classifier__solver=saga; total time=   0.8s\n",
      "[CV] END classifier__C=0.001, classifier__l1_ratio=0.7, classifier__penalty=elasticnet, classifier__solver=saga; total time=   0.9s\n",
      "[CV] END classifier__C=0.001, classifier__l1_ratio=0.7, classifier__penalty=elasticnet, classifier__solver=saga; total time=   0.9s\n",
      "[CV] END classifier__C=0.001, classifier__l1_ratio=0.7, classifier__penalty=elasticnet, classifier__solver=saga; total time=   0.9s\n",
      "[CV] END classifier__C=0.001, classifier__l1_ratio=0.7, classifier__penalty=elasticnet, classifier__solver=saga; total time=   0.9s\n",
      "[CV] END classifier__C=0.001, classifier__l1_ratio=0.7, classifier__penalty=elasticnet, classifier__solver=saga; total time=   0.9s\n"
     ]
    },
    {
     "name": "stderr",
     "output_type": "stream",
     "text": [
      "C:\\ProgramData\\Anaconda3\\lib\\site-packages\\sklearn\\linear_model\\_logistic.py:1476: UserWarning: l1_ratio parameter is only used when penalty is 'elasticnet'. Got (penalty=l2)\n",
      "  warnings.warn(\n"
     ]
    },
    {
     "name": "stdout",
     "output_type": "stream",
     "text": [
      "Best parameters for lr: {'classifier__solver': 'saga', 'classifier__penalty': 'l2', 'classifier__l1_ratio': 0.1, 'classifier__C': 0.1}\n",
      "Classification report for lr:\n",
      "              precision    recall  f1-score   support\n",
      "\n",
      "           0       0.87      1.00      0.93     20218\n",
      "           1       0.98      0.57      0.72      7113\n",
      "\n",
      "    accuracy                           0.89     27331\n",
      "   macro avg       0.93      0.78      0.83     27331\n",
      "weighted avg       0.90      0.89      0.87     27331\n",
      "\n",
      "Confusion Matrix for lr:\n",
      "[[20156    62]\n",
      " [ 3057  4056]]\n",
      "\n",
      "AUC for lr: 0.96\n",
      "\n"
     ]
    },
    {
     "data": {
      "image/png": "[encoded data removed]",
      "text/plain": [
       "<Figure size 432x288 with 1 Axes>"
      ]
     },
     "metadata": {
      "needs_background": "light"
     },
     "output_type": "display_data"
    }
   ],
   "source": [
    "# Setting up the pipelines for each classifier\n",
    "pipelines = {\n",
    "    'rf': Pipeline([('classifier', RandomForestClassifier(random_state=42))]),\n",
    "    'dt': Pipeline([('classifier', DecisionTreeClassifier(random_state=42))]),\n",
    "    'xgb': Pipeline([('classifier', XGBClassifier(random_state=42))]),\n",
    "    'lr': Pipeline([('classifier', LogisticRegression(random_state=42))])\n",
    "}\n",
    "\n",
    "# Hyperparameter space for each classifier\n",
    "param_distributions = {\n",
    "    'rf': {\n",
    "        'classifier__max_depth': [None, 10, 20, 30, 40, 50],\n",
    "        'classifier__min_samples_split': [2, 5, 10],\n",
    "        'classifier__min_samples_leaf': [1, 2, 4],\n",
    "        'classifier__max_features': ['auto', 'sqrt', 'log2']\n",
    "    },\n",
    "    'dt': {\n",
    "        'classifier__max_depth': [None, 10, 20, 30, 40, 50],\n",
    "        'classifier__min_samples_split': [2, 5, 10],\n",
    "        'classifier__min_samples_leaf': [1, 2, 4],\n",
    "        'classifier__max_features': ['auto', 'sqrt', 'log2']\n",
    "    },\n",
    "    'xgb': {\n",
    "        'classifier__n_estimators': [50, 100, 150, 200],\n",
    "        'classifier__learning_rate': [0.01, 0.05, 0.1, 0.2],\n",
    "        'classifier__max_depth': [3, 5, 7, 10],\n",
    "        'classifier__min_child_weight': [1, 3, 5],\n",
    "        'classifier__gamma': [0, 0.1, 0.2, 0.5],\n",
    "        'classifier__subsample': [0.6, 0.8, 1.0],\n",
    "        'classifier__colsample_bytree': [0.6, 0.8, 1.0]\n",
    "    },\n",
    "       'lr': {\n",
    "        'classifier__C': [0.001, 0.01, 0.1, 1, 10, 100],\n",
    "        'classifier__penalty': ['l1', 'l2', 'elasticnet', 'none'],\n",
    "        'classifier__solver': ['saga'],\n",
    "        'classifier__l1_ratio': [0.1, 0.5, 0.7, 1]  # This is only used if penalty is 'elasticnet'\n",
    "    }\n",
    "\n",
    "}\n",
    "\n",
    "best_estimators = {}\n",
    "roc_auc_scores = {}\n",
    "plt.figure()\n",
    "for model_name, pipeline in pipelines.items():\n",
    "    search = RandomizedSearchCV(pipeline, param_distributions[model_name], n_iter=10, cv=5, verbose=2, random_state=42)\n",
    "    search.fit(X_train_scaled, y_train)\n",
    "    best_estimators[model_name] = search.best_estimator_\n",
    "    print(f\"Best parameters for {model_name}: {search.best_params_}\")\n",
    "    \n",
    "    # Predict probabilities for the test data\n",
    "    y_probs = search.predict_proba(X_test_scaled)[:, 1]\n",
    "    y_pred = search.predict(X_test_scaled)\n",
    "    # Compute ROC curve and AUC\n",
    "    fpr, tpr, _ = roc_curve(y_test, y_probs)\n",
    "    roc_auc = auc(fpr, tpr)\n",
    "    roc_auc_scores[model_name] = roc_auc\n",
    "    \n",
    "     # Aggregate ROC curve data for each model\n",
    "    plt.plot(fpr, tpr, label=f'{model_name} (AUC = {roc_auc:.2f})')\n",
    "    \n",
    "    # Print Classification Report\n",
    "    print(f\"Classification report for {model_name}:\\n{classification_report(y_test, y_pred)}\")\n",
    "    # Print Confusion Matrix\n",
    "    cm = confusion_matrix(y_test, y_pred)\n",
    "    print(f\"Confusion Matrix for {model_name}:\\n{cm}\\n\")\n",
    "    \n",
    "    # Print AUC\n",
    "    print(f\"AUC for {model_name}: {roc_auc:.2f}\\n\")\n",
    "    # Finalizing the ROC plot\n",
    "plt.plot([0, 1], [0, 1], 'k--')  # Dashed diagonal line\n",
    "plt.xlim([0.0, 1.0])\n",
    "plt.ylim([0.0, 1.05])\n",
    "plt.xlabel('False Positive Rate')\n",
    "plt.ylabel('True Positive Rate')\n",
    "plt.title('Receiver Operating Characteristic')\n",
    "plt.legend(loc=\"lower right\")\n",
    "plt.show()\n"
   ]
  },
  {
   "cell_type": "markdown",
   "id": "da92c906",
   "metadata": {},
   "source": [
    "# Applying SMOTE "
   ]
  },
  {
   "cell_type": "code",
   "execution_count": 17,
   "id": "f13992d3",
   "metadata": {},
   "outputs": [],
   "source": [
    "from imblearn.over_sampling import SMOTE"
   ]
  },
  {
   "cell_type": "code",
   "execution_count": 18,
   "id": "c1b7c4de",
   "metadata": {},
   "outputs": [],
   "source": [
    "smote = SMOTE(random_state=42)\n",
    "X_train_smote, y_train_smote = smote.fit_resample(X_train_scaled, y_train)"
   ]
  },
  {
   "cell_type": "code",
   "execution_count": 19,
   "id": "a4e7668d",
   "metadata": {},
   "outputs": [
    {
     "name": "stdout",
     "output_type": "stream",
     "text": [
      "Counter({0: 47176, 1: 47176})\n"
     ]
    }
   ],
   "source": [
    "from collections import Counter\n",
    "\n",
    "# Count the occurrences of each class in y_train_smote\n",
    "class_counts = Counter(y_train_smote)\n",
    "print(class_counts)\n"
   ]
  },
  {
   "cell_type": "markdown",
   "id": "0ce3928a",
   "metadata": {},
   "source": [
    "## Feature Selection"
   ]
  },
  {
   "cell_type": "code",
   "execution_count": 20,
   "id": "2421acf4",
   "metadata": {},
   "outputs": [],
   "source": [
    "random_search_selected_features = ['Flow IAT Mean', 'Average Packet Size', 'Subflow Bwd Bytes', 'Flow ID', 'Fwd Packet Length Mean', 'Bwd IAT Mean', 'Total Length of Fwd Packets', 'Down/Up Ratio', 'Bwd Packet Length Max', 'Flow Duration', 'Min Packet Length', 'Destination Port', 'Packet Length Mean', 'Bwd IAT Min', 'Fwd Packet Length Min', 'Source IP', 'Fwd Packet Length Std', 'Flow IAT Std', 'Bwd IAT Total', 'Idle Min', 'Flow Packets/s', 'Active Std']\n",
    "simulated_annealing_selected_features = ['Active Std', 'Packet Length Mean', 'Avg Bwd Segment Size', 'Subflow Bwd Packets', 'Total Fwd Packets', 'Idle Min', 'Average Packet Size', 'Subflow Bwd Bytes', 'Fwd Packet Length Mean', 'min_seg_size_forward', 'Idle Std', 'Fwd IAT Mean', 'Init_Win_bytes_backward', 'Bwd IAT Min', 'Fwd Packet Length Std', 'Active Max', 'Fwd Packet Length Min', 'act_data_pkt_fwd', 'Fwd IAT Std', 'Avg Fwd Segment Size', 'Source Port', 'Bwd IAT Total', 'Bwd Packet Length Std', 'Max Packet Length', 'Fwd Packet Length Max', 'Source IP', 'Fwd IAT Max', 'Flow IAT Std', 'Bwd Packets/s', 'Destination IP', 'Protocol', 'Total Backward Packets', 'Packet Length Std', 'Active Mean', 'Min Packet Length', 'Destination Port', 'URG Flag Count', 'Total Length of Bwd Packets', 'SYN Flag Count', 'PSH Flag Count', 'Bwd IAT Mean', 'Bwd Header Length', 'Fwd Header Length', 'Total Length of Fwd Packets', 'Down/Up Ratio', 'Bwd IAT Std', 'Flow Bytes/s', 'Fwd Header Length.1', 'Fwd IAT Min', 'Idle Max', 'Fwd IAT Total', 'Flow Duration', 'Idle Mean', 'Fwd PSH Flags']\n",
    "genetic_search_selected_features = [\n",
    "    'Source Port', 'min_seg_size_forward', 'Min Packet Length', 'Bwd Packet Length Std',\n",
    "    'Bwd IAT Mean', 'Fwd Packets/s', 'Bwd Packets/s', 'Total Length of Bwd Packets',\n",
    "    'Avg Bwd Segment Size', 'Init_Win_bytes_backward', 'Fwd IAT Max', 'Bwd IAT Max',\n",
    "    'Fwd Header Length.1', 'Protocol', 'Total Length of Fwd Packets', 'URG Flag Count',\n",
    "    'Fwd Packet Length Mean', 'Init_Win_bytes_forward', 'Bwd Packet Length Min',\n",
    "    'Fwd IAT Mean', 'Flow Bytes/s', 'Down/Up Ratio', 'Active Std', 'Avg Fwd Segment Size',\n",
    "    'Fwd IAT Total', 'Fwd Packet Length Std', 'Subflow Bwd Packets', 'Flow ID',\n",
    "    'Fwd Packet Length Max', 'Bwd IAT Min', 'Idle Min', 'Flow IAT Mean', 'Subflow Bwd Bytes',\n",
    "    'Bwd Packet Length Mean', 'Destination Port', 'Average Packet Size', 'Source IP',\n",
    "    'Active Min', 'Flow IAT Min', 'Fwd Packet Length Min', 'Total Fwd Packets', 'Flow Packets/s',\n",
    "    'Fwd Header Length', 'Packet Length Variance', 'Bwd IAT Std', 'Subflow Fwd Packets'\n",
    "]\n",
    "\n"
   ]
  },
  {
   "cell_type": "code",
   "execution_count": 21,
   "id": "e6a2ea8f",
   "metadata": {},
   "outputs": [],
   "source": [
    "def run_models(X_train, X_test, y_train, y_test, feature_set_name):\n",
    "    # Update X_train and X_test to include only the selected features\n",
    "    X_train_selected = X_train_smote[feature_set_name]\n",
    "    X_test_selected = X_test_scaled[feature_set_name]\n",
    "\n",
    "\n",
    "    best_estimators = {}\n",
    "    roc_auc_scores = {}\n",
    "    plt.figure()\n",
    "    for model_name, pipeline in pipelines.items():\n",
    "        search = RandomizedSearchCV(pipeline, param_distributions[model_name], n_iter=10, cv=5, verbose=2, random_state=42)\n",
    "        search.fit(X_train_selected, y_train)\n",
    "        best_estimators[model_name] = search.best_estimator_\n",
    "        print(f\"Best parameters for {model_name}: {search.best_params_}\")\n",
    "        \n",
    "        # Predict probabilities for the test data\n",
    "        y_probs = search.predict_proba(X_test_selected)[:, 1]\n",
    "        y_pred = search.predict(X_test_selected)\n",
    "\n",
    "        # Compute ROC curve and AUC\n",
    "        fpr, tpr, _ = roc_curve(y_test, y_probs)\n",
    "        roc_auc = auc(fpr, tpr)\n",
    "        roc_auc_scores[model_name] = roc_auc\n",
    "        \n",
    "         # Aggregate ROC curve data for each model\n",
    "        plt.plot(fpr, tpr, label=f'{model_name} (AUC = {roc_auc:.2f})')\n",
    "        \n",
    "        # Print Classification Report\n",
    "        print(f\"Classification report for {model_name}:\\n{classification_report(y_test, y_pred)}\")\n",
    "\n",
    "        # Print Confusion Matrix\n",
    "        cm = confusion_matrix(y_test, y_pred)\n",
    "        print(f\"Confusion Matrix for {model_name}:\\n{cm}\\n\")\n",
    "        \n",
    "        # Print AUC\n",
    "        print(f\"AUC for {model_name}: {roc_auc:.2f}\\n\")\n",
    "    # Finalizing the ROC plot\n",
    "    plt.plot([0, 1], [0, 1], 'k--')  # Dashed diagonal line\n",
    "    plt.xlim([0.0, 1.0])\n",
    "    plt.ylim([0.0, 1.05])\n",
    "    plt.xlabel('False Positive Rate')\n",
    "    plt.ylabel('True Positive Rate')\n",
    "    plt.title('Receiver Operating Characteristic')\n",
    "    plt.legend(loc=\"lower right\")\n",
    "    plt.show()\n",
    "    "
   ]
  },
  {
   "cell_type": "code",
   "execution_count": 22,
   "id": "94ee4a1d",
   "metadata": {},
   "outputs": [
    {
     "name": "stdout",
     "output_type": "stream",
     "text": [
      "Evaluating Random Search Selected Features\n",
      "Fitting 5 folds for each of 10 candidates, totalling 50 fits\n",
      "[CV] END classifier__max_depth=50, classifier__max_features=log2, classifier__min_samples_leaf=2, classifier__min_samples_split=10; total time=   9.1s\n",
      "[CV] END classifier__max_depth=50, classifier__max_features=log2, classifier__min_samples_leaf=2, classifier__min_samples_split=10; total time=   8.9s\n",
      "[CV] END classifier__max_depth=50, classifier__max_features=log2, classifier__min_samples_leaf=2, classifier__min_samples_split=10; total time=   8.8s\n",
      "[CV] END classifier__max_depth=50, classifier__max_features=log2, classifier__min_samples_leaf=2, classifier__min_samples_split=10; total time=   9.1s\n",
      "[CV] END classifier__max_depth=50, classifier__max_features=log2, classifier__min_samples_leaf=2, classifier__min_samples_split=10; total time=   9.1s\n",
      "[CV] END classifier__max_depth=40, classifier__max_features=auto, classifier__min_samples_leaf=1, classifier__min_samples_split=5; total time=   9.2s\n",
      "[CV] END classifier__max_depth=40, classifier__max_features=auto, classifier__min_samples_leaf=1, classifier__min_samples_split=5; total time=   9.1s\n",
      "[CV] END classifier__max_depth=40, classifier__max_features=auto, classifier__min_samples_leaf=1, classifier__min_samples_split=5; total time=   9.0s\n",
      "[CV] END classifier__max_depth=40, classifier__max_features=auto, classifier__min_samples_leaf=1, classifier__min_samples_split=5; total time=   8.9s\n",
      "[CV] END classifier__max_depth=40, classifier__max_features=auto, classifier__min_samples_leaf=1, classifier__min_samples_split=5; total time=   9.0s\n",
      "[CV] END classifier__max_depth=40, classifier__max_features=log2, classifier__min_samples_leaf=2, classifier__min_samples_split=10; total time=   9.0s\n",
      "[CV] END classifier__max_depth=40, classifier__max_features=log2, classifier__min_samples_leaf=2, classifier__min_samples_split=10; total time=   9.1s\n",
      "[CV] END classifier__max_depth=40, classifier__max_features=log2, classifier__min_samples_leaf=2, classifier__min_samples_split=10; total time=   8.9s\n",
      "[CV] END classifier__max_depth=40, classifier__max_features=log2, classifier__min_samples_leaf=2, classifier__min_samples_split=10; total time=   9.1s\n",
      "[CV] END classifier__max_depth=40, classifier__max_features=log2, classifier__min_samples_leaf=2, classifier__min_samples_split=10; total time=   8.7s\n",
      "[CV] END classifier__max_depth=20, classifier__max_features=auto, classifier__min_samples_leaf=1, classifier__min_samples_split=5; total time=   8.8s\n",
      "[CV] END classifier__max_depth=20, classifier__max_features=auto, classifier__min_samples_leaf=1, classifier__min_samples_split=5; total time=   9.1s\n",
      "[CV] END classifier__max_depth=20, classifier__max_features=auto, classifier__min_samples_leaf=1, classifier__min_samples_split=5; total time=   8.9s\n",
      "[CV] END classifier__max_depth=20, classifier__max_features=auto, classifier__min_samples_leaf=1, classifier__min_samples_split=5; total time=   8.9s\n",
      "[CV] END classifier__max_depth=20, classifier__max_features=auto, classifier__min_samples_leaf=1, classifier__min_samples_split=5; total time=   8.8s\n",
      "[CV] END classifier__max_depth=30, classifier__max_features=sqrt, classifier__min_samples_leaf=2, classifier__min_samples_split=5; total time=   8.9s\n",
      "[CV] END classifier__max_depth=30, classifier__max_features=sqrt, classifier__min_samples_leaf=2, classifier__min_samples_split=5; total time=   9.0s\n",
      "[CV] END classifier__max_depth=30, classifier__max_features=sqrt, classifier__min_samples_leaf=2, classifier__min_samples_split=5; total time=   8.7s\n",
      "[CV] END classifier__max_depth=30, classifier__max_features=sqrt, classifier__min_samples_leaf=2, classifier__min_samples_split=5; total time=   8.8s\n",
      "[CV] END classifier__max_depth=30, classifier__max_features=sqrt, classifier__min_samples_leaf=2, classifier__min_samples_split=5; total time=   8.6s\n",
      "[CV] END classifier__max_depth=10, classifier__max_features=auto, classifier__min_samples_leaf=1, classifier__min_samples_split=10; total time=   8.3s\n",
      "[CV] END classifier__max_depth=10, classifier__max_features=auto, classifier__min_samples_leaf=1, classifier__min_samples_split=10; total time=   8.3s\n",
      "[CV] END classifier__max_depth=10, classifier__max_features=auto, classifier__min_samples_leaf=1, classifier__min_samples_split=10; total time=   8.0s\n",
      "[CV] END classifier__max_depth=10, classifier__max_features=auto, classifier__min_samples_leaf=1, classifier__min_samples_split=10; total time=   8.8s\n",
      "[CV] END classifier__max_depth=10, classifier__max_features=auto, classifier__min_samples_leaf=1, classifier__min_samples_split=10; total time=   8.3s\n",
      "[CV] END classifier__max_depth=30, classifier__max_features=log2, classifier__min_samples_leaf=1, classifier__min_samples_split=10; total time=   9.0s\n",
      "[CV] END classifier__max_depth=30, classifier__max_features=log2, classifier__min_samples_leaf=1, classifier__min_samples_split=10; total time=   9.3s\n",
      "[CV] END classifier__max_depth=30, classifier__max_features=log2, classifier__min_samples_leaf=1, classifier__min_samples_split=10; total time=   8.8s\n",
      "[CV] END classifier__max_depth=30, classifier__max_features=log2, classifier__min_samples_leaf=1, classifier__min_samples_split=10; total time=   9.1s\n",
      "[CV] END classifier__max_depth=30, classifier__max_features=log2, classifier__min_samples_leaf=1, classifier__min_samples_split=10; total time=   8.6s\n",
      "[CV] END classifier__max_depth=10, classifier__max_features=log2, classifier__min_samples_leaf=4, classifier__min_samples_split=2; total time=   8.2s\n",
      "[CV] END classifier__max_depth=10, classifier__max_features=log2, classifier__min_samples_leaf=4, classifier__min_samples_split=2; total time=   8.4s\n",
      "[CV] END classifier__max_depth=10, classifier__max_features=log2, classifier__min_samples_leaf=4, classifier__min_samples_split=2; total time=   8.0s\n",
      "[CV] END classifier__max_depth=10, classifier__max_features=log2, classifier__min_samples_leaf=4, classifier__min_samples_split=2; total time=   8.4s\n",
      "[CV] END classifier__max_depth=10, classifier__max_features=log2, classifier__min_samples_leaf=4, classifier__min_samples_split=2; total time=   8.1s\n",
      "[CV] END classifier__max_depth=30, classifier__max_features=log2, classifier__min_samples_leaf=1, classifier__min_samples_split=5; total time=   9.1s\n",
      "[CV] END classifier__max_depth=30, classifier__max_features=log2, classifier__min_samples_leaf=1, classifier__min_samples_split=5; total time=   8.8s\n",
      "[CV] END classifier__max_depth=30, classifier__max_features=log2, classifier__min_samples_leaf=1, classifier__min_samples_split=5; total time=   8.9s\n",
      "[CV] END classifier__max_depth=30, classifier__max_features=log2, classifier__min_samples_leaf=1, classifier__min_samples_split=5; total time=   9.0s\n",
      "[CV] END classifier__max_depth=30, classifier__max_features=log2, classifier__min_samples_leaf=1, classifier__min_samples_split=5; total time=   8.9s\n",
      "[CV] END classifier__max_depth=50, classifier__max_features=sqrt, classifier__min_samples_leaf=1, classifier__min_samples_split=2; total time=   9.0s\n",
      "[CV] END classifier__max_depth=50, classifier__max_features=sqrt, classifier__min_samples_leaf=1, classifier__min_samples_split=2; total time=   8.9s\n",
      "[CV] END classifier__max_depth=50, classifier__max_features=sqrt, classifier__min_samples_leaf=1, classifier__min_samples_split=2; total time=   8.5s\n",
      "[CV] END classifier__max_depth=50, classifier__max_features=sqrt, classifier__min_samples_leaf=1, classifier__min_samples_split=2; total time=   8.8s\n",
      "[CV] END classifier__max_depth=50, classifier__max_features=sqrt, classifier__min_samples_leaf=1, classifier__min_samples_split=2; total time=   9.3s\n",
      "Best parameters for rf: {'classifier__min_samples_split': 2, 'classifier__min_samples_leaf': 1, 'classifier__max_features': 'sqrt', 'classifier__max_depth': 50}\n",
      "Classification report for rf:\n",
      "              precision    recall  f1-score   support\n",
      "\n",
      "           0       0.88      0.97      0.92     20218\n",
      "           1       0.90      0.62      0.73      7113\n",
      "\n",
      "    accuracy                           0.88     27331\n",
      "   macro avg       0.89      0.80      0.83     27331\n",
      "weighted avg       0.88      0.88      0.87     27331\n",
      "\n",
      "Confusion Matrix for rf:\n",
      "[[19711   507]\n",
      " [ 2720  4393]]\n",
      "\n",
      "AUC for rf: 0.94\n",
      "\n",
      "Fitting 5 folds for each of 10 candidates, totalling 50 fits\n"
     ]
    },
    {
     "name": "stdout",
     "output_type": "stream",
     "text": [
      "[CV] END classifier__max_depth=50, classifier__max_features=log2, classifier__min_samples_leaf=2, classifier__min_samples_split=10; total time=   0.1s\n",
      "[CV] END classifier__max_depth=50, classifier__max_features=log2, classifier__min_samples_leaf=2, classifier__min_samples_split=10; total time=   0.0s\n",
      "[CV] END classifier__max_depth=50, classifier__max_features=log2, classifier__min_samples_leaf=2, classifier__min_samples_split=10; total time=   0.1s\n",
      "[CV] END classifier__max_depth=50, classifier__max_features=log2, classifier__min_samples_leaf=2, classifier__min_samples_split=10; total time=   0.1s\n",
      "[CV] END classifier__max_depth=50, classifier__max_features=log2, classifier__min_samples_leaf=2, classifier__min_samples_split=10; total time=   0.1s\n",
      "[CV] END classifier__max_depth=40, classifier__max_features=auto, classifier__min_samples_leaf=1, classifier__min_samples_split=5; total time=   0.1s\n",
      "[CV] END classifier__max_depth=40, classifier__max_features=auto, classifier__min_samples_leaf=1, classifier__min_samples_split=5; total time=   0.1s\n",
      "[CV] END classifier__max_depth=40, classifier__max_features=auto, classifier__min_samples_leaf=1, classifier__min_samples_split=5; total time=   0.1s\n",
      "[CV] END classifier__max_depth=40, classifier__max_features=auto, classifier__min_samples_leaf=1, classifier__min_samples_split=5; total time=   0.1s\n",
      "[CV] END classifier__max_depth=40, classifier__max_features=auto, classifier__min_samples_leaf=1, classifier__min_samples_split=5; total time=   0.1s\n",
      "[CV] END classifier__max_depth=40, classifier__max_features=log2, classifier__min_samples_leaf=2, classifier__min_samples_split=10; total time=   0.1s\n",
      "[CV] END classifier__max_depth=40, classifier__max_features=log2, classifier__min_samples_leaf=2, classifier__min_samples_split=10; total time=   0.0s\n",
      "[CV] END classifier__max_depth=40, classifier__max_features=log2, classifier__min_samples_leaf=2, classifier__min_samples_split=10; total time=   0.1s\n",
      "[CV] END classifier__max_depth=40, classifier__max_features=log2, classifier__min_samples_leaf=2, classifier__min_samples_split=10; total time=   0.1s\n",
      "[CV] END classifier__max_depth=40, classifier__max_features=log2, classifier__min_samples_leaf=2, classifier__min_samples_split=10; total time=   0.1s\n",
      "[CV] END classifier__max_depth=20, classifier__max_features=auto, classifier__min_samples_leaf=1, classifier__min_samples_split=5; total time=   0.1s\n",
      "[CV] END classifier__max_depth=20, classifier__max_features=auto, classifier__min_samples_leaf=1, classifier__min_samples_split=5; total time=   0.1s\n",
      "[CV] END classifier__max_depth=20, classifier__max_features=auto, classifier__min_samples_leaf=1, classifier__min_samples_split=5; total time=   0.1s\n",
      "[CV] END classifier__max_depth=20, classifier__max_features=auto, classifier__min_samples_leaf=1, classifier__min_samples_split=5; total time=   0.1s\n",
      "[CV] END classifier__max_depth=20, classifier__max_features=auto, classifier__min_samples_leaf=1, classifier__min_samples_split=5; total time=   0.1s\n",
      "[CV] END classifier__max_depth=30, classifier__max_features=sqrt, classifier__min_samples_leaf=2, classifier__min_samples_split=5; total time=   0.0s\n",
      "[CV] END classifier__max_depth=30, classifier__max_features=sqrt, classifier__min_samples_leaf=2, classifier__min_samples_split=5; total time=   0.1s\n",
      "[CV] END classifier__max_depth=30, classifier__max_features=sqrt, classifier__min_samples_leaf=2, classifier__min_samples_split=5; total time=   0.1s\n",
      "[CV] END classifier__max_depth=30, classifier__max_features=sqrt, classifier__min_samples_leaf=2, classifier__min_samples_split=5; total time=   0.1s\n",
      "[CV] END classifier__max_depth=30, classifier__max_features=sqrt, classifier__min_samples_leaf=2, classifier__min_samples_split=5; total time=   0.1s\n",
      "[CV] END classifier__max_depth=10, classifier__max_features=auto, classifier__min_samples_leaf=1, classifier__min_samples_split=10; total time=   0.1s\n",
      "[CV] END classifier__max_depth=10, classifier__max_features=auto, classifier__min_samples_leaf=1, classifier__min_samples_split=10; total time=   0.1s\n",
      "[CV] END classifier__max_depth=10, classifier__max_features=auto, classifier__min_samples_leaf=1, classifier__min_samples_split=10; total time=   0.1s\n",
      "[CV] END classifier__max_depth=10, classifier__max_features=auto, classifier__min_samples_leaf=1, classifier__min_samples_split=10; total time=   0.1s\n",
      "[CV] END classifier__max_depth=10, classifier__max_features=auto, classifier__min_samples_leaf=1, classifier__min_samples_split=10; total time=   0.1s\n",
      "[CV] END classifier__max_depth=30, classifier__max_features=log2, classifier__min_samples_leaf=1, classifier__min_samples_split=10; total time=   0.1s\n",
      "[CV] END classifier__max_depth=30, classifier__max_features=log2, classifier__min_samples_leaf=1, classifier__min_samples_split=10; total time=   0.1s\n",
      "[CV] END classifier__max_depth=30, classifier__max_features=log2, classifier__min_samples_leaf=1, classifier__min_samples_split=10; total time=   0.1s\n",
      "[CV] END classifier__max_depth=30, classifier__max_features=log2, classifier__min_samples_leaf=1, classifier__min_samples_split=10; total time=   0.1s\n",
      "[CV] END classifier__max_depth=30, classifier__max_features=log2, classifier__min_samples_leaf=1, classifier__min_samples_split=10; total time=   0.1s\n",
      "[CV] END classifier__max_depth=10, classifier__max_features=log2, classifier__min_samples_leaf=4, classifier__min_samples_split=2; total time=   0.0s\n",
      "[CV] END classifier__max_depth=10, classifier__max_features=log2, classifier__min_samples_leaf=4, classifier__min_samples_split=2; total time=   0.1s\n",
      "[CV] END classifier__max_depth=10, classifier__max_features=log2, classifier__min_samples_leaf=4, classifier__min_samples_split=2; total time=   0.1s\n",
      "[CV] END classifier__max_depth=10, classifier__max_features=log2, classifier__min_samples_leaf=4, classifier__min_samples_split=2; total time=   0.1s\n",
      "[CV] END classifier__max_depth=10, classifier__max_features=log2, classifier__min_samples_leaf=4, classifier__min_samples_split=2; total time=   0.1s\n",
      "[CV] END classifier__max_depth=30, classifier__max_features=log2, classifier__min_samples_leaf=1, classifier__min_samples_split=5; total time=   0.0s\n",
      "[CV] END classifier__max_depth=30, classifier__max_features=log2, classifier__min_samples_leaf=1, classifier__min_samples_split=5; total time=   0.1s\n",
      "[CV] END classifier__max_depth=30, classifier__max_features=log2, classifier__min_samples_leaf=1, classifier__min_samples_split=5; total time=   0.1s\n",
      "[CV] END classifier__max_depth=30, classifier__max_features=log2, classifier__min_samples_leaf=1, classifier__min_samples_split=5; total time=   0.1s\n",
      "[CV] END classifier__max_depth=30, classifier__max_features=log2, classifier__min_samples_leaf=1, classifier__min_samples_split=5; total time=   0.1s\n",
      "[CV] END classifier__max_depth=50, classifier__max_features=sqrt, classifier__min_samples_leaf=1, classifier__min_samples_split=2; total time=   0.1s\n",
      "[CV] END classifier__max_depth=50, classifier__max_features=sqrt, classifier__min_samples_leaf=1, classifier__min_samples_split=2; total time=   0.1s\n",
      "[CV] END classifier__max_depth=50, classifier__max_features=sqrt, classifier__min_samples_leaf=1, classifier__min_samples_split=2; total time=   0.1s\n",
      "[CV] END classifier__max_depth=50, classifier__max_features=sqrt, classifier__min_samples_leaf=1, classifier__min_samples_split=2; total time=   0.1s\n",
      "[CV] END classifier__max_depth=50, classifier__max_features=sqrt, classifier__min_samples_leaf=1, classifier__min_samples_split=2; total time=   0.1s\n",
      "Best parameters for dt: {'classifier__min_samples_split': 5, 'classifier__min_samples_leaf': 1, 'classifier__max_features': 'auto', 'classifier__max_depth': 40}\n",
      "Classification report for dt:\n",
      "              precision    recall  f1-score   support\n",
      "\n",
      "           0       0.90      0.90      0.90     20218\n",
      "           1       0.71      0.72      0.72      7113\n",
      "\n",
      "    accuracy                           0.85     27331\n",
      "   macro avg       0.81      0.81      0.81     27331\n",
      "weighted avg       0.85      0.85      0.85     27331\n",
      "\n",
      "Confusion Matrix for dt:\n",
      "[[18130  2088]\n",
      " [ 1957  5156]]\n",
      "\n",
      "AUC for dt: 0.81\n",
      "\n",
      "Fitting 5 folds for each of 10 candidates, totalling 50 fits\n",
      "[CV] END classifier__colsample_bytree=0.6, classifier__gamma=0.1, classifier__learning_rate=0.05, classifier__max_depth=10, classifier__min_child_weight=5, classifier__n_estimators=150, classifier__subsample=1.0; total time=   1.0s\n"
     ]
    },
    {
     "name": "stdout",
     "output_type": "stream",
     "text": [
      "[CV] END classifier__colsample_bytree=0.6, classifier__gamma=0.1, classifier__learning_rate=0.05, classifier__max_depth=10, classifier__min_child_weight=5, classifier__n_estimators=150, classifier__subsample=1.0; total time=   1.0s\n",
      "[CV] END classifier__colsample_bytree=0.6, classifier__gamma=0.1, classifier__learning_rate=0.05, classifier__max_depth=10, classifier__min_child_weight=5, classifier__n_estimators=150, classifier__subsample=1.0; total time=   0.9s\n",
      "[CV] END classifier__colsample_bytree=0.6, classifier__gamma=0.1, classifier__learning_rate=0.05, classifier__max_depth=10, classifier__min_child_weight=5, classifier__n_estimators=150, classifier__subsample=1.0; total time=   1.0s\n",
      "[CV] END classifier__colsample_bytree=0.6, classifier__gamma=0.1, classifier__learning_rate=0.05, classifier__max_depth=10, classifier__min_child_weight=5, classifier__n_estimators=150, classifier__subsample=1.0; total time=   1.0s\n",
      "[CV] END classifier__colsample_bytree=1.0, classifier__gamma=0.1, classifier__learning_rate=0.05, classifier__max_depth=5, classifier__min_child_weight=5, classifier__n_estimators=50, classifier__subsample=1.0; total time=   0.2s\n",
      "[CV] END classifier__colsample_bytree=1.0, classifier__gamma=0.1, classifier__learning_rate=0.05, classifier__max_depth=5, classifier__min_child_weight=5, classifier__n_estimators=50, classifier__subsample=1.0; total time=   0.2s\n",
      "[CV] END classifier__colsample_bytree=1.0, classifier__gamma=0.1, classifier__learning_rate=0.05, classifier__max_depth=5, classifier__min_child_weight=5, classifier__n_estimators=50, classifier__subsample=1.0; total time=   0.3s\n",
      "[CV] END classifier__colsample_bytree=1.0, classifier__gamma=0.1, classifier__learning_rate=0.05, classifier__max_depth=5, classifier__min_child_weight=5, classifier__n_estimators=50, classifier__subsample=1.0; total time=   0.2s\n",
      "[CV] END classifier__colsample_bytree=1.0, classifier__gamma=0.1, classifier__learning_rate=0.05, classifier__max_depth=5, classifier__min_child_weight=5, classifier__n_estimators=50, classifier__subsample=1.0; total time=   0.2s\n",
      "[CV] END classifier__colsample_bytree=1.0, classifier__gamma=0.1, classifier__learning_rate=0.01, classifier__max_depth=5, classifier__min_child_weight=1, classifier__n_estimators=150, classifier__subsample=0.6; total time=   0.7s\n",
      "[CV] END classifier__colsample_bytree=1.0, classifier__gamma=0.1, classifier__learning_rate=0.01, classifier__max_depth=5, classifier__min_child_weight=1, classifier__n_estimators=150, classifier__subsample=0.6; total time=   1.2s\n",
      "[CV] END classifier__colsample_bytree=1.0, classifier__gamma=0.1, classifier__learning_rate=0.01, classifier__max_depth=5, classifier__min_child_weight=1, classifier__n_estimators=150, classifier__subsample=0.6; total time=   1.3s\n",
      "[CV] END classifier__colsample_bytree=1.0, classifier__gamma=0.1, classifier__learning_rate=0.01, classifier__max_depth=5, classifier__min_child_weight=1, classifier__n_estimators=150, classifier__subsample=0.6; total time=   1.3s\n",
      "[CV] END classifier__colsample_bytree=1.0, classifier__gamma=0.1, classifier__learning_rate=0.01, classifier__max_depth=5, classifier__min_child_weight=1, classifier__n_estimators=150, classifier__subsample=0.6; total time=   1.4s\n",
      "[CV] END classifier__colsample_bytree=1.0, classifier__gamma=0.1, classifier__learning_rate=0.01, classifier__max_depth=3, classifier__min_child_weight=1, classifier__n_estimators=150, classifier__subsample=0.8; total time=   1.9s\n",
      "[CV] END classifier__colsample_bytree=1.0, classifier__gamma=0.1, classifier__learning_rate=0.01, classifier__max_depth=3, classifier__min_child_weight=1, classifier__n_estimators=150, classifier__subsample=0.8; total time=   2.0s\n",
      "[CV] END classifier__colsample_bytree=1.0, classifier__gamma=0.1, classifier__learning_rate=0.01, classifier__max_depth=3, classifier__min_child_weight=1, classifier__n_estimators=150, classifier__subsample=0.8; total time=   1.9s\n",
      "[CV] END classifier__colsample_bytree=1.0, classifier__gamma=0.1, classifier__learning_rate=0.01, classifier__max_depth=3, classifier__min_child_weight=1, classifier__n_estimators=150, classifier__subsample=0.8; total time=   1.9s\n",
      "[CV] END classifier__colsample_bytree=1.0, classifier__gamma=0.1, classifier__learning_rate=0.01, classifier__max_depth=3, classifier__min_child_weight=1, classifier__n_estimators=150, classifier__subsample=0.8; total time=   1.9s\n",
      "[CV] END classifier__colsample_bytree=0.8, classifier__gamma=0.2, classifier__learning_rate=0.1, classifier__max_depth=3, classifier__min_child_weight=5, classifier__n_estimators=100, classifier__subsample=0.8; total time=   1.3s\n",
      "[CV] END classifier__colsample_bytree=0.8, classifier__gamma=0.2, classifier__learning_rate=0.1, classifier__max_depth=3, classifier__min_child_weight=5, classifier__n_estimators=100, classifier__subsample=0.8; total time=   1.3s\n",
      "[CV] END classifier__colsample_bytree=0.8, classifier__gamma=0.2, classifier__learning_rate=0.1, classifier__max_depth=3, classifier__min_child_weight=5, classifier__n_estimators=100, classifier__subsample=0.8; total time=   1.3s\n",
      "[CV] END classifier__colsample_bytree=0.8, classifier__gamma=0.2, classifier__learning_rate=0.1, classifier__max_depth=3, classifier__min_child_weight=5, classifier__n_estimators=100, classifier__subsample=0.8; total time=   1.3s\n",
      "[CV] END classifier__colsample_bytree=0.8, classifier__gamma=0.2, classifier__learning_rate=0.1, classifier__max_depth=3, classifier__min_child_weight=5, classifier__n_estimators=100, classifier__subsample=0.8; total time=   1.3s\n",
      "[CV] END classifier__colsample_bytree=0.8, classifier__gamma=0.1, classifier__learning_rate=0.05, classifier__max_depth=5, classifier__min_child_weight=5, classifier__n_estimators=150, classifier__subsample=1.0; total time=   1.4s\n",
      "[CV] END classifier__colsample_bytree=0.8, classifier__gamma=0.1, classifier__learning_rate=0.05, classifier__max_depth=5, classifier__min_child_weight=5, classifier__n_estimators=150, classifier__subsample=1.0; total time=   1.4s\n",
      "[CV] END classifier__colsample_bytree=0.8, classifier__gamma=0.1, classifier__learning_rate=0.05, classifier__max_depth=5, classifier__min_child_weight=5, classifier__n_estimators=150, classifier__subsample=1.0; total time=   1.4s\n",
      "[CV] END classifier__colsample_bytree=0.8, classifier__gamma=0.1, classifier__learning_rate=0.05, classifier__max_depth=5, classifier__min_child_weight=5, classifier__n_estimators=150, classifier__subsample=1.0; total time=   1.6s\n",
      "[CV] END classifier__colsample_bytree=0.8, classifier__gamma=0.1, classifier__learning_rate=0.05, classifier__max_depth=5, classifier__min_child_weight=5, classifier__n_estimators=150, classifier__subsample=1.0; total time=   1.4s\n",
      "[CV] END classifier__colsample_bytree=1.0, classifier__gamma=0.1, classifier__learning_rate=0.2, classifier__max_depth=10, classifier__min_child_weight=1, classifier__n_estimators=200, classifier__subsample=0.8; total time=   3.1s\n",
      "[CV] END classifier__colsample_bytree=1.0, classifier__gamma=0.1, classifier__learning_rate=0.2, classifier__max_depth=10, classifier__min_child_weight=1, classifier__n_estimators=200, classifier__subsample=0.8; total time=   3.3s\n",
      "[CV] END classifier__colsample_bytree=1.0, classifier__gamma=0.1, classifier__learning_rate=0.2, classifier__max_depth=10, classifier__min_child_weight=1, classifier__n_estimators=200, classifier__subsample=0.8; total time=   3.1s\n",
      "[CV] END classifier__colsample_bytree=1.0, classifier__gamma=0.1, classifier__learning_rate=0.2, classifier__max_depth=10, classifier__min_child_weight=1, classifier__n_estimators=200, classifier__subsample=0.8; total time=   3.1s\n",
      "[CV] END classifier__colsample_bytree=1.0, classifier__gamma=0.1, classifier__learning_rate=0.2, classifier__max_depth=10, classifier__min_child_weight=1, classifier__n_estimators=200, classifier__subsample=0.8; total time=   3.2s\n",
      "[CV] END classifier__colsample_bytree=1.0, classifier__gamma=0.2, classifier__learning_rate=0.2, classifier__max_depth=7, classifier__min_child_weight=1, classifier__n_estimators=50, classifier__subsample=0.8; total time=   0.8s\n",
      "[CV] END classifier__colsample_bytree=1.0, classifier__gamma=0.2, classifier__learning_rate=0.2, classifier__max_depth=7, classifier__min_child_weight=1, classifier__n_estimators=50, classifier__subsample=0.8; total time=   0.9s\n"
     ]
    },
    {
     "name": "stdout",
     "output_type": "stream",
     "text": [
      "[CV] END classifier__colsample_bytree=1.0, classifier__gamma=0.2, classifier__learning_rate=0.2, classifier__max_depth=7, classifier__min_child_weight=1, classifier__n_estimators=50, classifier__subsample=0.8; total time=   0.8s\n",
      "[CV] END classifier__colsample_bytree=1.0, classifier__gamma=0.2, classifier__learning_rate=0.2, classifier__max_depth=7, classifier__min_child_weight=1, classifier__n_estimators=50, classifier__subsample=0.8; total time=   0.8s\n",
      "[CV] END classifier__colsample_bytree=1.0, classifier__gamma=0.2, classifier__learning_rate=0.2, classifier__max_depth=7, classifier__min_child_weight=1, classifier__n_estimators=50, classifier__subsample=0.8; total time=   0.9s\n",
      "[CV] END classifier__colsample_bytree=0.6, classifier__gamma=0, classifier__learning_rate=0.2, classifier__max_depth=3, classifier__min_child_weight=5, classifier__n_estimators=200, classifier__subsample=0.8; total time=   2.0s\n",
      "[CV] END classifier__colsample_bytree=0.6, classifier__gamma=0, classifier__learning_rate=0.2, classifier__max_depth=3, classifier__min_child_weight=5, classifier__n_estimators=200, classifier__subsample=0.8; total time=   2.0s\n",
      "[CV] END classifier__colsample_bytree=0.6, classifier__gamma=0, classifier__learning_rate=0.2, classifier__max_depth=3, classifier__min_child_weight=5, classifier__n_estimators=200, classifier__subsample=0.8; total time=   2.0s\n",
      "[CV] END classifier__colsample_bytree=0.6, classifier__gamma=0, classifier__learning_rate=0.2, classifier__max_depth=3, classifier__min_child_weight=5, classifier__n_estimators=200, classifier__subsample=0.8; total time=   2.1s\n",
      "[CV] END classifier__colsample_bytree=0.6, classifier__gamma=0, classifier__learning_rate=0.2, classifier__max_depth=3, classifier__min_child_weight=5, classifier__n_estimators=200, classifier__subsample=0.8; total time=   2.0s\n",
      "[CV] END classifier__colsample_bytree=1.0, classifier__gamma=0.1, classifier__learning_rate=0.05, classifier__max_depth=3, classifier__min_child_weight=1, classifier__n_estimators=150, classifier__subsample=0.6; total time=   1.6s\n",
      "[CV] END classifier__colsample_bytree=1.0, classifier__gamma=0.1, classifier__learning_rate=0.05, classifier__max_depth=3, classifier__min_child_weight=1, classifier__n_estimators=150, classifier__subsample=0.6; total time=   1.7s\n",
      "[CV] END classifier__colsample_bytree=1.0, classifier__gamma=0.1, classifier__learning_rate=0.05, classifier__max_depth=3, classifier__min_child_weight=1, classifier__n_estimators=150, classifier__subsample=0.6; total time=   1.6s\n",
      "[CV] END classifier__colsample_bytree=1.0, classifier__gamma=0.1, classifier__learning_rate=0.05, classifier__max_depth=3, classifier__min_child_weight=1, classifier__n_estimators=150, classifier__subsample=0.6; total time=   1.6s\n",
      "[CV] END classifier__colsample_bytree=1.0, classifier__gamma=0.1, classifier__learning_rate=0.05, classifier__max_depth=3, classifier__min_child_weight=1, classifier__n_estimators=150, classifier__subsample=0.6; total time=   1.6s\n",
      "Best parameters for xgb: {'classifier__subsample': 0.8, 'classifier__n_estimators': 200, 'classifier__min_child_weight': 1, 'classifier__max_depth': 10, 'classifier__learning_rate': 0.2, 'classifier__gamma': 0.1, 'classifier__colsample_bytree': 1.0}\n",
      "Classification report for xgb:\n",
      "              precision    recall  f1-score   support\n",
      "\n",
      "           0       0.89      0.91      0.90     20218\n",
      "           1       0.74      0.69      0.71      7113\n",
      "\n",
      "    accuracy                           0.86     27331\n",
      "   macro avg       0.81      0.80      0.81     27331\n",
      "weighted avg       0.85      0.86      0.85     27331\n",
      "\n",
      "Confusion Matrix for xgb:\n",
      "[[18457  1761]\n",
      " [ 2197  4916]]\n",
      "\n",
      "AUC for xgb: 0.92\n",
      "\n",
      "Fitting 5 folds for each of 10 candidates, totalling 50 fits\n"
     ]
    },
    {
     "name": "stderr",
     "output_type": "stream",
     "text": [
      "C:\\ProgramData\\Anaconda3\\lib\\site-packages\\sklearn\\linear_model\\_logistic.py:1476: UserWarning: l1_ratio parameter is only used when penalty is 'elasticnet'. Got (penalty=l1)\n",
      "  warnings.warn(\n",
      "C:\\ProgramData\\Anaconda3\\lib\\site-packages\\sklearn\\linear_model\\_sag.py:352: ConvergenceWarning: The max_iter was reached which means the coef_ did not converge\n",
      "  warnings.warn(\n",
      "C:\\ProgramData\\Anaconda3\\lib\\site-packages\\sklearn\\linear_model\\_logistic.py:1476: UserWarning: l1_ratio parameter is only used when penalty is 'elasticnet'. Got (penalty=l1)\n",
      "  warnings.warn(\n"
     ]
    },
    {
     "name": "stdout",
     "output_type": "stream",
     "text": [
      "[CV] END classifier__C=100, classifier__l1_ratio=0.1, classifier__penalty=l1, classifier__solver=saga; total time=   6.1s\n"
     ]
    },
    {
     "name": "stderr",
     "output_type": "stream",
     "text": [
      "C:\\ProgramData\\Anaconda3\\lib\\site-packages\\sklearn\\linear_model\\_sag.py:352: ConvergenceWarning: The max_iter was reached which means the coef_ did not converge\n",
      "  warnings.warn(\n",
      "C:\\ProgramData\\Anaconda3\\lib\\site-packages\\sklearn\\linear_model\\_logistic.py:1476: UserWarning: l1_ratio parameter is only used when penalty is 'elasticnet'. Got (penalty=l1)\n",
      "  warnings.warn(\n"
     ]
    },
    {
     "name": "stdout",
     "output_type": "stream",
     "text": [
      "[CV] END classifier__C=100, classifier__l1_ratio=0.1, classifier__penalty=l1, classifier__solver=saga; total time=   6.2s\n"
     ]
    },
    {
     "name": "stderr",
     "output_type": "stream",
     "text": [
      "C:\\ProgramData\\Anaconda3\\lib\\site-packages\\sklearn\\linear_model\\_sag.py:352: ConvergenceWarning: The max_iter was reached which means the coef_ did not converge\n",
      "  warnings.warn(\n",
      "C:\\ProgramData\\Anaconda3\\lib\\site-packages\\sklearn\\linear_model\\_logistic.py:1476: UserWarning: l1_ratio parameter is only used when penalty is 'elasticnet'. Got (penalty=l1)\n",
      "  warnings.warn(\n"
     ]
    },
    {
     "name": "stdout",
     "output_type": "stream",
     "text": [
      "[CV] END classifier__C=100, classifier__l1_ratio=0.1, classifier__penalty=l1, classifier__solver=saga; total time=   6.0s\n"
     ]
    },
    {
     "name": "stderr",
     "output_type": "stream",
     "text": [
      "C:\\ProgramData\\Anaconda3\\lib\\site-packages\\sklearn\\linear_model\\_sag.py:352: ConvergenceWarning: The max_iter was reached which means the coef_ did not converge\n",
      "  warnings.warn(\n",
      "C:\\ProgramData\\Anaconda3\\lib\\site-packages\\sklearn\\linear_model\\_logistic.py:1476: UserWarning: l1_ratio parameter is only used when penalty is 'elasticnet'. Got (penalty=l1)\n",
      "  warnings.warn(\n"
     ]
    },
    {
     "name": "stdout",
     "output_type": "stream",
     "text": [
      "[CV] END classifier__C=100, classifier__l1_ratio=0.1, classifier__penalty=l1, classifier__solver=saga; total time=   6.0s\n"
     ]
    },
    {
     "name": "stderr",
     "output_type": "stream",
     "text": [
      "C:\\ProgramData\\Anaconda3\\lib\\site-packages\\sklearn\\linear_model\\_sag.py:352: ConvergenceWarning: The max_iter was reached which means the coef_ did not converge\n",
      "  warnings.warn(\n",
      "C:\\ProgramData\\Anaconda3\\lib\\site-packages\\sklearn\\linear_model\\_logistic.py:1476: UserWarning: l1_ratio parameter is only used when penalty is 'elasticnet'. Got (penalty=l2)\n",
      "  warnings.warn(\n"
     ]
    },
    {
     "name": "stdout",
     "output_type": "stream",
     "text": [
      "[CV] END classifier__C=100, classifier__l1_ratio=0.1, classifier__penalty=l1, classifier__solver=saga; total time=   6.0s\n"
     ]
    },
    {
     "name": "stderr",
     "output_type": "stream",
     "text": [
      "C:\\ProgramData\\Anaconda3\\lib\\site-packages\\sklearn\\linear_model\\_sag.py:352: ConvergenceWarning: The max_iter was reached which means the coef_ did not converge\n",
      "  warnings.warn(\n",
      "C:\\ProgramData\\Anaconda3\\lib\\site-packages\\sklearn\\linear_model\\_logistic.py:1476: UserWarning: l1_ratio parameter is only used when penalty is 'elasticnet'. Got (penalty=l2)\n",
      "  warnings.warn(\n"
     ]
    },
    {
     "name": "stdout",
     "output_type": "stream",
     "text": [
      "[CV] END classifier__C=10, classifier__l1_ratio=1, classifier__penalty=l2, classifier__solver=saga; total time=   5.1s\n"
     ]
    },
    {
     "name": "stderr",
     "output_type": "stream",
     "text": [
      "C:\\ProgramData\\Anaconda3\\lib\\site-packages\\sklearn\\linear_model\\_sag.py:352: ConvergenceWarning: The max_iter was reached which means the coef_ did not converge\n",
      "  warnings.warn(\n",
      "C:\\ProgramData\\Anaconda3\\lib\\site-packages\\sklearn\\linear_model\\_logistic.py:1476: UserWarning: l1_ratio parameter is only used when penalty is 'elasticnet'. Got (penalty=l2)\n",
      "  warnings.warn(\n"
     ]
    },
    {
     "name": "stdout",
     "output_type": "stream",
     "text": [
      "[CV] END classifier__C=10, classifier__l1_ratio=1, classifier__penalty=l2, classifier__solver=saga; total time=   5.4s\n"
     ]
    },
    {
     "name": "stderr",
     "output_type": "stream",
     "text": [
      "C:\\ProgramData\\Anaconda3\\lib\\site-packages\\sklearn\\linear_model\\_sag.py:352: ConvergenceWarning: The max_iter was reached which means the coef_ did not converge\n",
      "  warnings.warn(\n",
      "C:\\ProgramData\\Anaconda3\\lib\\site-packages\\sklearn\\linear_model\\_logistic.py:1476: UserWarning: l1_ratio parameter is only used when penalty is 'elasticnet'. Got (penalty=l2)\n",
      "  warnings.warn(\n"
     ]
    },
    {
     "name": "stdout",
     "output_type": "stream",
     "text": [
      "[CV] END classifier__C=10, classifier__l1_ratio=1, classifier__penalty=l2, classifier__solver=saga; total time=   5.1s\n"
     ]
    },
    {
     "name": "stderr",
     "output_type": "stream",
     "text": [
      "C:\\ProgramData\\Anaconda3\\lib\\site-packages\\sklearn\\linear_model\\_sag.py:352: ConvergenceWarning: The max_iter was reached which means the coef_ did not converge\n",
      "  warnings.warn(\n",
      "C:\\ProgramData\\Anaconda3\\lib\\site-packages\\sklearn\\linear_model\\_logistic.py:1476: UserWarning: l1_ratio parameter is only used when penalty is 'elasticnet'. Got (penalty=l2)\n",
      "  warnings.warn(\n"
     ]
    },
    {
     "name": "stdout",
     "output_type": "stream",
     "text": [
      "[CV] END classifier__C=10, classifier__l1_ratio=1, classifier__penalty=l2, classifier__solver=saga; total time=   5.0s\n"
     ]
    },
    {
     "name": "stderr",
     "output_type": "stream",
     "text": [
      "C:\\ProgramData\\Anaconda3\\lib\\site-packages\\sklearn\\linear_model\\_sag.py:352: ConvergenceWarning: The max_iter was reached which means the coef_ did not converge\n",
      "  warnings.warn(\n",
      "C:\\ProgramData\\Anaconda3\\lib\\site-packages\\sklearn\\linear_model\\_logistic.py:1476: UserWarning: l1_ratio parameter is only used when penalty is 'elasticnet'. Got (penalty=l2)\n",
      "  warnings.warn(\n"
     ]
    },
    {
     "name": "stdout",
     "output_type": "stream",
     "text": [
      "[CV] END classifier__C=10, classifier__l1_ratio=1, classifier__penalty=l2, classifier__solver=saga; total time=   5.2s\n"
     ]
    },
    {
     "name": "stderr",
     "output_type": "stream",
     "text": [
      "C:\\ProgramData\\Anaconda3\\lib\\site-packages\\sklearn\\linear_model\\_sag.py:352: ConvergenceWarning: The max_iter was reached which means the coef_ did not converge\n",
      "  warnings.warn(\n",
      "C:\\ProgramData\\Anaconda3\\lib\\site-packages\\sklearn\\linear_model\\_logistic.py:1476: UserWarning: l1_ratio parameter is only used when penalty is 'elasticnet'. Got (penalty=l2)\n",
      "  warnings.warn(\n"
     ]
    },
    {
     "name": "stdout",
     "output_type": "stream",
     "text": [
      "[CV] END classifier__C=10, classifier__l1_ratio=0.7, classifier__penalty=l2, classifier__solver=saga; total time=   5.0s\n"
     ]
    },
    {
     "name": "stderr",
     "output_type": "stream",
     "text": [
      "C:\\ProgramData\\Anaconda3\\lib\\site-packages\\sklearn\\linear_model\\_sag.py:352: ConvergenceWarning: The max_iter was reached which means the coef_ did not converge\n",
      "  warnings.warn(\n",
      "C:\\ProgramData\\Anaconda3\\lib\\site-packages\\sklearn\\linear_model\\_logistic.py:1476: UserWarning: l1_ratio parameter is only used when penalty is 'elasticnet'. Got (penalty=l2)\n",
      "  warnings.warn(\n"
     ]
    },
    {
     "name": "stdout",
     "output_type": "stream",
     "text": [
      "[CV] END classifier__C=10, classifier__l1_ratio=0.7, classifier__penalty=l2, classifier__solver=saga; total time=   5.1s\n"
     ]
    },
    {
     "name": "stderr",
     "output_type": "stream",
     "text": [
      "C:\\ProgramData\\Anaconda3\\lib\\site-packages\\sklearn\\linear_model\\_sag.py:352: ConvergenceWarning: The max_iter was reached which means the coef_ did not converge\n",
      "  warnings.warn(\n",
      "C:\\ProgramData\\Anaconda3\\lib\\site-packages\\sklearn\\linear_model\\_logistic.py:1476: UserWarning: l1_ratio parameter is only used when penalty is 'elasticnet'. Got (penalty=l2)\n",
      "  warnings.warn(\n"
     ]
    },
    {
     "name": "stdout",
     "output_type": "stream",
     "text": [
      "[CV] END classifier__C=10, classifier__l1_ratio=0.7, classifier__penalty=l2, classifier__solver=saga; total time=   5.0s\n"
     ]
    },
    {
     "name": "stderr",
     "output_type": "stream",
     "text": [
      "C:\\ProgramData\\Anaconda3\\lib\\site-packages\\sklearn\\linear_model\\_sag.py:352: ConvergenceWarning: The max_iter was reached which means the coef_ did not converge\n",
      "  warnings.warn(\n",
      "C:\\ProgramData\\Anaconda3\\lib\\site-packages\\sklearn\\linear_model\\_logistic.py:1476: UserWarning: l1_ratio parameter is only used when penalty is 'elasticnet'. Got (penalty=l2)\n",
      "  warnings.warn(\n"
     ]
    },
    {
     "name": "stdout",
     "output_type": "stream",
     "text": [
      "[CV] END classifier__C=10, classifier__l1_ratio=0.7, classifier__penalty=l2, classifier__solver=saga; total time=   5.2s\n"
     ]
    },
    {
     "name": "stderr",
     "output_type": "stream",
     "text": [
      "C:\\ProgramData\\Anaconda3\\lib\\site-packages\\sklearn\\linear_model\\_sag.py:352: ConvergenceWarning: The max_iter was reached which means the coef_ did not converge\n",
      "  warnings.warn(\n"
     ]
    },
    {
     "name": "stdout",
     "output_type": "stream",
     "text": [
      "[CV] END classifier__C=10, classifier__l1_ratio=0.7, classifier__penalty=l2, classifier__solver=saga; total time=   5.1s\n"
     ]
    },
    {
     "name": "stderr",
     "output_type": "stream",
     "text": [
      "C:\\ProgramData\\Anaconda3\\lib\\site-packages\\sklearn\\linear_model\\_sag.py:352: ConvergenceWarning: The max_iter was reached which means the coef_ did not converge\n",
      "  warnings.warn(\n"
     ]
    },
    {
     "name": "stdout",
     "output_type": "stream",
     "text": [
      "[CV] END classifier__C=100, classifier__l1_ratio=1, classifier__penalty=elasticnet, classifier__solver=saga; total time=   6.0s\n"
     ]
    },
    {
     "name": "stderr",
     "output_type": "stream",
     "text": [
      "C:\\ProgramData\\Anaconda3\\lib\\site-packages\\sklearn\\linear_model\\_sag.py:352: ConvergenceWarning: The max_iter was reached which means the coef_ did not converge\n",
      "  warnings.warn(\n"
     ]
    },
    {
     "name": "stdout",
     "output_type": "stream",
     "text": [
      "[CV] END classifier__C=100, classifier__l1_ratio=1, classifier__penalty=elasticnet, classifier__solver=saga; total time=   5.9s\n"
     ]
    },
    {
     "name": "stderr",
     "output_type": "stream",
     "text": [
      "C:\\ProgramData\\Anaconda3\\lib\\site-packages\\sklearn\\linear_model\\_sag.py:352: ConvergenceWarning: The max_iter was reached which means the coef_ did not converge\n",
      "  warnings.warn(\n"
     ]
    },
    {
     "name": "stdout",
     "output_type": "stream",
     "text": [
      "[CV] END classifier__C=100, classifier__l1_ratio=1, classifier__penalty=elasticnet, classifier__solver=saga; total time=   5.9s\n"
     ]
    },
    {
     "name": "stderr",
     "output_type": "stream",
     "text": [
      "C:\\ProgramData\\Anaconda3\\lib\\site-packages\\sklearn\\linear_model\\_sag.py:352: ConvergenceWarning: The max_iter was reached which means the coef_ did not converge\n",
      "  warnings.warn(\n"
     ]
    },
    {
     "name": "stdout",
     "output_type": "stream",
     "text": [
      "[CV] END classifier__C=100, classifier__l1_ratio=1, classifier__penalty=elasticnet, classifier__solver=saga; total time=   6.0s\n"
     ]
    },
    {
     "name": "stderr",
     "output_type": "stream",
     "text": [
      "C:\\ProgramData\\Anaconda3\\lib\\site-packages\\sklearn\\linear_model\\_sag.py:352: ConvergenceWarning: The max_iter was reached which means the coef_ did not converge\n",
      "  warnings.warn(\n",
      "C:\\ProgramData\\Anaconda3\\lib\\site-packages\\sklearn\\linear_model\\_logistic.py:1476: UserWarning: l1_ratio parameter is only used when penalty is 'elasticnet'. Got (penalty=l2)\n",
      "  warnings.warn(\n"
     ]
    },
    {
     "name": "stdout",
     "output_type": "stream",
     "text": [
      "[CV] END classifier__C=100, classifier__l1_ratio=1, classifier__penalty=elasticnet, classifier__solver=saga; total time=   5.9s\n",
      "[CV] END classifier__C=0.1, classifier__l1_ratio=0.1, classifier__penalty=l2, classifier__solver=saga; total time=   0.5s\n"
     ]
    },
    {
     "name": "stderr",
     "output_type": "stream",
     "text": [
      "C:\\ProgramData\\Anaconda3\\lib\\site-packages\\sklearn\\linear_model\\_logistic.py:1476: UserWarning: l1_ratio parameter is only used when penalty is 'elasticnet'. Got (penalty=l2)\n",
      "  warnings.warn(\n"
     ]
    },
    {
     "name": "stdout",
     "output_type": "stream",
     "text": [
      "[CV] END classifier__C=0.1, classifier__l1_ratio=0.1, classifier__penalty=l2, classifier__solver=saga; total time=   0.5s\n"
     ]
    },
    {
     "name": "stderr",
     "output_type": "stream",
     "text": [
      "C:\\ProgramData\\Anaconda3\\lib\\site-packages\\sklearn\\linear_model\\_logistic.py:1476: UserWarning: l1_ratio parameter is only used when penalty is 'elasticnet'. Got (penalty=l2)\n",
      "  warnings.warn(\n"
     ]
    },
    {
     "name": "stdout",
     "output_type": "stream",
     "text": [
      "[CV] END classifier__C=0.1, classifier__l1_ratio=0.1, classifier__penalty=l2, classifier__solver=saga; total time=   0.5s\n"
     ]
    },
    {
     "name": "stderr",
     "output_type": "stream",
     "text": [
      "C:\\ProgramData\\Anaconda3\\lib\\site-packages\\sklearn\\linear_model\\_logistic.py:1476: UserWarning: l1_ratio parameter is only used when penalty is 'elasticnet'. Got (penalty=l2)\n",
      "  warnings.warn(\n"
     ]
    },
    {
     "name": "stdout",
     "output_type": "stream",
     "text": [
      "[CV] END classifier__C=0.1, classifier__l1_ratio=0.1, classifier__penalty=l2, classifier__solver=saga; total time=   0.5s\n"
     ]
    },
    {
     "name": "stderr",
     "output_type": "stream",
     "text": [
      "C:\\ProgramData\\Anaconda3\\lib\\site-packages\\sklearn\\linear_model\\_logistic.py:1476: UserWarning: l1_ratio parameter is only used when penalty is 'elasticnet'. Got (penalty=l2)\n",
      "  warnings.warn(\n"
     ]
    },
    {
     "name": "stdout",
     "output_type": "stream",
     "text": [
      "[CV] END classifier__C=0.1, classifier__l1_ratio=0.1, classifier__penalty=l2, classifier__solver=saga; total time=   0.4s\n"
     ]
    },
    {
     "name": "stderr",
     "output_type": "stream",
     "text": [
      "C:\\ProgramData\\Anaconda3\\lib\\site-packages\\sklearn\\linear_model\\_logistic.py:1476: UserWarning: l1_ratio parameter is only used when penalty is 'elasticnet'. Got (penalty=none)\n",
      "  warnings.warn(\n",
      "C:\\ProgramData\\Anaconda3\\lib\\site-packages\\sklearn\\linear_model\\_logistic.py:1483: UserWarning: Setting penalty='none' will ignore the C and l1_ratio parameters\n",
      "  warnings.warn(\n",
      "C:\\ProgramData\\Anaconda3\\lib\\site-packages\\sklearn\\linear_model\\_sag.py:352: ConvergenceWarning: The max_iter was reached which means the coef_ did not converge\n",
      "  warnings.warn(\n",
      "C:\\ProgramData\\Anaconda3\\lib\\site-packages\\sklearn\\linear_model\\_logistic.py:1476: UserWarning: l1_ratio parameter is only used when penalty is 'elasticnet'. Got (penalty=none)\n",
      "  warnings.warn(\n",
      "C:\\ProgramData\\Anaconda3\\lib\\site-packages\\sklearn\\linear_model\\_logistic.py:1483: UserWarning: Setting penalty='none' will ignore the C and l1_ratio parameters\n",
      "  warnings.warn(\n"
     ]
    },
    {
     "name": "stdout",
     "output_type": "stream",
     "text": [
      "[CV] END classifier__C=10, classifier__l1_ratio=1, classifier__penalty=none, classifier__solver=saga; total time=   5.0s\n"
     ]
    },
    {
     "name": "stderr",
     "output_type": "stream",
     "text": [
      "C:\\ProgramData\\Anaconda3\\lib\\site-packages\\sklearn\\linear_model\\_sag.py:352: ConvergenceWarning: The max_iter was reached which means the coef_ did not converge\n",
      "  warnings.warn(\n",
      "C:\\ProgramData\\Anaconda3\\lib\\site-packages\\sklearn\\linear_model\\_logistic.py:1476: UserWarning: l1_ratio parameter is only used when penalty is 'elasticnet'. Got (penalty=none)\n",
      "  warnings.warn(\n",
      "C:\\ProgramData\\Anaconda3\\lib\\site-packages\\sklearn\\linear_model\\_logistic.py:1483: UserWarning: Setting penalty='none' will ignore the C and l1_ratio parameters\n",
      "  warnings.warn(\n"
     ]
    },
    {
     "name": "stdout",
     "output_type": "stream",
     "text": [
      "[CV] END classifier__C=10, classifier__l1_ratio=1, classifier__penalty=none, classifier__solver=saga; total time=   5.0s\n"
     ]
    },
    {
     "name": "stderr",
     "output_type": "stream",
     "text": [
      "C:\\ProgramData\\Anaconda3\\lib\\site-packages\\sklearn\\linear_model\\_sag.py:352: ConvergenceWarning: The max_iter was reached which means the coef_ did not converge\n",
      "  warnings.warn(\n",
      "C:\\ProgramData\\Anaconda3\\lib\\site-packages\\sklearn\\linear_model\\_logistic.py:1476: UserWarning: l1_ratio parameter is only used when penalty is 'elasticnet'. Got (penalty=none)\n",
      "  warnings.warn(\n",
      "C:\\ProgramData\\Anaconda3\\lib\\site-packages\\sklearn\\linear_model\\_logistic.py:1483: UserWarning: Setting penalty='none' will ignore the C and l1_ratio parameters\n",
      "  warnings.warn(\n"
     ]
    },
    {
     "name": "stdout",
     "output_type": "stream",
     "text": [
      "[CV] END classifier__C=10, classifier__l1_ratio=1, classifier__penalty=none, classifier__solver=saga; total time=   5.0s\n"
     ]
    },
    {
     "name": "stderr",
     "output_type": "stream",
     "text": [
      "C:\\ProgramData\\Anaconda3\\lib\\site-packages\\sklearn\\linear_model\\_sag.py:352: ConvergenceWarning: The max_iter was reached which means the coef_ did not converge\n",
      "  warnings.warn(\n",
      "C:\\ProgramData\\Anaconda3\\lib\\site-packages\\sklearn\\linear_model\\_logistic.py:1476: UserWarning: l1_ratio parameter is only used when penalty is 'elasticnet'. Got (penalty=none)\n",
      "  warnings.warn(\n",
      "C:\\ProgramData\\Anaconda3\\lib\\site-packages\\sklearn\\linear_model\\_logistic.py:1483: UserWarning: Setting penalty='none' will ignore the C and l1_ratio parameters\n",
      "  warnings.warn(\n"
     ]
    },
    {
     "name": "stdout",
     "output_type": "stream",
     "text": [
      "[CV] END classifier__C=10, classifier__l1_ratio=1, classifier__penalty=none, classifier__solver=saga; total time=   5.1s\n"
     ]
    },
    {
     "name": "stderr",
     "output_type": "stream",
     "text": [
      "C:\\ProgramData\\Anaconda3\\lib\\site-packages\\sklearn\\linear_model\\_sag.py:352: ConvergenceWarning: The max_iter was reached which means the coef_ did not converge\n",
      "  warnings.warn(\n",
      "C:\\ProgramData\\Anaconda3\\lib\\site-packages\\sklearn\\linear_model\\_logistic.py:1476: UserWarning: l1_ratio parameter is only used when penalty is 'elasticnet'. Got (penalty=l2)\n",
      "  warnings.warn(\n"
     ]
    },
    {
     "name": "stdout",
     "output_type": "stream",
     "text": [
      "[CV] END classifier__C=10, classifier__l1_ratio=1, classifier__penalty=none, classifier__solver=saga; total time=   5.0s\n"
     ]
    },
    {
     "name": "stderr",
     "output_type": "stream",
     "text": [
      "C:\\ProgramData\\Anaconda3\\lib\\site-packages\\sklearn\\linear_model\\_sag.py:352: ConvergenceWarning: The max_iter was reached which means the coef_ did not converge\n",
      "  warnings.warn(\n",
      "C:\\ProgramData\\Anaconda3\\lib\\site-packages\\sklearn\\linear_model\\_logistic.py:1476: UserWarning: l1_ratio parameter is only used when penalty is 'elasticnet'. Got (penalty=l2)\n",
      "  warnings.warn(\n"
     ]
    },
    {
     "name": "stdout",
     "output_type": "stream",
     "text": [
      "[CV] END classifier__C=10, classifier__l1_ratio=0.5, classifier__penalty=l2, classifier__solver=saga; total time=   5.0s\n"
     ]
    },
    {
     "name": "stderr",
     "output_type": "stream",
     "text": [
      "C:\\ProgramData\\Anaconda3\\lib\\site-packages\\sklearn\\linear_model\\_sag.py:352: ConvergenceWarning: The max_iter was reached which means the coef_ did not converge\n",
      "  warnings.warn(\n",
      "C:\\ProgramData\\Anaconda3\\lib\\site-packages\\sklearn\\linear_model\\_logistic.py:1476: UserWarning: l1_ratio parameter is only used when penalty is 'elasticnet'. Got (penalty=l2)\n",
      "  warnings.warn(\n"
     ]
    },
    {
     "name": "stdout",
     "output_type": "stream",
     "text": [
      "[CV] END classifier__C=10, classifier__l1_ratio=0.5, classifier__penalty=l2, classifier__solver=saga; total time=   5.0s\n"
     ]
    },
    {
     "name": "stderr",
     "output_type": "stream",
     "text": [
      "C:\\ProgramData\\Anaconda3\\lib\\site-packages\\sklearn\\linear_model\\_sag.py:352: ConvergenceWarning: The max_iter was reached which means the coef_ did not converge\n",
      "  warnings.warn(\n",
      "C:\\ProgramData\\Anaconda3\\lib\\site-packages\\sklearn\\linear_model\\_logistic.py:1476: UserWarning: l1_ratio parameter is only used when penalty is 'elasticnet'. Got (penalty=l2)\n",
      "  warnings.warn(\n"
     ]
    },
    {
     "name": "stdout",
     "output_type": "stream",
     "text": [
      "[CV] END classifier__C=10, classifier__l1_ratio=0.5, classifier__penalty=l2, classifier__solver=saga; total time=   5.1s\n"
     ]
    },
    {
     "name": "stderr",
     "output_type": "stream",
     "text": [
      "C:\\ProgramData\\Anaconda3\\lib\\site-packages\\sklearn\\linear_model\\_sag.py:352: ConvergenceWarning: The max_iter was reached which means the coef_ did not converge\n",
      "  warnings.warn(\n",
      "C:\\ProgramData\\Anaconda3\\lib\\site-packages\\sklearn\\linear_model\\_logistic.py:1476: UserWarning: l1_ratio parameter is only used when penalty is 'elasticnet'. Got (penalty=l2)\n",
      "  warnings.warn(\n"
     ]
    },
    {
     "name": "stdout",
     "output_type": "stream",
     "text": [
      "[CV] END classifier__C=10, classifier__l1_ratio=0.5, classifier__penalty=l2, classifier__solver=saga; total time=   5.1s\n"
     ]
    },
    {
     "name": "stderr",
     "output_type": "stream",
     "text": [
      "C:\\ProgramData\\Anaconda3\\lib\\site-packages\\sklearn\\linear_model\\_sag.py:352: ConvergenceWarning: The max_iter was reached which means the coef_ did not converge\n",
      "  warnings.warn(\n"
     ]
    },
    {
     "name": "stdout",
     "output_type": "stream",
     "text": [
      "[CV] END classifier__C=10, classifier__l1_ratio=0.5, classifier__penalty=l2, classifier__solver=saga; total time=   5.1s\n",
      "[CV] END classifier__C=0.1, classifier__l1_ratio=0.7, classifier__penalty=elasticnet, classifier__solver=saga; total time=   0.6s\n",
      "[CV] END classifier__C=0.1, classifier__l1_ratio=0.7, classifier__penalty=elasticnet, classifier__solver=saga; total time=   0.6s\n",
      "[CV] END classifier__C=0.1, classifier__l1_ratio=0.7, classifier__penalty=elasticnet, classifier__solver=saga; total time=   0.6s\n",
      "[CV] END classifier__C=0.1, classifier__l1_ratio=0.7, classifier__penalty=elasticnet, classifier__solver=saga; total time=   0.6s\n",
      "[CV] END classifier__C=0.1, classifier__l1_ratio=0.7, classifier__penalty=elasticnet, classifier__solver=saga; total time=   0.5s\n"
     ]
    },
    {
     "name": "stderr",
     "output_type": "stream",
     "text": [
      "C:\\ProgramData\\Anaconda3\\lib\\site-packages\\sklearn\\linear_model\\_logistic.py:1476: UserWarning: l1_ratio parameter is only used when penalty is 'elasticnet'. Got (penalty=l1)\n",
      "  warnings.warn(\n"
     ]
    },
    {
     "name": "stdout",
     "output_type": "stream",
     "text": [
      "[CV] END classifier__C=0.001, classifier__l1_ratio=0.1, classifier__penalty=l1, classifier__solver=saga; total time=   0.5s\n"
     ]
    },
    {
     "name": "stderr",
     "output_type": "stream",
     "text": [
      "C:\\ProgramData\\Anaconda3\\lib\\site-packages\\sklearn\\linear_model\\_logistic.py:1476: UserWarning: l1_ratio parameter is only used when penalty is 'elasticnet'. Got (penalty=l1)\n",
      "  warnings.warn(\n"
     ]
    },
    {
     "name": "stdout",
     "output_type": "stream",
     "text": [
      "[CV] END classifier__C=0.001, classifier__l1_ratio=0.1, classifier__penalty=l1, classifier__solver=saga; total time=   0.5s\n"
     ]
    },
    {
     "name": "stderr",
     "output_type": "stream",
     "text": [
      "C:\\ProgramData\\Anaconda3\\lib\\site-packages\\sklearn\\linear_model\\_logistic.py:1476: UserWarning: l1_ratio parameter is only used when penalty is 'elasticnet'. Got (penalty=l1)\n",
      "  warnings.warn(\n"
     ]
    },
    {
     "name": "stdout",
     "output_type": "stream",
     "text": [
      "[CV] END classifier__C=0.001, classifier__l1_ratio=0.1, classifier__penalty=l1, classifier__solver=saga; total time=   0.4s\n"
     ]
    },
    {
     "name": "stderr",
     "output_type": "stream",
     "text": [
      "C:\\ProgramData\\Anaconda3\\lib\\site-packages\\sklearn\\linear_model\\_logistic.py:1476: UserWarning: l1_ratio parameter is only used when penalty is 'elasticnet'. Got (penalty=l1)\n",
      "  warnings.warn(\n"
     ]
    },
    {
     "name": "stdout",
     "output_type": "stream",
     "text": [
      "[CV] END classifier__C=0.001, classifier__l1_ratio=0.1, classifier__penalty=l1, classifier__solver=saga; total time=   0.5s\n"
     ]
    },
    {
     "name": "stderr",
     "output_type": "stream",
     "text": [
      "C:\\ProgramData\\Anaconda3\\lib\\site-packages\\sklearn\\linear_model\\_logistic.py:1476: UserWarning: l1_ratio parameter is only used when penalty is 'elasticnet'. Got (penalty=l1)\n",
      "  warnings.warn(\n"
     ]
    },
    {
     "name": "stdout",
     "output_type": "stream",
     "text": [
      "[CV] END classifier__C=0.001, classifier__l1_ratio=0.1, classifier__penalty=l1, classifier__solver=saga; total time=   0.4s\n",
      "[CV] END classifier__C=0.001, classifier__l1_ratio=0.7, classifier__penalty=elasticnet, classifier__solver=saga; total time=   0.6s\n",
      "[CV] END classifier__C=0.001, classifier__l1_ratio=0.7, classifier__penalty=elasticnet, classifier__solver=saga; total time=   0.5s\n",
      "[CV] END classifier__C=0.001, classifier__l1_ratio=0.7, classifier__penalty=elasticnet, classifier__solver=saga; total time=   0.7s\n",
      "[CV] END classifier__C=0.001, classifier__l1_ratio=0.7, classifier__penalty=elasticnet, classifier__solver=saga; total time=   0.6s\n",
      "[CV] END classifier__C=0.001, classifier__l1_ratio=0.7, classifier__penalty=elasticnet, classifier__solver=saga; total time=   0.6s\n"
     ]
    },
    {
     "name": "stderr",
     "output_type": "stream",
     "text": [
      "C:\\ProgramData\\Anaconda3\\lib\\site-packages\\sklearn\\linear_model\\_logistic.py:1476: UserWarning: l1_ratio parameter is only used when penalty is 'elasticnet'. Got (penalty=l2)\n",
      "  warnings.warn(\n",
      "C:\\ProgramData\\Anaconda3\\lib\\site-packages\\sklearn\\linear_model\\_sag.py:352: ConvergenceWarning: The max_iter was reached which means the coef_ did not converge\n",
      "  warnings.warn(\n"
     ]
    },
    {
     "name": "stdout",
     "output_type": "stream",
     "text": [
      "Best parameters for lr: {'classifier__solver': 'saga', 'classifier__penalty': 'l2', 'classifier__l1_ratio': 1, 'classifier__C': 10}\n",
      "Classification report for lr:\n",
      "              precision    recall  f1-score   support\n",
      "\n",
      "           0       0.87      0.99      0.93     20218\n",
      "           1       0.96      0.58      0.73      7113\n",
      "\n",
      "    accuracy                           0.89     27331\n",
      "   macro avg       0.92      0.79      0.83     27331\n",
      "weighted avg       0.90      0.89      0.88     27331\n",
      "\n",
      "Confusion Matrix for lr:\n",
      "[[20063   155]\n",
      " [ 2970  4143]]\n",
      "\n",
      "AUC for lr: 0.94\n",
      "\n"
     ]
    },
    {
     "data": {
      "image/png": "[encoded data removed]",
      "text/plain": [
       "<Figure size 432x288 with 1 Axes>"
      ]
     },
     "metadata": {
      "needs_background": "light"
     },
     "output_type": "display_data"
    }
   ],
   "source": [
    "print(\"Evaluating Random Search Selected Features\")\n",
    "run_models(X_train_smote, X_test, y_train_smote, y_test, random_search_selected_features)"
   ]
  },
  {
   "cell_type": "code",
   "execution_count": 23,
   "id": "69a3e4a3",
   "metadata": {},
   "outputs": [
    {
     "name": "stdout",
     "output_type": "stream",
     "text": [
      "Evaluating Simulated Annealing Selected Features\n",
      "Fitting 5 folds for each of 10 candidates, totalling 50 fits\n",
      "[CV] END classifier__max_depth=50, classifier__max_features=log2, classifier__min_samples_leaf=2, classifier__min_samples_split=10; total time=  22.4s\n",
      "[CV] END classifier__max_depth=50, classifier__max_features=log2, classifier__min_samples_leaf=2, classifier__min_samples_split=10; total time=  22.1s\n",
      "[CV] END classifier__max_depth=50, classifier__max_features=log2, classifier__min_samples_leaf=2, classifier__min_samples_split=10; total time=  21.4s\n",
      "[CV] END classifier__max_depth=50, classifier__max_features=log2, classifier__min_samples_leaf=2, classifier__min_samples_split=10; total time=  22.1s\n",
      "[CV] END classifier__max_depth=50, classifier__max_features=log2, classifier__min_samples_leaf=2, classifier__min_samples_split=10; total time=  21.8s\n",
      "[CV] END classifier__max_depth=40, classifier__max_features=auto, classifier__min_samples_leaf=1, classifier__min_samples_split=5; total time=  29.8s\n",
      "[CV] END classifier__max_depth=40, classifier__max_features=auto, classifier__min_samples_leaf=1, classifier__min_samples_split=5; total time=  29.4s\n",
      "[CV] END classifier__max_depth=40, classifier__max_features=auto, classifier__min_samples_leaf=1, classifier__min_samples_split=5; total time=  29.5s\n",
      "[CV] END classifier__max_depth=40, classifier__max_features=auto, classifier__min_samples_leaf=1, classifier__min_samples_split=5; total time=  30.0s\n",
      "[CV] END classifier__max_depth=40, classifier__max_features=auto, classifier__min_samples_leaf=1, classifier__min_samples_split=5; total time=  29.6s\n",
      "[CV] END classifier__max_depth=40, classifier__max_features=log2, classifier__min_samples_leaf=2, classifier__min_samples_split=10; total time=  22.4s\n",
      "[CV] END classifier__max_depth=40, classifier__max_features=log2, classifier__min_samples_leaf=2, classifier__min_samples_split=10; total time=  22.0s\n",
      "[CV] END classifier__max_depth=40, classifier__max_features=log2, classifier__min_samples_leaf=2, classifier__min_samples_split=10; total time=  22.1s\n",
      "[CV] END classifier__max_depth=40, classifier__max_features=log2, classifier__min_samples_leaf=2, classifier__min_samples_split=10; total time=  22.1s\n",
      "[CV] END classifier__max_depth=40, classifier__max_features=log2, classifier__min_samples_leaf=2, classifier__min_samples_split=10; total time=  22.0s\n",
      "[CV] END classifier__max_depth=20, classifier__max_features=auto, classifier__min_samples_leaf=1, classifier__min_samples_split=5; total time=  27.4s\n",
      "[CV] END classifier__max_depth=20, classifier__max_features=auto, classifier__min_samples_leaf=1, classifier__min_samples_split=5; total time=  27.4s\n",
      "[CV] END classifier__max_depth=20, classifier__max_features=auto, classifier__min_samples_leaf=1, classifier__min_samples_split=5; total time=  27.4s\n",
      "[CV] END classifier__max_depth=20, classifier__max_features=auto, classifier__min_samples_leaf=1, classifier__min_samples_split=5; total time=  27.4s\n",
      "[CV] END classifier__max_depth=20, classifier__max_features=auto, classifier__min_samples_leaf=1, classifier__min_samples_split=5; total time=  27.4s\n",
      "[CV] END classifier__max_depth=30, classifier__max_features=sqrt, classifier__min_samples_leaf=2, classifier__min_samples_split=5; total time=  28.8s\n",
      "[CV] END classifier__max_depth=30, classifier__max_features=sqrt, classifier__min_samples_leaf=2, classifier__min_samples_split=5; total time=  28.7s\n",
      "[CV] END classifier__max_depth=30, classifier__max_features=sqrt, classifier__min_samples_leaf=2, classifier__min_samples_split=5; total time=  28.8s\n",
      "[CV] END classifier__max_depth=30, classifier__max_features=sqrt, classifier__min_samples_leaf=2, classifier__min_samples_split=5; total time=  28.5s\n",
      "[CV] END classifier__max_depth=30, classifier__max_features=sqrt, classifier__min_samples_leaf=2, classifier__min_samples_split=5; total time=  28.7s\n",
      "[CV] END classifier__max_depth=10, classifier__max_features=auto, classifier__min_samples_leaf=1, classifier__min_samples_split=10; total time=  17.9s\n",
      "[CV] END classifier__max_depth=10, classifier__max_features=auto, classifier__min_samples_leaf=1, classifier__min_samples_split=10; total time=  17.7s\n",
      "[CV] END classifier__max_depth=10, classifier__max_features=auto, classifier__min_samples_leaf=1, classifier__min_samples_split=10; total time=  17.6s\n",
      "[CV] END classifier__max_depth=10, classifier__max_features=auto, classifier__min_samples_leaf=1, classifier__min_samples_split=10; total time=  17.6s\n",
      "[CV] END classifier__max_depth=10, classifier__max_features=auto, classifier__min_samples_leaf=1, classifier__min_samples_split=10; total time=  17.5s\n",
      "[CV] END classifier__max_depth=30, classifier__max_features=log2, classifier__min_samples_leaf=1, classifier__min_samples_split=10; total time=  22.9s\n",
      "[CV] END classifier__max_depth=30, classifier__max_features=log2, classifier__min_samples_leaf=1, classifier__min_samples_split=10; total time=  23.0s\n",
      "[CV] END classifier__max_depth=30, classifier__max_features=log2, classifier__min_samples_leaf=1, classifier__min_samples_split=10; total time=  22.8s\n",
      "[CV] END classifier__max_depth=30, classifier__max_features=log2, classifier__min_samples_leaf=1, classifier__min_samples_split=10; total time=  22.8s\n",
      "[CV] END classifier__max_depth=30, classifier__max_features=log2, classifier__min_samples_leaf=1, classifier__min_samples_split=10; total time=  22.7s\n",
      "[CV] END classifier__max_depth=10, classifier__max_features=log2, classifier__min_samples_leaf=4, classifier__min_samples_split=2; total time=  13.4s\n",
      "[CV] END classifier__max_depth=10, classifier__max_features=log2, classifier__min_samples_leaf=4, classifier__min_samples_split=2; total time=  13.3s\n",
      "[CV] END classifier__max_depth=10, classifier__max_features=log2, classifier__min_samples_leaf=4, classifier__min_samples_split=2; total time=  13.0s\n",
      "[CV] END classifier__max_depth=10, classifier__max_features=log2, classifier__min_samples_leaf=4, classifier__min_samples_split=2; total time=  13.0s\n",
      "[CV] END classifier__max_depth=10, classifier__max_features=log2, classifier__min_samples_leaf=4, classifier__min_samples_split=2; total time=  13.0s\n",
      "[CV] END classifier__max_depth=30, classifier__max_features=log2, classifier__min_samples_leaf=1, classifier__min_samples_split=5; total time=  23.2s\n",
      "[CV] END classifier__max_depth=30, classifier__max_features=log2, classifier__min_samples_leaf=1, classifier__min_samples_split=5; total time=  22.9s\n",
      "[CV] END classifier__max_depth=30, classifier__max_features=log2, classifier__min_samples_leaf=1, classifier__min_samples_split=5; total time=  23.0s\n",
      "[CV] END classifier__max_depth=30, classifier__max_features=log2, classifier__min_samples_leaf=1, classifier__min_samples_split=5; total time=  23.1s\n",
      "[CV] END classifier__max_depth=30, classifier__max_features=log2, classifier__min_samples_leaf=1, classifier__min_samples_split=5; total time=  23.1s\n",
      "[CV] END classifier__max_depth=50, classifier__max_features=sqrt, classifier__min_samples_leaf=1, classifier__min_samples_split=2; total time=  30.0s\n",
      "[CV] END classifier__max_depth=50, classifier__max_features=sqrt, classifier__min_samples_leaf=1, classifier__min_samples_split=2; total time=  30.5s\n",
      "[CV] END classifier__max_depth=50, classifier__max_features=sqrt, classifier__min_samples_leaf=1, classifier__min_samples_split=2; total time=  31.2s\n",
      "[CV] END classifier__max_depth=50, classifier__max_features=sqrt, classifier__min_samples_leaf=1, classifier__min_samples_split=2; total time=  29.3s\n",
      "[CV] END classifier__max_depth=50, classifier__max_features=sqrt, classifier__min_samples_leaf=1, classifier__min_samples_split=2; total time=  29.3s\n",
      "Best parameters for rf: {'classifier__min_samples_split': 2, 'classifier__min_samples_leaf': 1, 'classifier__max_features': 'sqrt', 'classifier__max_depth': 50}\n",
      "Classification report for rf:\n",
      "              precision    recall  f1-score   support\n",
      "\n",
      "           0       0.91      0.90      0.90     20218\n",
      "           1       0.72      0.74      0.73      7113\n",
      "\n",
      "    accuracy                           0.86     27331\n",
      "   macro avg       0.81      0.82      0.81     27331\n",
      "weighted avg       0.86      0.86      0.86     27331\n",
      "\n",
      "Confusion Matrix for rf:\n",
      "[[18149  2069]\n",
      " [ 1874  5239]]\n",
      "\n",
      "AUC for rf: 0.92\n",
      "\n",
      "Fitting 5 folds for each of 10 candidates, totalling 50 fits\n"
     ]
    },
    {
     "name": "stdout",
     "output_type": "stream",
     "text": [
      "[CV] END classifier__max_depth=50, classifier__max_features=log2, classifier__min_samples_leaf=2, classifier__min_samples_split=10; total time=   0.3s\n",
      "[CV] END classifier__max_depth=50, classifier__max_features=log2, classifier__min_samples_leaf=2, classifier__min_samples_split=10; total time=   0.3s\n",
      "[CV] END classifier__max_depth=50, classifier__max_features=log2, classifier__min_samples_leaf=2, classifier__min_samples_split=10; total time=   0.3s\n",
      "[CV] END classifier__max_depth=50, classifier__max_features=log2, classifier__min_samples_leaf=2, classifier__min_samples_split=10; total time=   0.2s\n",
      "[CV] END classifier__max_depth=50, classifier__max_features=log2, classifier__min_samples_leaf=2, classifier__min_samples_split=10; total time=   0.3s\n",
      "[CV] END classifier__max_depth=40, classifier__max_features=auto, classifier__min_samples_leaf=1, classifier__min_samples_split=5; total time=   0.4s\n",
      "[CV] END classifier__max_depth=40, classifier__max_features=auto, classifier__min_samples_leaf=1, classifier__min_samples_split=5; total time=   0.4s\n",
      "[CV] END classifier__max_depth=40, classifier__max_features=auto, classifier__min_samples_leaf=1, classifier__min_samples_split=5; total time=   0.4s\n",
      "[CV] END classifier__max_depth=40, classifier__max_features=auto, classifier__min_samples_leaf=1, classifier__min_samples_split=5; total time=   0.4s\n",
      "[CV] END classifier__max_depth=40, classifier__max_features=auto, classifier__min_samples_leaf=1, classifier__min_samples_split=5; total time=   0.4s\n",
      "[CV] END classifier__max_depth=40, classifier__max_features=log2, classifier__min_samples_leaf=2, classifier__min_samples_split=10; total time=   0.2s\n",
      "[CV] END classifier__max_depth=40, classifier__max_features=log2, classifier__min_samples_leaf=2, classifier__min_samples_split=10; total time=   0.3s\n",
      "[CV] END classifier__max_depth=40, classifier__max_features=log2, classifier__min_samples_leaf=2, classifier__min_samples_split=10; total time=   0.3s\n",
      "[CV] END classifier__max_depth=40, classifier__max_features=log2, classifier__min_samples_leaf=2, classifier__min_samples_split=10; total time=   0.2s\n",
      "[CV] END classifier__max_depth=40, classifier__max_features=log2, classifier__min_samples_leaf=2, classifier__min_samples_split=10; total time=   0.3s\n",
      "[CV] END classifier__max_depth=20, classifier__max_features=auto, classifier__min_samples_leaf=1, classifier__min_samples_split=5; total time=   0.4s\n",
      "[CV] END classifier__max_depth=20, classifier__max_features=auto, classifier__min_samples_leaf=1, classifier__min_samples_split=5; total time=   0.4s\n",
      "[CV] END classifier__max_depth=20, classifier__max_features=auto, classifier__min_samples_leaf=1, classifier__min_samples_split=5; total time=   0.4s\n",
      "[CV] END classifier__max_depth=20, classifier__max_features=auto, classifier__min_samples_leaf=1, classifier__min_samples_split=5; total time=   0.4s\n",
      "[CV] END classifier__max_depth=20, classifier__max_features=auto, classifier__min_samples_leaf=1, classifier__min_samples_split=5; total time=   0.4s\n",
      "[CV] END classifier__max_depth=30, classifier__max_features=sqrt, classifier__min_samples_leaf=2, classifier__min_samples_split=5; total time=   0.4s\n",
      "[CV] END classifier__max_depth=30, classifier__max_features=sqrt, classifier__min_samples_leaf=2, classifier__min_samples_split=5; total time=   0.4s\n",
      "[CV] END classifier__max_depth=30, classifier__max_features=sqrt, classifier__min_samples_leaf=2, classifier__min_samples_split=5; total time=   0.4s\n",
      "[CV] END classifier__max_depth=30, classifier__max_features=sqrt, classifier__min_samples_leaf=2, classifier__min_samples_split=5; total time=   0.4s\n",
      "[CV] END classifier__max_depth=30, classifier__max_features=sqrt, classifier__min_samples_leaf=2, classifier__min_samples_split=5; total time=   0.4s\n",
      "[CV] END classifier__max_depth=10, classifier__max_features=auto, classifier__min_samples_leaf=1, classifier__min_samples_split=10; total time=   0.3s\n",
      "[CV] END classifier__max_depth=10, classifier__max_features=auto, classifier__min_samples_leaf=1, classifier__min_samples_split=10; total time=   0.2s\n",
      "[CV] END classifier__max_depth=10, classifier__max_features=auto, classifier__min_samples_leaf=1, classifier__min_samples_split=10; total time=   0.2s\n",
      "[CV] END classifier__max_depth=10, classifier__max_features=auto, classifier__min_samples_leaf=1, classifier__min_samples_split=10; total time=   0.2s\n",
      "[CV] END classifier__max_depth=10, classifier__max_features=auto, classifier__min_samples_leaf=1, classifier__min_samples_split=10; total time=   0.2s\n",
      "[CV] END classifier__max_depth=30, classifier__max_features=log2, classifier__min_samples_leaf=1, classifier__min_samples_split=10; total time=   0.3s\n",
      "[CV] END classifier__max_depth=30, classifier__max_features=log2, classifier__min_samples_leaf=1, classifier__min_samples_split=10; total time=   0.3s\n",
      "[CV] END classifier__max_depth=30, classifier__max_features=log2, classifier__min_samples_leaf=1, classifier__min_samples_split=10; total time=   0.3s\n",
      "[CV] END classifier__max_depth=30, classifier__max_features=log2, classifier__min_samples_leaf=1, classifier__min_samples_split=10; total time=   0.3s\n",
      "[CV] END classifier__max_depth=30, classifier__max_features=log2, classifier__min_samples_leaf=1, classifier__min_samples_split=10; total time=   0.3s\n",
      "[CV] END classifier__max_depth=10, classifier__max_features=log2, classifier__min_samples_leaf=4, classifier__min_samples_split=2; total time=   0.1s\n",
      "[CV] END classifier__max_depth=10, classifier__max_features=log2, classifier__min_samples_leaf=4, classifier__min_samples_split=2; total time=   0.1s\n",
      "[CV] END classifier__max_depth=10, classifier__max_features=log2, classifier__min_samples_leaf=4, classifier__min_samples_split=2; total time=   0.1s\n",
      "[CV] END classifier__max_depth=10, classifier__max_features=log2, classifier__min_samples_leaf=4, classifier__min_samples_split=2; total time=   0.1s\n",
      "[CV] END classifier__max_depth=10, classifier__max_features=log2, classifier__min_samples_leaf=4, classifier__min_samples_split=2; total time=   0.1s\n",
      "[CV] END classifier__max_depth=30, classifier__max_features=log2, classifier__min_samples_leaf=1, classifier__min_samples_split=5; total time=   0.3s\n",
      "[CV] END classifier__max_depth=30, classifier__max_features=log2, classifier__min_samples_leaf=1, classifier__min_samples_split=5; total time=   0.3s\n",
      "[CV] END classifier__max_depth=30, classifier__max_features=log2, classifier__min_samples_leaf=1, classifier__min_samples_split=5; total time=   0.3s\n",
      "[CV] END classifier__max_depth=30, classifier__max_features=log2, classifier__min_samples_leaf=1, classifier__min_samples_split=5; total time=   0.3s\n",
      "[CV] END classifier__max_depth=30, classifier__max_features=log2, classifier__min_samples_leaf=1, classifier__min_samples_split=5; total time=   0.3s\n",
      "[CV] END classifier__max_depth=50, classifier__max_features=sqrt, classifier__min_samples_leaf=1, classifier__min_samples_split=2; total time=   0.4s\n",
      "[CV] END classifier__max_depth=50, classifier__max_features=sqrt, classifier__min_samples_leaf=1, classifier__min_samples_split=2; total time=   0.4s\n",
      "[CV] END classifier__max_depth=50, classifier__max_features=sqrt, classifier__min_samples_leaf=1, classifier__min_samples_split=2; total time=   0.4s\n",
      "[CV] END classifier__max_depth=50, classifier__max_features=sqrt, classifier__min_samples_leaf=1, classifier__min_samples_split=2; total time=   0.4s\n",
      "[CV] END classifier__max_depth=50, classifier__max_features=sqrt, classifier__min_samples_leaf=1, classifier__min_samples_split=2; total time=   0.4s\n",
      "Best parameters for dt: {'classifier__min_samples_split': 2, 'classifier__min_samples_leaf': 1, 'classifier__max_features': 'sqrt', 'classifier__max_depth': 50}\n",
      "Classification report for dt:\n",
      "              precision    recall  f1-score   support\n",
      "\n",
      "           0       0.89      0.86      0.87     20218\n",
      "           1       0.63      0.69      0.66      7113\n",
      "\n",
      "    accuracy                           0.81     27331\n",
      "   macro avg       0.76      0.77      0.76     27331\n",
      "weighted avg       0.82      0.81      0.82     27331\n",
      "\n",
      "Confusion Matrix for dt:\n",
      "[[17328  2890]\n",
      " [ 2226  4887]]\n",
      "\n",
      "AUC for dt: 0.77\n",
      "\n",
      "Fitting 5 folds for each of 10 candidates, totalling 50 fits\n",
      "[CV] END classifier__colsample_bytree=0.6, classifier__gamma=0.1, classifier__learning_rate=0.05, classifier__max_depth=10, classifier__min_child_weight=5, classifier__n_estimators=150, classifier__subsample=1.0; total time=   3.4s\n"
     ]
    },
    {
     "name": "stdout",
     "output_type": "stream",
     "text": [
      "[CV] END classifier__colsample_bytree=0.6, classifier__gamma=0.1, classifier__learning_rate=0.05, classifier__max_depth=10, classifier__min_child_weight=5, classifier__n_estimators=150, classifier__subsample=1.0; total time=   3.5s\n",
      "[CV] END classifier__colsample_bytree=0.6, classifier__gamma=0.1, classifier__learning_rate=0.05, classifier__max_depth=10, classifier__min_child_weight=5, classifier__n_estimators=150, classifier__subsample=1.0; total time=   3.6s\n",
      "[CV] END classifier__colsample_bytree=0.6, classifier__gamma=0.1, classifier__learning_rate=0.05, classifier__max_depth=10, classifier__min_child_weight=5, classifier__n_estimators=150, classifier__subsample=1.0; total time=   3.7s\n",
      "[CV] END classifier__colsample_bytree=0.6, classifier__gamma=0.1, classifier__learning_rate=0.05, classifier__max_depth=10, classifier__min_child_weight=5, classifier__n_estimators=150, classifier__subsample=1.0; total time=   3.8s\n",
      "[CV] END classifier__colsample_bytree=1.0, classifier__gamma=0.1, classifier__learning_rate=0.05, classifier__max_depth=5, classifier__min_child_weight=5, classifier__n_estimators=50, classifier__subsample=1.0; total time=   1.2s\n",
      "[CV] END classifier__colsample_bytree=1.0, classifier__gamma=0.1, classifier__learning_rate=0.05, classifier__max_depth=5, classifier__min_child_weight=5, classifier__n_estimators=50, classifier__subsample=1.0; total time=   1.0s\n",
      "[CV] END classifier__colsample_bytree=1.0, classifier__gamma=0.1, classifier__learning_rate=0.05, classifier__max_depth=5, classifier__min_child_weight=5, classifier__n_estimators=50, classifier__subsample=1.0; total time=   0.9s\n",
      "[CV] END classifier__colsample_bytree=1.0, classifier__gamma=0.1, classifier__learning_rate=0.05, classifier__max_depth=5, classifier__min_child_weight=5, classifier__n_estimators=50, classifier__subsample=1.0; total time=   0.9s\n",
      "[CV] END classifier__colsample_bytree=1.0, classifier__gamma=0.1, classifier__learning_rate=0.05, classifier__max_depth=5, classifier__min_child_weight=5, classifier__n_estimators=50, classifier__subsample=1.0; total time=   1.0s\n",
      "[CV] END classifier__colsample_bytree=1.0, classifier__gamma=0.1, classifier__learning_rate=0.01, classifier__max_depth=5, classifier__min_child_weight=1, classifier__n_estimators=150, classifier__subsample=0.6; total time=   2.7s\n",
      "[CV] END classifier__colsample_bytree=1.0, classifier__gamma=0.1, classifier__learning_rate=0.01, classifier__max_depth=5, classifier__min_child_weight=1, classifier__n_estimators=150, classifier__subsample=0.6; total time=   2.7s\n",
      "[CV] END classifier__colsample_bytree=1.0, classifier__gamma=0.1, classifier__learning_rate=0.01, classifier__max_depth=5, classifier__min_child_weight=1, classifier__n_estimators=150, classifier__subsample=0.6; total time=   2.7s\n",
      "[CV] END classifier__colsample_bytree=1.0, classifier__gamma=0.1, classifier__learning_rate=0.01, classifier__max_depth=5, classifier__min_child_weight=1, classifier__n_estimators=150, classifier__subsample=0.6; total time=   2.7s\n",
      "[CV] END classifier__colsample_bytree=1.0, classifier__gamma=0.1, classifier__learning_rate=0.01, classifier__max_depth=5, classifier__min_child_weight=1, classifier__n_estimators=150, classifier__subsample=0.6; total time=   2.7s\n",
      "[CV] END classifier__colsample_bytree=1.0, classifier__gamma=0.1, classifier__learning_rate=0.01, classifier__max_depth=3, classifier__min_child_weight=1, classifier__n_estimators=150, classifier__subsample=0.8; total time=   2.0s\n",
      "[CV] END classifier__colsample_bytree=1.0, classifier__gamma=0.1, classifier__learning_rate=0.01, classifier__max_depth=3, classifier__min_child_weight=1, classifier__n_estimators=150, classifier__subsample=0.8; total time=   2.0s\n",
      "[CV] END classifier__colsample_bytree=1.0, classifier__gamma=0.1, classifier__learning_rate=0.01, classifier__max_depth=3, classifier__min_child_weight=1, classifier__n_estimators=150, classifier__subsample=0.8; total time=   2.2s\n",
      "[CV] END classifier__colsample_bytree=1.0, classifier__gamma=0.1, classifier__learning_rate=0.01, classifier__max_depth=3, classifier__min_child_weight=1, classifier__n_estimators=150, classifier__subsample=0.8; total time=   2.0s\n",
      "[CV] END classifier__colsample_bytree=1.0, classifier__gamma=0.1, classifier__learning_rate=0.01, classifier__max_depth=3, classifier__min_child_weight=1, classifier__n_estimators=150, classifier__subsample=0.8; total time=   2.0s\n",
      "[CV] END classifier__colsample_bytree=0.8, classifier__gamma=0.2, classifier__learning_rate=0.1, classifier__max_depth=3, classifier__min_child_weight=5, classifier__n_estimators=100, classifier__subsample=0.8; total time=   1.4s\n",
      "[CV] END classifier__colsample_bytree=0.8, classifier__gamma=0.2, classifier__learning_rate=0.1, classifier__max_depth=3, classifier__min_child_weight=5, classifier__n_estimators=100, classifier__subsample=0.8; total time=   1.4s\n",
      "[CV] END classifier__colsample_bytree=0.8, classifier__gamma=0.2, classifier__learning_rate=0.1, classifier__max_depth=3, classifier__min_child_weight=5, classifier__n_estimators=100, classifier__subsample=0.8; total time=   1.4s\n",
      "[CV] END classifier__colsample_bytree=0.8, classifier__gamma=0.2, classifier__learning_rate=0.1, classifier__max_depth=3, classifier__min_child_weight=5, classifier__n_estimators=100, classifier__subsample=0.8; total time=   1.4s\n",
      "[CV] END classifier__colsample_bytree=0.8, classifier__gamma=0.2, classifier__learning_rate=0.1, classifier__max_depth=3, classifier__min_child_weight=5, classifier__n_estimators=100, classifier__subsample=0.8; total time=   1.4s\n",
      "[CV] END classifier__colsample_bytree=0.8, classifier__gamma=0.1, classifier__learning_rate=0.05, classifier__max_depth=5, classifier__min_child_weight=5, classifier__n_estimators=150, classifier__subsample=1.0; total time=   2.1s\n",
      "[CV] END classifier__colsample_bytree=0.8, classifier__gamma=0.1, classifier__learning_rate=0.05, classifier__max_depth=5, classifier__min_child_weight=5, classifier__n_estimators=150, classifier__subsample=1.0; total time=   2.3s\n",
      "[CV] END classifier__colsample_bytree=0.8, classifier__gamma=0.1, classifier__learning_rate=0.05, classifier__max_depth=5, classifier__min_child_weight=5, classifier__n_estimators=150, classifier__subsample=1.0; total time=   2.1s\n",
      "[CV] END classifier__colsample_bytree=0.8, classifier__gamma=0.1, classifier__learning_rate=0.05, classifier__max_depth=5, classifier__min_child_weight=5, classifier__n_estimators=150, classifier__subsample=1.0; total time=   2.1s\n",
      "[CV] END classifier__colsample_bytree=0.8, classifier__gamma=0.1, classifier__learning_rate=0.05, classifier__max_depth=5, classifier__min_child_weight=5, classifier__n_estimators=150, classifier__subsample=1.0; total time=   2.1s\n",
      "[CV] END classifier__colsample_bytree=1.0, classifier__gamma=0.1, classifier__learning_rate=0.2, classifier__max_depth=10, classifier__min_child_weight=1, classifier__n_estimators=200, classifier__subsample=0.8; total time=   7.9s\n",
      "[CV] END classifier__colsample_bytree=1.0, classifier__gamma=0.1, classifier__learning_rate=0.2, classifier__max_depth=10, classifier__min_child_weight=1, classifier__n_estimators=200, classifier__subsample=0.8; total time=   8.2s\n",
      "[CV] END classifier__colsample_bytree=1.0, classifier__gamma=0.1, classifier__learning_rate=0.2, classifier__max_depth=10, classifier__min_child_weight=1, classifier__n_estimators=200, classifier__subsample=0.8; total time=   8.2s\n",
      "[CV] END classifier__colsample_bytree=1.0, classifier__gamma=0.1, classifier__learning_rate=0.2, classifier__max_depth=10, classifier__min_child_weight=1, classifier__n_estimators=200, classifier__subsample=0.8; total time=   8.1s\n",
      "[CV] END classifier__colsample_bytree=1.0, classifier__gamma=0.1, classifier__learning_rate=0.2, classifier__max_depth=10, classifier__min_child_weight=1, classifier__n_estimators=200, classifier__subsample=0.8; total time=   8.4s\n",
      "[CV] END classifier__colsample_bytree=1.0, classifier__gamma=0.2, classifier__learning_rate=0.2, classifier__max_depth=7, classifier__min_child_weight=1, classifier__n_estimators=50, classifier__subsample=0.8; total time=   1.6s\n",
      "[CV] END classifier__colsample_bytree=1.0, classifier__gamma=0.2, classifier__learning_rate=0.2, classifier__max_depth=7, classifier__min_child_weight=1, classifier__n_estimators=50, classifier__subsample=0.8; total time=   1.6s\n"
     ]
    },
    {
     "name": "stdout",
     "output_type": "stream",
     "text": [
      "[CV] END classifier__colsample_bytree=1.0, classifier__gamma=0.2, classifier__learning_rate=0.2, classifier__max_depth=7, classifier__min_child_weight=1, classifier__n_estimators=50, classifier__subsample=0.8; total time=   1.5s\n",
      "[CV] END classifier__colsample_bytree=1.0, classifier__gamma=0.2, classifier__learning_rate=0.2, classifier__max_depth=7, classifier__min_child_weight=1, classifier__n_estimators=50, classifier__subsample=0.8; total time=   1.5s\n",
      "[CV] END classifier__colsample_bytree=1.0, classifier__gamma=0.2, classifier__learning_rate=0.2, classifier__max_depth=7, classifier__min_child_weight=1, classifier__n_estimators=50, classifier__subsample=0.8; total time=   1.5s\n",
      "[CV] END classifier__colsample_bytree=0.6, classifier__gamma=0, classifier__learning_rate=0.2, classifier__max_depth=3, classifier__min_child_weight=5, classifier__n_estimators=200, classifier__subsample=0.8; total time=   2.5s\n",
      "[CV] END classifier__colsample_bytree=0.6, classifier__gamma=0, classifier__learning_rate=0.2, classifier__max_depth=3, classifier__min_child_weight=5, classifier__n_estimators=200, classifier__subsample=0.8; total time=   2.5s\n",
      "[CV] END classifier__colsample_bytree=0.6, classifier__gamma=0, classifier__learning_rate=0.2, classifier__max_depth=3, classifier__min_child_weight=5, classifier__n_estimators=200, classifier__subsample=0.8; total time=   2.5s\n",
      "[CV] END classifier__colsample_bytree=0.6, classifier__gamma=0, classifier__learning_rate=0.2, classifier__max_depth=3, classifier__min_child_weight=5, classifier__n_estimators=200, classifier__subsample=0.8; total time=   2.5s\n",
      "[CV] END classifier__colsample_bytree=0.6, classifier__gamma=0, classifier__learning_rate=0.2, classifier__max_depth=3, classifier__min_child_weight=5, classifier__n_estimators=200, classifier__subsample=0.8; total time=   2.5s\n",
      "[CV] END classifier__colsample_bytree=1.0, classifier__gamma=0.1, classifier__learning_rate=0.05, classifier__max_depth=3, classifier__min_child_weight=1, classifier__n_estimators=150, classifier__subsample=0.6; total time=   2.1s\n",
      "[CV] END classifier__colsample_bytree=1.0, classifier__gamma=0.1, classifier__learning_rate=0.05, classifier__max_depth=3, classifier__min_child_weight=1, classifier__n_estimators=150, classifier__subsample=0.6; total time=   2.1s\n",
      "[CV] END classifier__colsample_bytree=1.0, classifier__gamma=0.1, classifier__learning_rate=0.05, classifier__max_depth=3, classifier__min_child_weight=1, classifier__n_estimators=150, classifier__subsample=0.6; total time=   2.1s\n",
      "[CV] END classifier__colsample_bytree=1.0, classifier__gamma=0.1, classifier__learning_rate=0.05, classifier__max_depth=3, classifier__min_child_weight=1, classifier__n_estimators=150, classifier__subsample=0.6; total time=   2.1s\n",
      "[CV] END classifier__colsample_bytree=1.0, classifier__gamma=0.1, classifier__learning_rate=0.05, classifier__max_depth=3, classifier__min_child_weight=1, classifier__n_estimators=150, classifier__subsample=0.6; total time=   2.3s\n",
      "Best parameters for xgb: {'classifier__subsample': 0.8, 'classifier__n_estimators': 200, 'classifier__min_child_weight': 1, 'classifier__max_depth': 10, 'classifier__learning_rate': 0.2, 'classifier__gamma': 0.1, 'classifier__colsample_bytree': 1.0}\n",
      "Classification report for xgb:\n",
      "              precision    recall  f1-score   support\n",
      "\n",
      "           0       0.92      0.92      0.92     20218\n",
      "           1       0.76      0.76      0.76      7113\n",
      "\n",
      "    accuracy                           0.88     27331\n",
      "   macro avg       0.84      0.84      0.84     27331\n",
      "weighted avg       0.88      0.88      0.88     27331\n",
      "\n",
      "Confusion Matrix for xgb:\n",
      "[[18523  1695]\n",
      " [ 1685  5428]]\n",
      "\n",
      "AUC for xgb: 0.94\n",
      "\n",
      "Fitting 5 folds for each of 10 candidates, totalling 50 fits\n"
     ]
    },
    {
     "name": "stderr",
     "output_type": "stream",
     "text": [
      "C:\\ProgramData\\Anaconda3\\lib\\site-packages\\sklearn\\linear_model\\_logistic.py:1476: UserWarning: l1_ratio parameter is only used when penalty is 'elasticnet'. Got (penalty=l1)\n",
      "  warnings.warn(\n",
      "C:\\ProgramData\\Anaconda3\\lib\\site-packages\\sklearn\\linear_model\\_sag.py:352: ConvergenceWarning: The max_iter was reached which means the coef_ did not converge\n",
      "  warnings.warn(\n",
      "C:\\ProgramData\\Anaconda3\\lib\\site-packages\\sklearn\\linear_model\\_logistic.py:1476: UserWarning: l1_ratio parameter is only used when penalty is 'elasticnet'. Got (penalty=l1)\n",
      "  warnings.warn(\n"
     ]
    },
    {
     "name": "stdout",
     "output_type": "stream",
     "text": [
      "[CV] END classifier__C=100, classifier__l1_ratio=0.1, classifier__penalty=l1, classifier__solver=saga; total time=  12.4s\n"
     ]
    },
    {
     "name": "stderr",
     "output_type": "stream",
     "text": [
      "C:\\ProgramData\\Anaconda3\\lib\\site-packages\\sklearn\\linear_model\\_sag.py:352: ConvergenceWarning: The max_iter was reached which means the coef_ did not converge\n",
      "  warnings.warn(\n",
      "C:\\ProgramData\\Anaconda3\\lib\\site-packages\\sklearn\\linear_model\\_logistic.py:1476: UserWarning: l1_ratio parameter is only used when penalty is 'elasticnet'. Got (penalty=l1)\n",
      "  warnings.warn(\n"
     ]
    },
    {
     "name": "stdout",
     "output_type": "stream",
     "text": [
      "[CV] END classifier__C=100, classifier__l1_ratio=0.1, classifier__penalty=l1, classifier__solver=saga; total time=  11.5s\n"
     ]
    },
    {
     "name": "stderr",
     "output_type": "stream",
     "text": [
      "C:\\ProgramData\\Anaconda3\\lib\\site-packages\\sklearn\\linear_model\\_sag.py:352: ConvergenceWarning: The max_iter was reached which means the coef_ did not converge\n",
      "  warnings.warn(\n",
      "C:\\ProgramData\\Anaconda3\\lib\\site-packages\\sklearn\\linear_model\\_logistic.py:1476: UserWarning: l1_ratio parameter is only used when penalty is 'elasticnet'. Got (penalty=l1)\n",
      "  warnings.warn(\n"
     ]
    },
    {
     "name": "stdout",
     "output_type": "stream",
     "text": [
      "[CV] END classifier__C=100, classifier__l1_ratio=0.1, classifier__penalty=l1, classifier__solver=saga; total time=  11.4s\n"
     ]
    },
    {
     "name": "stderr",
     "output_type": "stream",
     "text": [
      "C:\\ProgramData\\Anaconda3\\lib\\site-packages\\sklearn\\linear_model\\_sag.py:352: ConvergenceWarning: The max_iter was reached which means the coef_ did not converge\n",
      "  warnings.warn(\n",
      "C:\\ProgramData\\Anaconda3\\lib\\site-packages\\sklearn\\linear_model\\_logistic.py:1476: UserWarning: l1_ratio parameter is only used when penalty is 'elasticnet'. Got (penalty=l1)\n",
      "  warnings.warn(\n"
     ]
    },
    {
     "name": "stdout",
     "output_type": "stream",
     "text": [
      "[CV] END classifier__C=100, classifier__l1_ratio=0.1, classifier__penalty=l1, classifier__solver=saga; total time=  11.1s\n"
     ]
    },
    {
     "name": "stderr",
     "output_type": "stream",
     "text": [
      "C:\\ProgramData\\Anaconda3\\lib\\site-packages\\sklearn\\linear_model\\_sag.py:352: ConvergenceWarning: The max_iter was reached which means the coef_ did not converge\n",
      "  warnings.warn(\n",
      "C:\\ProgramData\\Anaconda3\\lib\\site-packages\\sklearn\\linear_model\\_logistic.py:1476: UserWarning: l1_ratio parameter is only used when penalty is 'elasticnet'. Got (penalty=l2)\n",
      "  warnings.warn(\n"
     ]
    },
    {
     "name": "stdout",
     "output_type": "stream",
     "text": [
      "[CV] END classifier__C=100, classifier__l1_ratio=0.1, classifier__penalty=l1, classifier__solver=saga; total time=  11.7s\n"
     ]
    },
    {
     "name": "stderr",
     "output_type": "stream",
     "text": [
      "C:\\ProgramData\\Anaconda3\\lib\\site-packages\\sklearn\\linear_model\\_sag.py:352: ConvergenceWarning: The max_iter was reached which means the coef_ did not converge\n",
      "  warnings.warn(\n",
      "C:\\ProgramData\\Anaconda3\\lib\\site-packages\\sklearn\\linear_model\\_logistic.py:1476: UserWarning: l1_ratio parameter is only used when penalty is 'elasticnet'. Got (penalty=l2)\n",
      "  warnings.warn(\n"
     ]
    },
    {
     "name": "stdout",
     "output_type": "stream",
     "text": [
      "[CV] END classifier__C=10, classifier__l1_ratio=1, classifier__penalty=l2, classifier__solver=saga; total time=   8.9s\n"
     ]
    },
    {
     "name": "stderr",
     "output_type": "stream",
     "text": [
      "C:\\ProgramData\\Anaconda3\\lib\\site-packages\\sklearn\\linear_model\\_sag.py:352: ConvergenceWarning: The max_iter was reached which means the coef_ did not converge\n",
      "  warnings.warn(\n",
      "C:\\ProgramData\\Anaconda3\\lib\\site-packages\\sklearn\\linear_model\\_logistic.py:1476: UserWarning: l1_ratio parameter is only used when penalty is 'elasticnet'. Got (penalty=l2)\n",
      "  warnings.warn(\n"
     ]
    },
    {
     "name": "stdout",
     "output_type": "stream",
     "text": [
      "[CV] END classifier__C=10, classifier__l1_ratio=1, classifier__penalty=l2, classifier__solver=saga; total time=   8.9s\n"
     ]
    },
    {
     "name": "stderr",
     "output_type": "stream",
     "text": [
      "C:\\ProgramData\\Anaconda3\\lib\\site-packages\\sklearn\\linear_model\\_sag.py:352: ConvergenceWarning: The max_iter was reached which means the coef_ did not converge\n",
      "  warnings.warn(\n",
      "C:\\ProgramData\\Anaconda3\\lib\\site-packages\\sklearn\\linear_model\\_logistic.py:1476: UserWarning: l1_ratio parameter is only used when penalty is 'elasticnet'. Got (penalty=l2)\n",
      "  warnings.warn(\n"
     ]
    },
    {
     "name": "stdout",
     "output_type": "stream",
     "text": [
      "[CV] END classifier__C=10, classifier__l1_ratio=1, classifier__penalty=l2, classifier__solver=saga; total time=   9.0s\n"
     ]
    },
    {
     "name": "stderr",
     "output_type": "stream",
     "text": [
      "C:\\ProgramData\\Anaconda3\\lib\\site-packages\\sklearn\\linear_model\\_sag.py:352: ConvergenceWarning: The max_iter was reached which means the coef_ did not converge\n",
      "  warnings.warn(\n",
      "C:\\ProgramData\\Anaconda3\\lib\\site-packages\\sklearn\\linear_model\\_logistic.py:1476: UserWarning: l1_ratio parameter is only used when penalty is 'elasticnet'. Got (penalty=l2)\n",
      "  warnings.warn(\n"
     ]
    },
    {
     "name": "stdout",
     "output_type": "stream",
     "text": [
      "[CV] END classifier__C=10, classifier__l1_ratio=1, classifier__penalty=l2, classifier__solver=saga; total time=   8.9s\n"
     ]
    },
    {
     "name": "stderr",
     "output_type": "stream",
     "text": [
      "C:\\ProgramData\\Anaconda3\\lib\\site-packages\\sklearn\\linear_model\\_sag.py:352: ConvergenceWarning: The max_iter was reached which means the coef_ did not converge\n",
      "  warnings.warn(\n",
      "C:\\ProgramData\\Anaconda3\\lib\\site-packages\\sklearn\\linear_model\\_logistic.py:1476: UserWarning: l1_ratio parameter is only used when penalty is 'elasticnet'. Got (penalty=l2)\n",
      "  warnings.warn(\n"
     ]
    },
    {
     "name": "stdout",
     "output_type": "stream",
     "text": [
      "[CV] END classifier__C=10, classifier__l1_ratio=1, classifier__penalty=l2, classifier__solver=saga; total time=   8.9s\n"
     ]
    },
    {
     "name": "stderr",
     "output_type": "stream",
     "text": [
      "C:\\ProgramData\\Anaconda3\\lib\\site-packages\\sklearn\\linear_model\\_sag.py:352: ConvergenceWarning: The max_iter was reached which means the coef_ did not converge\n",
      "  warnings.warn(\n",
      "C:\\ProgramData\\Anaconda3\\lib\\site-packages\\sklearn\\linear_model\\_logistic.py:1476: UserWarning: l1_ratio parameter is only used when penalty is 'elasticnet'. Got (penalty=l2)\n",
      "  warnings.warn(\n"
     ]
    },
    {
     "name": "stdout",
     "output_type": "stream",
     "text": [
      "[CV] END classifier__C=10, classifier__l1_ratio=0.7, classifier__penalty=l2, classifier__solver=saga; total time=   9.0s\n"
     ]
    },
    {
     "name": "stderr",
     "output_type": "stream",
     "text": [
      "C:\\ProgramData\\Anaconda3\\lib\\site-packages\\sklearn\\linear_model\\_sag.py:352: ConvergenceWarning: The max_iter was reached which means the coef_ did not converge\n",
      "  warnings.warn(\n",
      "C:\\ProgramData\\Anaconda3\\lib\\site-packages\\sklearn\\linear_model\\_logistic.py:1476: UserWarning: l1_ratio parameter is only used when penalty is 'elasticnet'. Got (penalty=l2)\n",
      "  warnings.warn(\n"
     ]
    },
    {
     "name": "stdout",
     "output_type": "stream",
     "text": [
      "[CV] END classifier__C=10, classifier__l1_ratio=0.7, classifier__penalty=l2, classifier__solver=saga; total time=   8.9s\n"
     ]
    },
    {
     "name": "stderr",
     "output_type": "stream",
     "text": [
      "C:\\ProgramData\\Anaconda3\\lib\\site-packages\\sklearn\\linear_model\\_sag.py:352: ConvergenceWarning: The max_iter was reached which means the coef_ did not converge\n",
      "  warnings.warn(\n",
      "C:\\ProgramData\\Anaconda3\\lib\\site-packages\\sklearn\\linear_model\\_logistic.py:1476: UserWarning: l1_ratio parameter is only used when penalty is 'elasticnet'. Got (penalty=l2)\n",
      "  warnings.warn(\n"
     ]
    },
    {
     "name": "stdout",
     "output_type": "stream",
     "text": [
      "[CV] END classifier__C=10, classifier__l1_ratio=0.7, classifier__penalty=l2, classifier__solver=saga; total time=   8.9s\n"
     ]
    },
    {
     "name": "stderr",
     "output_type": "stream",
     "text": [
      "C:\\ProgramData\\Anaconda3\\lib\\site-packages\\sklearn\\linear_model\\_sag.py:352: ConvergenceWarning: The max_iter was reached which means the coef_ did not converge\n",
      "  warnings.warn(\n",
      "C:\\ProgramData\\Anaconda3\\lib\\site-packages\\sklearn\\linear_model\\_logistic.py:1476: UserWarning: l1_ratio parameter is only used when penalty is 'elasticnet'. Got (penalty=l2)\n",
      "  warnings.warn(\n"
     ]
    },
    {
     "name": "stdout",
     "output_type": "stream",
     "text": [
      "[CV] END classifier__C=10, classifier__l1_ratio=0.7, classifier__penalty=l2, classifier__solver=saga; total time=   8.8s\n"
     ]
    },
    {
     "name": "stderr",
     "output_type": "stream",
     "text": [
      "C:\\ProgramData\\Anaconda3\\lib\\site-packages\\sklearn\\linear_model\\_sag.py:352: ConvergenceWarning: The max_iter was reached which means the coef_ did not converge\n",
      "  warnings.warn(\n"
     ]
    },
    {
     "name": "stdout",
     "output_type": "stream",
     "text": [
      "[CV] END classifier__C=10, classifier__l1_ratio=0.7, classifier__penalty=l2, classifier__solver=saga; total time=   8.9s\n"
     ]
    },
    {
     "name": "stderr",
     "output_type": "stream",
     "text": [
      "C:\\ProgramData\\Anaconda3\\lib\\site-packages\\sklearn\\linear_model\\_sag.py:352: ConvergenceWarning: The max_iter was reached which means the coef_ did not converge\n",
      "  warnings.warn(\n"
     ]
    },
    {
     "name": "stdout",
     "output_type": "stream",
     "text": [
      "[CV] END classifier__C=100, classifier__l1_ratio=1, classifier__penalty=elasticnet, classifier__solver=saga; total time=  11.2s\n"
     ]
    },
    {
     "name": "stderr",
     "output_type": "stream",
     "text": [
      "C:\\ProgramData\\Anaconda3\\lib\\site-packages\\sklearn\\linear_model\\_sag.py:352: ConvergenceWarning: The max_iter was reached which means the coef_ did not converge\n",
      "  warnings.warn(\n"
     ]
    },
    {
     "name": "stdout",
     "output_type": "stream",
     "text": [
      "[CV] END classifier__C=100, classifier__l1_ratio=1, classifier__penalty=elasticnet, classifier__solver=saga; total time=  11.3s\n"
     ]
    },
    {
     "name": "stderr",
     "output_type": "stream",
     "text": [
      "C:\\ProgramData\\Anaconda3\\lib\\site-packages\\sklearn\\linear_model\\_sag.py:352: ConvergenceWarning: The max_iter was reached which means the coef_ did not converge\n",
      "  warnings.warn(\n"
     ]
    },
    {
     "name": "stdout",
     "output_type": "stream",
     "text": [
      "[CV] END classifier__C=100, classifier__l1_ratio=1, classifier__penalty=elasticnet, classifier__solver=saga; total time=  11.2s\n"
     ]
    },
    {
     "name": "stderr",
     "output_type": "stream",
     "text": [
      "C:\\ProgramData\\Anaconda3\\lib\\site-packages\\sklearn\\linear_model\\_sag.py:352: ConvergenceWarning: The max_iter was reached which means the coef_ did not converge\n",
      "  warnings.warn(\n"
     ]
    },
    {
     "name": "stdout",
     "output_type": "stream",
     "text": [
      "[CV] END classifier__C=100, classifier__l1_ratio=1, classifier__penalty=elasticnet, classifier__solver=saga; total time=  11.7s\n"
     ]
    },
    {
     "name": "stderr",
     "output_type": "stream",
     "text": [
      "C:\\ProgramData\\Anaconda3\\lib\\site-packages\\sklearn\\linear_model\\_sag.py:352: ConvergenceWarning: The max_iter was reached which means the coef_ did not converge\n",
      "  warnings.warn(\n",
      "C:\\ProgramData\\Anaconda3\\lib\\site-packages\\sklearn\\linear_model\\_logistic.py:1476: UserWarning: l1_ratio parameter is only used when penalty is 'elasticnet'. Got (penalty=l2)\n",
      "  warnings.warn(\n"
     ]
    },
    {
     "name": "stdout",
     "output_type": "stream",
     "text": [
      "[CV] END classifier__C=100, classifier__l1_ratio=1, classifier__penalty=elasticnet, classifier__solver=saga; total time=  11.2s\n",
      "[CV] END classifier__C=0.1, classifier__l1_ratio=0.1, classifier__penalty=l2, classifier__solver=saga; total time=   3.0s\n"
     ]
    },
    {
     "name": "stderr",
     "output_type": "stream",
     "text": [
      "C:\\ProgramData\\Anaconda3\\lib\\site-packages\\sklearn\\linear_model\\_logistic.py:1476: UserWarning: l1_ratio parameter is only used when penalty is 'elasticnet'. Got (penalty=l2)\n",
      "  warnings.warn(\n"
     ]
    },
    {
     "name": "stdout",
     "output_type": "stream",
     "text": [
      "[CV] END classifier__C=0.1, classifier__l1_ratio=0.1, classifier__penalty=l2, classifier__solver=saga; total time=   3.0s\n"
     ]
    },
    {
     "name": "stderr",
     "output_type": "stream",
     "text": [
      "C:\\ProgramData\\Anaconda3\\lib\\site-packages\\sklearn\\linear_model\\_logistic.py:1476: UserWarning: l1_ratio parameter is only used when penalty is 'elasticnet'. Got (penalty=l2)\n",
      "  warnings.warn(\n"
     ]
    },
    {
     "name": "stdout",
     "output_type": "stream",
     "text": [
      "[CV] END classifier__C=0.1, classifier__l1_ratio=0.1, classifier__penalty=l2, classifier__solver=saga; total time=   2.9s\n"
     ]
    },
    {
     "name": "stderr",
     "output_type": "stream",
     "text": [
      "C:\\ProgramData\\Anaconda3\\lib\\site-packages\\sklearn\\linear_model\\_logistic.py:1476: UserWarning: l1_ratio parameter is only used when penalty is 'elasticnet'. Got (penalty=l2)\n",
      "  warnings.warn(\n"
     ]
    },
    {
     "name": "stdout",
     "output_type": "stream",
     "text": [
      "[CV] END classifier__C=0.1, classifier__l1_ratio=0.1, classifier__penalty=l2, classifier__solver=saga; total time=   2.9s\n"
     ]
    },
    {
     "name": "stderr",
     "output_type": "stream",
     "text": [
      "C:\\ProgramData\\Anaconda3\\lib\\site-packages\\sklearn\\linear_model\\_logistic.py:1476: UserWarning: l1_ratio parameter is only used when penalty is 'elasticnet'. Got (penalty=l2)\n",
      "  warnings.warn(\n"
     ]
    },
    {
     "name": "stdout",
     "output_type": "stream",
     "text": [
      "[CV] END classifier__C=0.1, classifier__l1_ratio=0.1, classifier__penalty=l2, classifier__solver=saga; total time=   3.1s\n"
     ]
    },
    {
     "name": "stderr",
     "output_type": "stream",
     "text": [
      "C:\\ProgramData\\Anaconda3\\lib\\site-packages\\sklearn\\linear_model\\_logistic.py:1476: UserWarning: l1_ratio parameter is only used when penalty is 'elasticnet'. Got (penalty=none)\n",
      "  warnings.warn(\n",
      "C:\\ProgramData\\Anaconda3\\lib\\site-packages\\sklearn\\linear_model\\_logistic.py:1483: UserWarning: Setting penalty='none' will ignore the C and l1_ratio parameters\n",
      "  warnings.warn(\n",
      "C:\\ProgramData\\Anaconda3\\lib\\site-packages\\sklearn\\linear_model\\_sag.py:352: ConvergenceWarning: The max_iter was reached which means the coef_ did not converge\n",
      "  warnings.warn(\n",
      "C:\\ProgramData\\Anaconda3\\lib\\site-packages\\sklearn\\linear_model\\_logistic.py:1476: UserWarning: l1_ratio parameter is only used when penalty is 'elasticnet'. Got (penalty=none)\n",
      "  warnings.warn(\n",
      "C:\\ProgramData\\Anaconda3\\lib\\site-packages\\sklearn\\linear_model\\_logistic.py:1483: UserWarning: Setting penalty='none' will ignore the C and l1_ratio parameters\n",
      "  warnings.warn(\n"
     ]
    },
    {
     "name": "stdout",
     "output_type": "stream",
     "text": [
      "[CV] END classifier__C=10, classifier__l1_ratio=1, classifier__penalty=none, classifier__solver=saga; total time=   9.0s\n"
     ]
    },
    {
     "name": "stderr",
     "output_type": "stream",
     "text": [
      "C:\\ProgramData\\Anaconda3\\lib\\site-packages\\sklearn\\linear_model\\_sag.py:352: ConvergenceWarning: The max_iter was reached which means the coef_ did not converge\n",
      "  warnings.warn(\n",
      "C:\\ProgramData\\Anaconda3\\lib\\site-packages\\sklearn\\linear_model\\_logistic.py:1476: UserWarning: l1_ratio parameter is only used when penalty is 'elasticnet'. Got (penalty=none)\n",
      "  warnings.warn(\n",
      "C:\\ProgramData\\Anaconda3\\lib\\site-packages\\sklearn\\linear_model\\_logistic.py:1483: UserWarning: Setting penalty='none' will ignore the C and l1_ratio parameters\n",
      "  warnings.warn(\n"
     ]
    },
    {
     "name": "stdout",
     "output_type": "stream",
     "text": [
      "[CV] END classifier__C=10, classifier__l1_ratio=1, classifier__penalty=none, classifier__solver=saga; total time=   9.0s\n"
     ]
    },
    {
     "name": "stderr",
     "output_type": "stream",
     "text": [
      "C:\\ProgramData\\Anaconda3\\lib\\site-packages\\sklearn\\linear_model\\_sag.py:352: ConvergenceWarning: The max_iter was reached which means the coef_ did not converge\n",
      "  warnings.warn(\n",
      "C:\\ProgramData\\Anaconda3\\lib\\site-packages\\sklearn\\linear_model\\_logistic.py:1476: UserWarning: l1_ratio parameter is only used when penalty is 'elasticnet'. Got (penalty=none)\n",
      "  warnings.warn(\n",
      "C:\\ProgramData\\Anaconda3\\lib\\site-packages\\sklearn\\linear_model\\_logistic.py:1483: UserWarning: Setting penalty='none' will ignore the C and l1_ratio parameters\n",
      "  warnings.warn(\n"
     ]
    },
    {
     "name": "stdout",
     "output_type": "stream",
     "text": [
      "[CV] END classifier__C=10, classifier__l1_ratio=1, classifier__penalty=none, classifier__solver=saga; total time=   8.9s\n"
     ]
    },
    {
     "name": "stderr",
     "output_type": "stream",
     "text": [
      "C:\\ProgramData\\Anaconda3\\lib\\site-packages\\sklearn\\linear_model\\_sag.py:352: ConvergenceWarning: The max_iter was reached which means the coef_ did not converge\n",
      "  warnings.warn(\n",
      "C:\\ProgramData\\Anaconda3\\lib\\site-packages\\sklearn\\linear_model\\_logistic.py:1476: UserWarning: l1_ratio parameter is only used when penalty is 'elasticnet'. Got (penalty=none)\n",
      "  warnings.warn(\n",
      "C:\\ProgramData\\Anaconda3\\lib\\site-packages\\sklearn\\linear_model\\_logistic.py:1483: UserWarning: Setting penalty='none' will ignore the C and l1_ratio parameters\n",
      "  warnings.warn(\n"
     ]
    },
    {
     "name": "stdout",
     "output_type": "stream",
     "text": [
      "[CV] END classifier__C=10, classifier__l1_ratio=1, classifier__penalty=none, classifier__solver=saga; total time=   8.9s\n"
     ]
    },
    {
     "name": "stderr",
     "output_type": "stream",
     "text": [
      "C:\\ProgramData\\Anaconda3\\lib\\site-packages\\sklearn\\linear_model\\_sag.py:352: ConvergenceWarning: The max_iter was reached which means the coef_ did not converge\n",
      "  warnings.warn(\n",
      "C:\\ProgramData\\Anaconda3\\lib\\site-packages\\sklearn\\linear_model\\_logistic.py:1476: UserWarning: l1_ratio parameter is only used when penalty is 'elasticnet'. Got (penalty=l2)\n",
      "  warnings.warn(\n"
     ]
    },
    {
     "name": "stdout",
     "output_type": "stream",
     "text": [
      "[CV] END classifier__C=10, classifier__l1_ratio=1, classifier__penalty=none, classifier__solver=saga; total time=   9.0s\n"
     ]
    },
    {
     "name": "stderr",
     "output_type": "stream",
     "text": [
      "C:\\ProgramData\\Anaconda3\\lib\\site-packages\\sklearn\\linear_model\\_sag.py:352: ConvergenceWarning: The max_iter was reached which means the coef_ did not converge\n",
      "  warnings.warn(\n",
      "C:\\ProgramData\\Anaconda3\\lib\\site-packages\\sklearn\\linear_model\\_logistic.py:1476: UserWarning: l1_ratio parameter is only used when penalty is 'elasticnet'. Got (penalty=l2)\n",
      "  warnings.warn(\n"
     ]
    },
    {
     "name": "stdout",
     "output_type": "stream",
     "text": [
      "[CV] END classifier__C=10, classifier__l1_ratio=0.5, classifier__penalty=l2, classifier__solver=saga; total time=   9.1s\n"
     ]
    },
    {
     "name": "stderr",
     "output_type": "stream",
     "text": [
      "C:\\ProgramData\\Anaconda3\\lib\\site-packages\\sklearn\\linear_model\\_sag.py:352: ConvergenceWarning: The max_iter was reached which means the coef_ did not converge\n",
      "  warnings.warn(\n",
      "C:\\ProgramData\\Anaconda3\\lib\\site-packages\\sklearn\\linear_model\\_logistic.py:1476: UserWarning: l1_ratio parameter is only used when penalty is 'elasticnet'. Got (penalty=l2)\n",
      "  warnings.warn(\n"
     ]
    },
    {
     "name": "stdout",
     "output_type": "stream",
     "text": [
      "[CV] END classifier__C=10, classifier__l1_ratio=0.5, classifier__penalty=l2, classifier__solver=saga; total time=   8.9s\n"
     ]
    },
    {
     "name": "stderr",
     "output_type": "stream",
     "text": [
      "C:\\ProgramData\\Anaconda3\\lib\\site-packages\\sklearn\\linear_model\\_sag.py:352: ConvergenceWarning: The max_iter was reached which means the coef_ did not converge\n",
      "  warnings.warn(\n",
      "C:\\ProgramData\\Anaconda3\\lib\\site-packages\\sklearn\\linear_model\\_logistic.py:1476: UserWarning: l1_ratio parameter is only used when penalty is 'elasticnet'. Got (penalty=l2)\n",
      "  warnings.warn(\n"
     ]
    },
    {
     "name": "stdout",
     "output_type": "stream",
     "text": [
      "[CV] END classifier__C=10, classifier__l1_ratio=0.5, classifier__penalty=l2, classifier__solver=saga; total time=   8.9s\n"
     ]
    },
    {
     "name": "stderr",
     "output_type": "stream",
     "text": [
      "C:\\ProgramData\\Anaconda3\\lib\\site-packages\\sklearn\\linear_model\\_sag.py:352: ConvergenceWarning: The max_iter was reached which means the coef_ did not converge\n",
      "  warnings.warn(\n",
      "C:\\ProgramData\\Anaconda3\\lib\\site-packages\\sklearn\\linear_model\\_logistic.py:1476: UserWarning: l1_ratio parameter is only used when penalty is 'elasticnet'. Got (penalty=l2)\n",
      "  warnings.warn(\n"
     ]
    },
    {
     "name": "stdout",
     "output_type": "stream",
     "text": [
      "[CV] END classifier__C=10, classifier__l1_ratio=0.5, classifier__penalty=l2, classifier__solver=saga; total time=   8.8s\n"
     ]
    },
    {
     "name": "stderr",
     "output_type": "stream",
     "text": [
      "C:\\ProgramData\\Anaconda3\\lib\\site-packages\\sklearn\\linear_model\\_sag.py:352: ConvergenceWarning: The max_iter was reached which means the coef_ did not converge\n",
      "  warnings.warn(\n"
     ]
    },
    {
     "name": "stdout",
     "output_type": "stream",
     "text": [
      "[CV] END classifier__C=10, classifier__l1_ratio=0.5, classifier__penalty=l2, classifier__solver=saga; total time=   8.8s\n",
      "[CV] END classifier__C=0.1, classifier__l1_ratio=0.7, classifier__penalty=elasticnet, classifier__solver=saga; total time=   1.8s\n",
      "[CV] END classifier__C=0.1, classifier__l1_ratio=0.7, classifier__penalty=elasticnet, classifier__solver=saga; total time=   1.8s\n",
      "[CV] END classifier__C=0.1, classifier__l1_ratio=0.7, classifier__penalty=elasticnet, classifier__solver=saga; total time=   1.8s\n",
      "[CV] END classifier__C=0.1, classifier__l1_ratio=0.7, classifier__penalty=elasticnet, classifier__solver=saga; total time=   1.8s\n",
      "[CV] END classifier__C=0.1, classifier__l1_ratio=0.7, classifier__penalty=elasticnet, classifier__solver=saga; total time=   1.9s\n"
     ]
    },
    {
     "name": "stderr",
     "output_type": "stream",
     "text": [
      "C:\\ProgramData\\Anaconda3\\lib\\site-packages\\sklearn\\linear_model\\_logistic.py:1476: UserWarning: l1_ratio parameter is only used when penalty is 'elasticnet'. Got (penalty=l1)\n",
      "  warnings.warn(\n"
     ]
    },
    {
     "name": "stdout",
     "output_type": "stream",
     "text": [
      "[CV] END classifier__C=0.001, classifier__l1_ratio=0.1, classifier__penalty=l1, classifier__solver=saga; total time=   1.5s\n"
     ]
    },
    {
     "name": "stderr",
     "output_type": "stream",
     "text": [
      "C:\\ProgramData\\Anaconda3\\lib\\site-packages\\sklearn\\linear_model\\_logistic.py:1476: UserWarning: l1_ratio parameter is only used when penalty is 'elasticnet'. Got (penalty=l1)\n",
      "  warnings.warn(\n"
     ]
    },
    {
     "name": "stdout",
     "output_type": "stream",
     "text": [
      "[CV] END classifier__C=0.001, classifier__l1_ratio=0.1, classifier__penalty=l1, classifier__solver=saga; total time=   1.2s\n"
     ]
    },
    {
     "name": "stderr",
     "output_type": "stream",
     "text": [
      "C:\\ProgramData\\Anaconda3\\lib\\site-packages\\sklearn\\linear_model\\_logistic.py:1476: UserWarning: l1_ratio parameter is only used when penalty is 'elasticnet'. Got (penalty=l1)\n",
      "  warnings.warn(\n"
     ]
    },
    {
     "name": "stdout",
     "output_type": "stream",
     "text": [
      "[CV] END classifier__C=0.001, classifier__l1_ratio=0.1, classifier__penalty=l1, classifier__solver=saga; total time=   1.4s\n"
     ]
    },
    {
     "name": "stderr",
     "output_type": "stream",
     "text": [
      "C:\\ProgramData\\Anaconda3\\lib\\site-packages\\sklearn\\linear_model\\_logistic.py:1476: UserWarning: l1_ratio parameter is only used when penalty is 'elasticnet'. Got (penalty=l1)\n",
      "  warnings.warn(\n"
     ]
    },
    {
     "name": "stdout",
     "output_type": "stream",
     "text": [
      "[CV] END classifier__C=0.001, classifier__l1_ratio=0.1, classifier__penalty=l1, classifier__solver=saga; total time=   1.4s\n"
     ]
    },
    {
     "name": "stderr",
     "output_type": "stream",
     "text": [
      "C:\\ProgramData\\Anaconda3\\lib\\site-packages\\sklearn\\linear_model\\_logistic.py:1476: UserWarning: l1_ratio parameter is only used when penalty is 'elasticnet'. Got (penalty=l1)\n",
      "  warnings.warn(\n"
     ]
    },
    {
     "name": "stdout",
     "output_type": "stream",
     "text": [
      "[CV] END classifier__C=0.001, classifier__l1_ratio=0.1, classifier__penalty=l1, classifier__solver=saga; total time=   1.4s\n",
      "[CV] END classifier__C=0.001, classifier__l1_ratio=0.7, classifier__penalty=elasticnet, classifier__solver=saga; total time=   1.5s\n",
      "[CV] END classifier__C=0.001, classifier__l1_ratio=0.7, classifier__penalty=elasticnet, classifier__solver=saga; total time=   1.2s\n",
      "[CV] END classifier__C=0.001, classifier__l1_ratio=0.7, classifier__penalty=elasticnet, classifier__solver=saga; total time=   1.4s\n",
      "[CV] END classifier__C=0.001, classifier__l1_ratio=0.7, classifier__penalty=elasticnet, classifier__solver=saga; total time=   1.3s\n",
      "[CV] END classifier__C=0.001, classifier__l1_ratio=0.7, classifier__penalty=elasticnet, classifier__solver=saga; total time=   1.3s\n",
      "Best parameters for lr: {'classifier__solver': 'saga', 'classifier__penalty': 'elasticnet', 'classifier__l1_ratio': 0.7, 'classifier__C': 0.1}\n",
      "Classification report for lr:\n",
      "              precision    recall  f1-score   support\n",
      "\n",
      "           0       0.91      0.73      0.81     20218\n",
      "           1       0.51      0.81      0.62      7113\n",
      "\n",
      "    accuracy                           0.75     27331\n",
      "   macro avg       0.71      0.77      0.72     27331\n",
      "weighted avg       0.81      0.75      0.76     27331\n",
      "\n",
      "Confusion Matrix for lr:\n",
      "[[14707  5511]\n",
      " [ 1382  5731]]\n",
      "\n",
      "AUC for lr: 0.85\n",
      "\n"
     ]
    },
    {
     "data": {
      "image/png": "[encoded data removed]",
      "text/plain": [
       "<Figure size 432x288 with 1 Axes>"
      ]
     },
     "metadata": {
      "needs_background": "light"
     },
     "output_type": "display_data"
    }
   ],
   "source": [
    "print(\"Evaluating Simulated Annealing Selected Features\")\n",
    "run_models(X_train_smote, X_test, y_train_smote, y_test, simulated_annealing_selected_features)"
   ]
  },
  {
   "cell_type": "code",
   "execution_count": 24,
   "id": "706a9f9c",
   "metadata": {},
   "outputs": [
    {
     "name": "stdout",
     "output_type": "stream",
     "text": [
      "Evaluating Genetic Search Selected Features\n",
      "Fitting 5 folds for each of 10 candidates, totalling 50 fits\n",
      "[CV] END classifier__max_depth=50, classifier__max_features=log2, classifier__min_samples_leaf=2, classifier__min_samples_split=10; total time=  13.4s\n",
      "[CV] END classifier__max_depth=50, classifier__max_features=log2, classifier__min_samples_leaf=2, classifier__min_samples_split=10; total time=  12.6s\n",
      "[CV] END classifier__max_depth=50, classifier__max_features=log2, classifier__min_samples_leaf=2, classifier__min_samples_split=10; total time=  12.1s\n",
      "[CV] END classifier__max_depth=50, classifier__max_features=log2, classifier__min_samples_leaf=2, classifier__min_samples_split=10; total time=  12.8s\n",
      "[CV] END classifier__max_depth=50, classifier__max_features=log2, classifier__min_samples_leaf=2, classifier__min_samples_split=10; total time=  12.3s\n",
      "[CV] END classifier__max_depth=40, classifier__max_features=auto, classifier__min_samples_leaf=1, classifier__min_samples_split=5; total time=  13.9s\n",
      "[CV] END classifier__max_depth=40, classifier__max_features=auto, classifier__min_samples_leaf=1, classifier__min_samples_split=5; total time=  13.7s\n",
      "[CV] END classifier__max_depth=40, classifier__max_features=auto, classifier__min_samples_leaf=1, classifier__min_samples_split=5; total time=  13.4s\n",
      "[CV] END classifier__max_depth=40, classifier__max_features=auto, classifier__min_samples_leaf=1, classifier__min_samples_split=5; total time=  15.2s\n",
      "[CV] END classifier__max_depth=40, classifier__max_features=auto, classifier__min_samples_leaf=1, classifier__min_samples_split=5; total time=  14.0s\n",
      "[CV] END classifier__max_depth=40, classifier__max_features=log2, classifier__min_samples_leaf=2, classifier__min_samples_split=10; total time=  13.0s\n",
      "[CV] END classifier__max_depth=40, classifier__max_features=log2, classifier__min_samples_leaf=2, classifier__min_samples_split=10; total time=  12.6s\n",
      "[CV] END classifier__max_depth=40, classifier__max_features=log2, classifier__min_samples_leaf=2, classifier__min_samples_split=10; total time=  12.3s\n",
      "[CV] END classifier__max_depth=40, classifier__max_features=log2, classifier__min_samples_leaf=2, classifier__min_samples_split=10; total time=  12.8s\n",
      "[CV] END classifier__max_depth=40, classifier__max_features=log2, classifier__min_samples_leaf=2, classifier__min_samples_split=10; total time=  12.6s\n",
      "[CV] END classifier__max_depth=20, classifier__max_features=auto, classifier__min_samples_leaf=1, classifier__min_samples_split=5; total time=  14.1s\n",
      "[CV] END classifier__max_depth=20, classifier__max_features=auto, classifier__min_samples_leaf=1, classifier__min_samples_split=5; total time=  14.0s\n",
      "[CV] END classifier__max_depth=20, classifier__max_features=auto, classifier__min_samples_leaf=1, classifier__min_samples_split=5; total time=  13.7s\n",
      "[CV] END classifier__max_depth=20, classifier__max_features=auto, classifier__min_samples_leaf=1, classifier__min_samples_split=5; total time=  13.6s\n",
      "[CV] END classifier__max_depth=20, classifier__max_features=auto, classifier__min_samples_leaf=1, classifier__min_samples_split=5; total time=  13.7s\n",
      "[CV] END classifier__max_depth=30, classifier__max_features=sqrt, classifier__min_samples_leaf=2, classifier__min_samples_split=5; total time=  13.8s\n",
      "[CV] END classifier__max_depth=30, classifier__max_features=sqrt, classifier__min_samples_leaf=2, classifier__min_samples_split=5; total time=  13.7s\n",
      "[CV] END classifier__max_depth=30, classifier__max_features=sqrt, classifier__min_samples_leaf=2, classifier__min_samples_split=5; total time=  13.7s\n",
      "[CV] END classifier__max_depth=30, classifier__max_features=sqrt, classifier__min_samples_leaf=2, classifier__min_samples_split=5; total time=  14.0s\n",
      "[CV] END classifier__max_depth=30, classifier__max_features=sqrt, classifier__min_samples_leaf=2, classifier__min_samples_split=5; total time=  13.6s\n",
      "[CV] END classifier__max_depth=10, classifier__max_features=auto, classifier__min_samples_leaf=1, classifier__min_samples_split=10; total time=  11.8s\n",
      "[CV] END classifier__max_depth=10, classifier__max_features=auto, classifier__min_samples_leaf=1, classifier__min_samples_split=10; total time=  12.1s\n",
      "[CV] END classifier__max_depth=10, classifier__max_features=auto, classifier__min_samples_leaf=1, classifier__min_samples_split=10; total time=  11.9s\n",
      "[CV] END classifier__max_depth=10, classifier__max_features=auto, classifier__min_samples_leaf=1, classifier__min_samples_split=10; total time=  12.0s\n",
      "[CV] END classifier__max_depth=10, classifier__max_features=auto, classifier__min_samples_leaf=1, classifier__min_samples_split=10; total time=  11.6s\n",
      "[CV] END classifier__max_depth=30, classifier__max_features=log2, classifier__min_samples_leaf=1, classifier__min_samples_split=10; total time=  13.2s\n",
      "[CV] END classifier__max_depth=30, classifier__max_features=log2, classifier__min_samples_leaf=1, classifier__min_samples_split=10; total time=  13.1s\n",
      "[CV] END classifier__max_depth=30, classifier__max_features=log2, classifier__min_samples_leaf=1, classifier__min_samples_split=10; total time=  12.6s\n",
      "[CV] END classifier__max_depth=30, classifier__max_features=log2, classifier__min_samples_leaf=1, classifier__min_samples_split=10; total time=  12.8s\n",
      "[CV] END classifier__max_depth=30, classifier__max_features=log2, classifier__min_samples_leaf=1, classifier__min_samples_split=10; total time=  12.7s\n",
      "[CV] END classifier__max_depth=10, classifier__max_features=log2, classifier__min_samples_leaf=4, classifier__min_samples_split=2; total time=  10.8s\n",
      "[CV] END classifier__max_depth=10, classifier__max_features=log2, classifier__min_samples_leaf=4, classifier__min_samples_split=2; total time=  10.8s\n",
      "[CV] END classifier__max_depth=10, classifier__max_features=log2, classifier__min_samples_leaf=4, classifier__min_samples_split=2; total time=  10.5s\n",
      "[CV] END classifier__max_depth=10, classifier__max_features=log2, classifier__min_samples_leaf=4, classifier__min_samples_split=2; total time=  10.5s\n",
      "[CV] END classifier__max_depth=10, classifier__max_features=log2, classifier__min_samples_leaf=4, classifier__min_samples_split=2; total time=  10.5s\n",
      "[CV] END classifier__max_depth=30, classifier__max_features=log2, classifier__min_samples_leaf=1, classifier__min_samples_split=5; total time=  13.1s\n",
      "[CV] END classifier__max_depth=30, classifier__max_features=log2, classifier__min_samples_leaf=1, classifier__min_samples_split=5; total time=  13.1s\n",
      "[CV] END classifier__max_depth=30, classifier__max_features=log2, classifier__min_samples_leaf=1, classifier__min_samples_split=5; total time=  12.3s\n",
      "[CV] END classifier__max_depth=30, classifier__max_features=log2, classifier__min_samples_leaf=1, classifier__min_samples_split=5; total time=  12.7s\n",
      "[CV] END classifier__max_depth=30, classifier__max_features=log2, classifier__min_samples_leaf=1, classifier__min_samples_split=5; total time=  12.7s\n",
      "[CV] END classifier__max_depth=50, classifier__max_features=sqrt, classifier__min_samples_leaf=1, classifier__min_samples_split=2; total time=  13.8s\n",
      "[CV] END classifier__max_depth=50, classifier__max_features=sqrt, classifier__min_samples_leaf=1, classifier__min_samples_split=2; total time=  13.8s\n",
      "[CV] END classifier__max_depth=50, classifier__max_features=sqrt, classifier__min_samples_leaf=1, classifier__min_samples_split=2; total time=  14.5s\n",
      "[CV] END classifier__max_depth=50, classifier__max_features=sqrt, classifier__min_samples_leaf=1, classifier__min_samples_split=2; total time=  13.6s\n",
      "[CV] END classifier__max_depth=50, classifier__max_features=sqrt, classifier__min_samples_leaf=1, classifier__min_samples_split=2; total time=  13.8s\n",
      "Best parameters for rf: {'classifier__min_samples_split': 2, 'classifier__min_samples_leaf': 1, 'classifier__max_features': 'sqrt', 'classifier__max_depth': 50}\n",
      "Classification report for rf:\n",
      "              precision    recall  f1-score   support\n",
      "\n",
      "           0       0.88      0.98      0.93     20218\n",
      "           1       0.93      0.60      0.73      7113\n",
      "\n",
      "    accuracy                           0.88     27331\n",
      "   macro avg       0.90      0.79      0.83     27331\n",
      "weighted avg       0.89      0.88      0.88     27331\n",
      "\n",
      "Confusion Matrix for rf:\n",
      "[[19891   327]\n",
      " [ 2827  4286]]\n",
      "\n",
      "AUC for rf: 0.95\n",
      "\n",
      "Fitting 5 folds for each of 10 candidates, totalling 50 fits\n"
     ]
    },
    {
     "name": "stdout",
     "output_type": "stream",
     "text": [
      "[CV] END classifier__max_depth=50, classifier__max_features=log2, classifier__min_samples_leaf=2, classifier__min_samples_split=10; total time=   0.1s\n",
      "[CV] END classifier__max_depth=50, classifier__max_features=log2, classifier__min_samples_leaf=2, classifier__min_samples_split=10; total time=   0.1s\n",
      "[CV] END classifier__max_depth=50, classifier__max_features=log2, classifier__min_samples_leaf=2, classifier__min_samples_split=10; total time=   0.2s\n",
      "[CV] END classifier__max_depth=50, classifier__max_features=log2, classifier__min_samples_leaf=2, classifier__min_samples_split=10; total time=   0.1s\n",
      "[CV] END classifier__max_depth=50, classifier__max_features=log2, classifier__min_samples_leaf=2, classifier__min_samples_split=10; total time=   0.2s\n",
      "[CV] END classifier__max_depth=40, classifier__max_features=auto, classifier__min_samples_leaf=1, classifier__min_samples_split=5; total time=   0.2s\n",
      "[CV] END classifier__max_depth=40, classifier__max_features=auto, classifier__min_samples_leaf=1, classifier__min_samples_split=5; total time=   0.2s\n",
      "[CV] END classifier__max_depth=40, classifier__max_features=auto, classifier__min_samples_leaf=1, classifier__min_samples_split=5; total time=   0.2s\n",
      "[CV] END classifier__max_depth=40, classifier__max_features=auto, classifier__min_samples_leaf=1, classifier__min_samples_split=5; total time=   0.2s\n",
      "[CV] END classifier__max_depth=40, classifier__max_features=auto, classifier__min_samples_leaf=1, classifier__min_samples_split=5; total time=   0.1s\n",
      "[CV] END classifier__max_depth=40, classifier__max_features=log2, classifier__min_samples_leaf=2, classifier__min_samples_split=10; total time=   0.1s\n",
      "[CV] END classifier__max_depth=40, classifier__max_features=log2, classifier__min_samples_leaf=2, classifier__min_samples_split=10; total time=   0.1s\n",
      "[CV] END classifier__max_depth=40, classifier__max_features=log2, classifier__min_samples_leaf=2, classifier__min_samples_split=10; total time=   0.2s\n",
      "[CV] END classifier__max_depth=40, classifier__max_features=log2, classifier__min_samples_leaf=2, classifier__min_samples_split=10; total time=   0.1s\n",
      "[CV] END classifier__max_depth=40, classifier__max_features=log2, classifier__min_samples_leaf=2, classifier__min_samples_split=10; total time=   0.2s\n",
      "[CV] END classifier__max_depth=20, classifier__max_features=auto, classifier__min_samples_leaf=1, classifier__min_samples_split=5; total time=   0.2s\n",
      "[CV] END classifier__max_depth=20, classifier__max_features=auto, classifier__min_samples_leaf=1, classifier__min_samples_split=5; total time=   0.1s\n",
      "[CV] END classifier__max_depth=20, classifier__max_features=auto, classifier__min_samples_leaf=1, classifier__min_samples_split=5; total time=   0.2s\n",
      "[CV] END classifier__max_depth=20, classifier__max_features=auto, classifier__min_samples_leaf=1, classifier__min_samples_split=5; total time=   0.2s\n",
      "[CV] END classifier__max_depth=20, classifier__max_features=auto, classifier__min_samples_leaf=1, classifier__min_samples_split=5; total time=   0.1s\n",
      "[CV] END classifier__max_depth=30, classifier__max_features=sqrt, classifier__min_samples_leaf=2, classifier__min_samples_split=5; total time=   0.1s\n",
      "[CV] END classifier__max_depth=30, classifier__max_features=sqrt, classifier__min_samples_leaf=2, classifier__min_samples_split=5; total time=   0.1s\n",
      "[CV] END classifier__max_depth=30, classifier__max_features=sqrt, classifier__min_samples_leaf=2, classifier__min_samples_split=5; total time=   0.2s\n",
      "[CV] END classifier__max_depth=30, classifier__max_features=sqrt, classifier__min_samples_leaf=2, classifier__min_samples_split=5; total time=   0.2s\n",
      "[CV] END classifier__max_depth=30, classifier__max_features=sqrt, classifier__min_samples_leaf=2, classifier__min_samples_split=5; total time=   0.1s\n",
      "[CV] END classifier__max_depth=10, classifier__max_features=auto, classifier__min_samples_leaf=1, classifier__min_samples_split=10; total time=   0.2s\n",
      "[CV] END classifier__max_depth=10, classifier__max_features=auto, classifier__min_samples_leaf=1, classifier__min_samples_split=10; total time=   0.2s\n",
      "[CV] END classifier__max_depth=10, classifier__max_features=auto, classifier__min_samples_leaf=1, classifier__min_samples_split=10; total time=   0.1s\n",
      "[CV] END classifier__max_depth=10, classifier__max_features=auto, classifier__min_samples_leaf=1, classifier__min_samples_split=10; total time=   0.2s\n",
      "[CV] END classifier__max_depth=10, classifier__max_features=auto, classifier__min_samples_leaf=1, classifier__min_samples_split=10; total time=   0.1s\n",
      "[CV] END classifier__max_depth=30, classifier__max_features=log2, classifier__min_samples_leaf=1, classifier__min_samples_split=10; total time=   0.2s\n",
      "[CV] END classifier__max_depth=30, classifier__max_features=log2, classifier__min_samples_leaf=1, classifier__min_samples_split=10; total time=   0.1s\n",
      "[CV] END classifier__max_depth=30, classifier__max_features=log2, classifier__min_samples_leaf=1, classifier__min_samples_split=10; total time=   0.2s\n",
      "[CV] END classifier__max_depth=30, classifier__max_features=log2, classifier__min_samples_leaf=1, classifier__min_samples_split=10; total time=   0.2s\n",
      "[CV] END classifier__max_depth=30, classifier__max_features=log2, classifier__min_samples_leaf=1, classifier__min_samples_split=10; total time=   0.1s\n",
      "[CV] END classifier__max_depth=10, classifier__max_features=log2, classifier__min_samples_leaf=4, classifier__min_samples_split=2; total time=   0.1s\n",
      "[CV] END classifier__max_depth=10, classifier__max_features=log2, classifier__min_samples_leaf=4, classifier__min_samples_split=2; total time=   0.1s\n",
      "[CV] END classifier__max_depth=10, classifier__max_features=log2, classifier__min_samples_leaf=4, classifier__min_samples_split=2; total time=   0.1s\n",
      "[CV] END classifier__max_depth=10, classifier__max_features=log2, classifier__min_samples_leaf=4, classifier__min_samples_split=2; total time=   0.1s\n",
      "[CV] END classifier__max_depth=10, classifier__max_features=log2, classifier__min_samples_leaf=4, classifier__min_samples_split=2; total time=   0.1s\n",
      "[CV] END classifier__max_depth=30, classifier__max_features=log2, classifier__min_samples_leaf=1, classifier__min_samples_split=5; total time=   0.2s\n",
      "[CV] END classifier__max_depth=30, classifier__max_features=log2, classifier__min_samples_leaf=1, classifier__min_samples_split=5; total time=   0.2s\n",
      "[CV] END classifier__max_depth=30, classifier__max_features=log2, classifier__min_samples_leaf=1, classifier__min_samples_split=5; total time=   0.2s\n",
      "[CV] END classifier__max_depth=30, classifier__max_features=log2, classifier__min_samples_leaf=1, classifier__min_samples_split=5; total time=   0.1s\n",
      "[CV] END classifier__max_depth=30, classifier__max_features=log2, classifier__min_samples_leaf=1, classifier__min_samples_split=5; total time=   0.2s\n",
      "[CV] END classifier__max_depth=50, classifier__max_features=sqrt, classifier__min_samples_leaf=1, classifier__min_samples_split=2; total time=   0.1s\n",
      "[CV] END classifier__max_depth=50, classifier__max_features=sqrt, classifier__min_samples_leaf=1, classifier__min_samples_split=2; total time=   0.1s\n",
      "[CV] END classifier__max_depth=50, classifier__max_features=sqrt, classifier__min_samples_leaf=1, classifier__min_samples_split=2; total time=   0.2s\n",
      "[CV] END classifier__max_depth=50, classifier__max_features=sqrt, classifier__min_samples_leaf=1, classifier__min_samples_split=2; total time=   0.1s\n",
      "[CV] END classifier__max_depth=50, classifier__max_features=sqrt, classifier__min_samples_leaf=1, classifier__min_samples_split=2; total time=   0.2s\n",
      "Best parameters for dt: {'classifier__min_samples_split': 5, 'classifier__min_samples_leaf': 2, 'classifier__max_features': 'sqrt', 'classifier__max_depth': 30}\n",
      "Classification report for dt:\n",
      "              precision    recall  f1-score   support\n",
      "\n",
      "           0       0.90      0.83      0.87     20218\n",
      "           1       0.61      0.73      0.66      7113\n",
      "\n",
      "    accuracy                           0.81     27331\n",
      "   macro avg       0.75      0.78      0.76     27331\n",
      "weighted avg       0.82      0.81      0.81     27331\n",
      "\n",
      "Confusion Matrix for dt:\n",
      "[[16877  3341]\n",
      " [ 1916  5197]]\n",
      "\n",
      "AUC for dt: 0.79\n",
      "\n",
      "Fitting 5 folds for each of 10 candidates, totalling 50 fits\n",
      "[CV] END classifier__colsample_bytree=0.6, classifier__gamma=0.1, classifier__learning_rate=0.05, classifier__max_depth=10, classifier__min_child_weight=5, classifier__n_estimators=150, classifier__subsample=1.0; total time=   1.8s\n"
     ]
    },
    {
     "name": "stdout",
     "output_type": "stream",
     "text": [
      "[CV] END classifier__colsample_bytree=0.6, classifier__gamma=0.1, classifier__learning_rate=0.05, classifier__max_depth=10, classifier__min_child_weight=5, classifier__n_estimators=150, classifier__subsample=1.0; total time=   1.9s\n",
      "[CV] END classifier__colsample_bytree=0.6, classifier__gamma=0.1, classifier__learning_rate=0.05, classifier__max_depth=10, classifier__min_child_weight=5, classifier__n_estimators=150, classifier__subsample=1.0; total time=   1.9s\n",
      "[CV] END classifier__colsample_bytree=0.6, classifier__gamma=0.1, classifier__learning_rate=0.05, classifier__max_depth=10, classifier__min_child_weight=5, classifier__n_estimators=150, classifier__subsample=1.0; total time=   2.0s\n",
      "[CV] END classifier__colsample_bytree=0.6, classifier__gamma=0.1, classifier__learning_rate=0.05, classifier__max_depth=10, classifier__min_child_weight=5, classifier__n_estimators=150, classifier__subsample=1.0; total time=   2.0s\n",
      "[CV] END classifier__colsample_bytree=1.0, classifier__gamma=0.1, classifier__learning_rate=0.05, classifier__max_depth=5, classifier__min_child_weight=5, classifier__n_estimators=50, classifier__subsample=1.0; total time=   0.7s\n",
      "[CV] END classifier__colsample_bytree=1.0, classifier__gamma=0.1, classifier__learning_rate=0.05, classifier__max_depth=5, classifier__min_child_weight=5, classifier__n_estimators=50, classifier__subsample=1.0; total time=   0.6s\n",
      "[CV] END classifier__colsample_bytree=1.0, classifier__gamma=0.1, classifier__learning_rate=0.05, classifier__max_depth=5, classifier__min_child_weight=5, classifier__n_estimators=50, classifier__subsample=1.0; total time=   0.6s\n",
      "[CV] END classifier__colsample_bytree=1.0, classifier__gamma=0.1, classifier__learning_rate=0.05, classifier__max_depth=5, classifier__min_child_weight=5, classifier__n_estimators=50, classifier__subsample=1.0; total time=   0.7s\n",
      "[CV] END classifier__colsample_bytree=1.0, classifier__gamma=0.1, classifier__learning_rate=0.05, classifier__max_depth=5, classifier__min_child_weight=5, classifier__n_estimators=50, classifier__subsample=1.0; total time=   0.7s\n",
      "[CV] END classifier__colsample_bytree=1.0, classifier__gamma=0.1, classifier__learning_rate=0.01, classifier__max_depth=5, classifier__min_child_weight=1, classifier__n_estimators=150, classifier__subsample=0.6; total time=   1.8s\n",
      "[CV] END classifier__colsample_bytree=1.0, classifier__gamma=0.1, classifier__learning_rate=0.01, classifier__max_depth=5, classifier__min_child_weight=1, classifier__n_estimators=150, classifier__subsample=0.6; total time=   1.8s\n",
      "[CV] END classifier__colsample_bytree=1.0, classifier__gamma=0.1, classifier__learning_rate=0.01, classifier__max_depth=5, classifier__min_child_weight=1, classifier__n_estimators=150, classifier__subsample=0.6; total time=   1.8s\n",
      "[CV] END classifier__colsample_bytree=1.0, classifier__gamma=0.1, classifier__learning_rate=0.01, classifier__max_depth=5, classifier__min_child_weight=1, classifier__n_estimators=150, classifier__subsample=0.6; total time=   1.9s\n",
      "[CV] END classifier__colsample_bytree=1.0, classifier__gamma=0.1, classifier__learning_rate=0.01, classifier__max_depth=5, classifier__min_child_weight=1, classifier__n_estimators=150, classifier__subsample=0.6; total time=   2.0s\n",
      "[CV] END classifier__colsample_bytree=1.0, classifier__gamma=0.1, classifier__learning_rate=0.01, classifier__max_depth=3, classifier__min_child_weight=1, classifier__n_estimators=150, classifier__subsample=0.8; total time=   1.7s\n",
      "[CV] END classifier__colsample_bytree=1.0, classifier__gamma=0.1, classifier__learning_rate=0.01, classifier__max_depth=3, classifier__min_child_weight=1, classifier__n_estimators=150, classifier__subsample=0.8; total time=   1.7s\n",
      "[CV] END classifier__colsample_bytree=1.0, classifier__gamma=0.1, classifier__learning_rate=0.01, classifier__max_depth=3, classifier__min_child_weight=1, classifier__n_estimators=150, classifier__subsample=0.8; total time=   1.6s\n",
      "[CV] END classifier__colsample_bytree=1.0, classifier__gamma=0.1, classifier__learning_rate=0.01, classifier__max_depth=3, classifier__min_child_weight=1, classifier__n_estimators=150, classifier__subsample=0.8; total time=   1.7s\n",
      "[CV] END classifier__colsample_bytree=1.0, classifier__gamma=0.1, classifier__learning_rate=0.01, classifier__max_depth=3, classifier__min_child_weight=1, classifier__n_estimators=150, classifier__subsample=0.8; total time=   1.9s\n",
      "[CV] END classifier__colsample_bytree=0.8, classifier__gamma=0.2, classifier__learning_rate=0.1, classifier__max_depth=3, classifier__min_child_weight=5, classifier__n_estimators=100, classifier__subsample=0.8; total time=   1.2s\n",
      "[CV] END classifier__colsample_bytree=0.8, classifier__gamma=0.2, classifier__learning_rate=0.1, classifier__max_depth=3, classifier__min_child_weight=5, classifier__n_estimators=100, classifier__subsample=0.8; total time=   1.2s\n",
      "[CV] END classifier__colsample_bytree=0.8, classifier__gamma=0.2, classifier__learning_rate=0.1, classifier__max_depth=3, classifier__min_child_weight=5, classifier__n_estimators=100, classifier__subsample=0.8; total time=   1.2s\n",
      "[CV] END classifier__colsample_bytree=0.8, classifier__gamma=0.2, classifier__learning_rate=0.1, classifier__max_depth=3, classifier__min_child_weight=5, classifier__n_estimators=100, classifier__subsample=0.8; total time=   1.3s\n",
      "[CV] END classifier__colsample_bytree=0.8, classifier__gamma=0.2, classifier__learning_rate=0.1, classifier__max_depth=3, classifier__min_child_weight=5, classifier__n_estimators=100, classifier__subsample=0.8; total time=   1.3s\n",
      "[CV] END classifier__colsample_bytree=0.8, classifier__gamma=0.1, classifier__learning_rate=0.05, classifier__max_depth=5, classifier__min_child_weight=5, classifier__n_estimators=150, classifier__subsample=1.0; total time=   1.6s\n",
      "[CV] END classifier__colsample_bytree=0.8, classifier__gamma=0.1, classifier__learning_rate=0.05, classifier__max_depth=5, classifier__min_child_weight=5, classifier__n_estimators=150, classifier__subsample=1.0; total time=   1.6s\n",
      "[CV] END classifier__colsample_bytree=0.8, classifier__gamma=0.1, classifier__learning_rate=0.05, classifier__max_depth=5, classifier__min_child_weight=5, classifier__n_estimators=150, classifier__subsample=1.0; total time=   1.7s\n",
      "[CV] END classifier__colsample_bytree=0.8, classifier__gamma=0.1, classifier__learning_rate=0.05, classifier__max_depth=5, classifier__min_child_weight=5, classifier__n_estimators=150, classifier__subsample=1.0; total time=   1.7s\n",
      "[CV] END classifier__colsample_bytree=0.8, classifier__gamma=0.1, classifier__learning_rate=0.05, classifier__max_depth=5, classifier__min_child_weight=5, classifier__n_estimators=150, classifier__subsample=1.0; total time=   1.8s\n",
      "[CV] END classifier__colsample_bytree=1.0, classifier__gamma=0.1, classifier__learning_rate=0.2, classifier__max_depth=10, classifier__min_child_weight=1, classifier__n_estimators=200, classifier__subsample=0.8; total time=   3.4s\n",
      "[CV] END classifier__colsample_bytree=1.0, classifier__gamma=0.1, classifier__learning_rate=0.2, classifier__max_depth=10, classifier__min_child_weight=1, classifier__n_estimators=200, classifier__subsample=0.8; total time=   3.4s\n",
      "[CV] END classifier__colsample_bytree=1.0, classifier__gamma=0.1, classifier__learning_rate=0.2, classifier__max_depth=10, classifier__min_child_weight=1, classifier__n_estimators=200, classifier__subsample=0.8; total time=   3.5s\n",
      "[CV] END classifier__colsample_bytree=1.0, classifier__gamma=0.1, classifier__learning_rate=0.2, classifier__max_depth=10, classifier__min_child_weight=1, classifier__n_estimators=200, classifier__subsample=0.8; total time=   3.5s\n",
      "[CV] END classifier__colsample_bytree=1.0, classifier__gamma=0.1, classifier__learning_rate=0.2, classifier__max_depth=10, classifier__min_child_weight=1, classifier__n_estimators=200, classifier__subsample=0.8; total time=   3.5s\n",
      "[CV] END classifier__colsample_bytree=1.0, classifier__gamma=0.2, classifier__learning_rate=0.2, classifier__max_depth=7, classifier__min_child_weight=1, classifier__n_estimators=50, classifier__subsample=0.8; total time=   1.0s\n",
      "[CV] END classifier__colsample_bytree=1.0, classifier__gamma=0.2, classifier__learning_rate=0.2, classifier__max_depth=7, classifier__min_child_weight=1, classifier__n_estimators=50, classifier__subsample=0.8; total time=   1.0s\n"
     ]
    },
    {
     "name": "stdout",
     "output_type": "stream",
     "text": [
      "[CV] END classifier__colsample_bytree=1.0, classifier__gamma=0.2, classifier__learning_rate=0.2, classifier__max_depth=7, classifier__min_child_weight=1, classifier__n_estimators=50, classifier__subsample=0.8; total time=   1.0s\n",
      "[CV] END classifier__colsample_bytree=1.0, classifier__gamma=0.2, classifier__learning_rate=0.2, classifier__max_depth=7, classifier__min_child_weight=1, classifier__n_estimators=50, classifier__subsample=0.8; total time=   1.0s\n",
      "[CV] END classifier__colsample_bytree=1.0, classifier__gamma=0.2, classifier__learning_rate=0.2, classifier__max_depth=7, classifier__min_child_weight=1, classifier__n_estimators=50, classifier__subsample=0.8; total time=   1.0s\n",
      "[CV] END classifier__colsample_bytree=0.6, classifier__gamma=0, classifier__learning_rate=0.2, classifier__max_depth=3, classifier__min_child_weight=5, classifier__n_estimators=200, classifier__subsample=0.8; total time=   2.3s\n",
      "[CV] END classifier__colsample_bytree=0.6, classifier__gamma=0, classifier__learning_rate=0.2, classifier__max_depth=3, classifier__min_child_weight=5, classifier__n_estimators=200, classifier__subsample=0.8; total time=   2.3s\n",
      "[CV] END classifier__colsample_bytree=0.6, classifier__gamma=0, classifier__learning_rate=0.2, classifier__max_depth=3, classifier__min_child_weight=5, classifier__n_estimators=200, classifier__subsample=0.8; total time=   2.3s\n",
      "[CV] END classifier__colsample_bytree=0.6, classifier__gamma=0, classifier__learning_rate=0.2, classifier__max_depth=3, classifier__min_child_weight=5, classifier__n_estimators=200, classifier__subsample=0.8; total time=   2.3s\n",
      "[CV] END classifier__colsample_bytree=0.6, classifier__gamma=0, classifier__learning_rate=0.2, classifier__max_depth=3, classifier__min_child_weight=5, classifier__n_estimators=200, classifier__subsample=0.8; total time=   2.4s\n",
      "[CV] END classifier__colsample_bytree=1.0, classifier__gamma=0.1, classifier__learning_rate=0.05, classifier__max_depth=3, classifier__min_child_weight=1, classifier__n_estimators=150, classifier__subsample=0.6; total time=   1.9s\n",
      "[CV] END classifier__colsample_bytree=1.0, classifier__gamma=0.1, classifier__learning_rate=0.05, classifier__max_depth=3, classifier__min_child_weight=1, classifier__n_estimators=150, classifier__subsample=0.6; total time=   1.9s\n",
      "[CV] END classifier__colsample_bytree=1.0, classifier__gamma=0.1, classifier__learning_rate=0.05, classifier__max_depth=3, classifier__min_child_weight=1, classifier__n_estimators=150, classifier__subsample=0.6; total time=   1.9s\n",
      "[CV] END classifier__colsample_bytree=1.0, classifier__gamma=0.1, classifier__learning_rate=0.05, classifier__max_depth=3, classifier__min_child_weight=1, classifier__n_estimators=150, classifier__subsample=0.6; total time=   1.9s\n",
      "[CV] END classifier__colsample_bytree=1.0, classifier__gamma=0.1, classifier__learning_rate=0.05, classifier__max_depth=3, classifier__min_child_weight=1, classifier__n_estimators=150, classifier__subsample=0.6; total time=   1.9s\n",
      "Best parameters for xgb: {'classifier__subsample': 0.8, 'classifier__n_estimators': 200, 'classifier__min_child_weight': 1, 'classifier__max_depth': 10, 'classifier__learning_rate': 0.2, 'classifier__gamma': 0.1, 'classifier__colsample_bytree': 1.0}\n",
      "Classification report for xgb:\n",
      "              precision    recall  f1-score   support\n",
      "\n",
      "           0       0.89      0.93      0.91     20218\n",
      "           1       0.77      0.68      0.72      7113\n",
      "\n",
      "    accuracy                           0.86     27331\n",
      "   macro avg       0.83      0.80      0.81     27331\n",
      "weighted avg       0.86      0.86      0.86     27331\n",
      "\n",
      "Confusion Matrix for xgb:\n",
      "[[18731  1487]\n",
      " [ 2269  4844]]\n",
      "\n",
      "AUC for xgb: 0.93\n",
      "\n",
      "Fitting 5 folds for each of 10 candidates, totalling 50 fits\n"
     ]
    },
    {
     "name": "stderr",
     "output_type": "stream",
     "text": [
      "C:\\ProgramData\\Anaconda3\\lib\\site-packages\\sklearn\\linear_model\\_logistic.py:1476: UserWarning: l1_ratio parameter is only used when penalty is 'elasticnet'. Got (penalty=l1)\n",
      "  warnings.warn(\n",
      "C:\\ProgramData\\Anaconda3\\lib\\site-packages\\sklearn\\linear_model\\_sag.py:352: ConvergenceWarning: The max_iter was reached which means the coef_ did not converge\n",
      "  warnings.warn(\n",
      "C:\\ProgramData\\Anaconda3\\lib\\site-packages\\sklearn\\linear_model\\_logistic.py:1476: UserWarning: l1_ratio parameter is only used when penalty is 'elasticnet'. Got (penalty=l1)\n",
      "  warnings.warn(\n"
     ]
    },
    {
     "name": "stdout",
     "output_type": "stream",
     "text": [
      "[CV] END classifier__C=100, classifier__l1_ratio=0.1, classifier__penalty=l1, classifier__solver=saga; total time=  11.1s\n"
     ]
    },
    {
     "name": "stderr",
     "output_type": "stream",
     "text": [
      "C:\\ProgramData\\Anaconda3\\lib\\site-packages\\sklearn\\linear_model\\_sag.py:352: ConvergenceWarning: The max_iter was reached which means the coef_ did not converge\n",
      "  warnings.warn(\n",
      "C:\\ProgramData\\Anaconda3\\lib\\site-packages\\sklearn\\linear_model\\_logistic.py:1476: UserWarning: l1_ratio parameter is only used when penalty is 'elasticnet'. Got (penalty=l1)\n",
      "  warnings.warn(\n"
     ]
    },
    {
     "name": "stdout",
     "output_type": "stream",
     "text": [
      "[CV] END classifier__C=100, classifier__l1_ratio=0.1, classifier__penalty=l1, classifier__solver=saga; total time=  10.7s\n"
     ]
    },
    {
     "name": "stderr",
     "output_type": "stream",
     "text": [
      "C:\\ProgramData\\Anaconda3\\lib\\site-packages\\sklearn\\linear_model\\_sag.py:352: ConvergenceWarning: The max_iter was reached which means the coef_ did not converge\n",
      "  warnings.warn(\n",
      "C:\\ProgramData\\Anaconda3\\lib\\site-packages\\sklearn\\linear_model\\_logistic.py:1476: UserWarning: l1_ratio parameter is only used when penalty is 'elasticnet'. Got (penalty=l1)\n",
      "  warnings.warn(\n"
     ]
    },
    {
     "name": "stdout",
     "output_type": "stream",
     "text": [
      "[CV] END classifier__C=100, classifier__l1_ratio=0.1, classifier__penalty=l1, classifier__solver=saga; total time=  10.3s\n"
     ]
    },
    {
     "name": "stderr",
     "output_type": "stream",
     "text": [
      "C:\\ProgramData\\Anaconda3\\lib\\site-packages\\sklearn\\linear_model\\_sag.py:352: ConvergenceWarning: The max_iter was reached which means the coef_ did not converge\n",
      "  warnings.warn(\n",
      "C:\\ProgramData\\Anaconda3\\lib\\site-packages\\sklearn\\linear_model\\_logistic.py:1476: UserWarning: l1_ratio parameter is only used when penalty is 'elasticnet'. Got (penalty=l1)\n",
      "  warnings.warn(\n"
     ]
    },
    {
     "name": "stdout",
     "output_type": "stream",
     "text": [
      "[CV] END classifier__C=100, classifier__l1_ratio=0.1, classifier__penalty=l1, classifier__solver=saga; total time=  10.5s\n"
     ]
    },
    {
     "name": "stderr",
     "output_type": "stream",
     "text": [
      "C:\\ProgramData\\Anaconda3\\lib\\site-packages\\sklearn\\linear_model\\_sag.py:352: ConvergenceWarning: The max_iter was reached which means the coef_ did not converge\n",
      "  warnings.warn(\n",
      "C:\\ProgramData\\Anaconda3\\lib\\site-packages\\sklearn\\linear_model\\_logistic.py:1476: UserWarning: l1_ratio parameter is only used when penalty is 'elasticnet'. Got (penalty=l2)\n",
      "  warnings.warn(\n"
     ]
    },
    {
     "name": "stdout",
     "output_type": "stream",
     "text": [
      "[CV] END classifier__C=100, classifier__l1_ratio=0.1, classifier__penalty=l1, classifier__solver=saga; total time=   9.9s\n"
     ]
    },
    {
     "name": "stderr",
     "output_type": "stream",
     "text": [
      "C:\\ProgramData\\Anaconda3\\lib\\site-packages\\sklearn\\linear_model\\_sag.py:352: ConvergenceWarning: The max_iter was reached which means the coef_ did not converge\n",
      "  warnings.warn(\n",
      "C:\\ProgramData\\Anaconda3\\lib\\site-packages\\sklearn\\linear_model\\_logistic.py:1476: UserWarning: l1_ratio parameter is only used when penalty is 'elasticnet'. Got (penalty=l2)\n",
      "  warnings.warn(\n"
     ]
    },
    {
     "name": "stdout",
     "output_type": "stream",
     "text": [
      "[CV] END classifier__C=10, classifier__l1_ratio=1, classifier__penalty=l2, classifier__solver=saga; total time=   8.0s\n"
     ]
    },
    {
     "name": "stderr",
     "output_type": "stream",
     "text": [
      "C:\\ProgramData\\Anaconda3\\lib\\site-packages\\sklearn\\linear_model\\_sag.py:352: ConvergenceWarning: The max_iter was reached which means the coef_ did not converge\n",
      "  warnings.warn(\n",
      "C:\\ProgramData\\Anaconda3\\lib\\site-packages\\sklearn\\linear_model\\_logistic.py:1476: UserWarning: l1_ratio parameter is only used when penalty is 'elasticnet'. Got (penalty=l2)\n",
      "  warnings.warn(\n"
     ]
    },
    {
     "name": "stdout",
     "output_type": "stream",
     "text": [
      "[CV] END classifier__C=10, classifier__l1_ratio=1, classifier__penalty=l2, classifier__solver=saga; total time=   8.0s\n"
     ]
    },
    {
     "name": "stderr",
     "output_type": "stream",
     "text": [
      "C:\\ProgramData\\Anaconda3\\lib\\site-packages\\sklearn\\linear_model\\_sag.py:352: ConvergenceWarning: The max_iter was reached which means the coef_ did not converge\n",
      "  warnings.warn(\n",
      "C:\\ProgramData\\Anaconda3\\lib\\site-packages\\sklearn\\linear_model\\_logistic.py:1476: UserWarning: l1_ratio parameter is only used when penalty is 'elasticnet'. Got (penalty=l2)\n",
      "  warnings.warn(\n"
     ]
    },
    {
     "name": "stdout",
     "output_type": "stream",
     "text": [
      "[CV] END classifier__C=10, classifier__l1_ratio=1, classifier__penalty=l2, classifier__solver=saga; total time=   8.2s\n"
     ]
    },
    {
     "name": "stderr",
     "output_type": "stream",
     "text": [
      "C:\\ProgramData\\Anaconda3\\lib\\site-packages\\sklearn\\linear_model\\_sag.py:352: ConvergenceWarning: The max_iter was reached which means the coef_ did not converge\n",
      "  warnings.warn(\n",
      "C:\\ProgramData\\Anaconda3\\lib\\site-packages\\sklearn\\linear_model\\_logistic.py:1476: UserWarning: l1_ratio parameter is only used when penalty is 'elasticnet'. Got (penalty=l2)\n",
      "  warnings.warn(\n"
     ]
    },
    {
     "name": "stdout",
     "output_type": "stream",
     "text": [
      "[CV] END classifier__C=10, classifier__l1_ratio=1, classifier__penalty=l2, classifier__solver=saga; total time=   7.9s\n"
     ]
    },
    {
     "name": "stderr",
     "output_type": "stream",
     "text": [
      "C:\\ProgramData\\Anaconda3\\lib\\site-packages\\sklearn\\linear_model\\_sag.py:352: ConvergenceWarning: The max_iter was reached which means the coef_ did not converge\n",
      "  warnings.warn(\n",
      "C:\\ProgramData\\Anaconda3\\lib\\site-packages\\sklearn\\linear_model\\_logistic.py:1476: UserWarning: l1_ratio parameter is only used when penalty is 'elasticnet'. Got (penalty=l2)\n",
      "  warnings.warn(\n"
     ]
    },
    {
     "name": "stdout",
     "output_type": "stream",
     "text": [
      "[CV] END classifier__C=10, classifier__l1_ratio=1, classifier__penalty=l2, classifier__solver=saga; total time=   7.9s\n"
     ]
    },
    {
     "name": "stderr",
     "output_type": "stream",
     "text": [
      "C:\\ProgramData\\Anaconda3\\lib\\site-packages\\sklearn\\linear_model\\_sag.py:352: ConvergenceWarning: The max_iter was reached which means the coef_ did not converge\n",
      "  warnings.warn(\n",
      "C:\\ProgramData\\Anaconda3\\lib\\site-packages\\sklearn\\linear_model\\_logistic.py:1476: UserWarning: l1_ratio parameter is only used when penalty is 'elasticnet'. Got (penalty=l2)\n",
      "  warnings.warn(\n"
     ]
    },
    {
     "name": "stdout",
     "output_type": "stream",
     "text": [
      "[CV] END classifier__C=10, classifier__l1_ratio=0.7, classifier__penalty=l2, classifier__solver=saga; total time=   7.8s\n"
     ]
    },
    {
     "name": "stderr",
     "output_type": "stream",
     "text": [
      "C:\\ProgramData\\Anaconda3\\lib\\site-packages\\sklearn\\linear_model\\_sag.py:352: ConvergenceWarning: The max_iter was reached which means the coef_ did not converge\n",
      "  warnings.warn(\n",
      "C:\\ProgramData\\Anaconda3\\lib\\site-packages\\sklearn\\linear_model\\_logistic.py:1476: UserWarning: l1_ratio parameter is only used when penalty is 'elasticnet'. Got (penalty=l2)\n",
      "  warnings.warn(\n"
     ]
    },
    {
     "name": "stdout",
     "output_type": "stream",
     "text": [
      "[CV] END classifier__C=10, classifier__l1_ratio=0.7, classifier__penalty=l2, classifier__solver=saga; total time=   7.9s\n"
     ]
    },
    {
     "name": "stderr",
     "output_type": "stream",
     "text": [
      "C:\\ProgramData\\Anaconda3\\lib\\site-packages\\sklearn\\linear_model\\_sag.py:352: ConvergenceWarning: The max_iter was reached which means the coef_ did not converge\n",
      "  warnings.warn(\n",
      "C:\\ProgramData\\Anaconda3\\lib\\site-packages\\sklearn\\linear_model\\_logistic.py:1476: UserWarning: l1_ratio parameter is only used when penalty is 'elasticnet'. Got (penalty=l2)\n",
      "  warnings.warn(\n"
     ]
    },
    {
     "name": "stdout",
     "output_type": "stream",
     "text": [
      "[CV] END classifier__C=10, classifier__l1_ratio=0.7, classifier__penalty=l2, classifier__solver=saga; total time=   7.8s\n"
     ]
    },
    {
     "name": "stderr",
     "output_type": "stream",
     "text": [
      "C:\\ProgramData\\Anaconda3\\lib\\site-packages\\sklearn\\linear_model\\_sag.py:352: ConvergenceWarning: The max_iter was reached which means the coef_ did not converge\n",
      "  warnings.warn(\n",
      "C:\\ProgramData\\Anaconda3\\lib\\site-packages\\sklearn\\linear_model\\_logistic.py:1476: UserWarning: l1_ratio parameter is only used when penalty is 'elasticnet'. Got (penalty=l2)\n",
      "  warnings.warn(\n"
     ]
    },
    {
     "name": "stdout",
     "output_type": "stream",
     "text": [
      "[CV] END classifier__C=10, classifier__l1_ratio=0.7, classifier__penalty=l2, classifier__solver=saga; total time=   7.8s\n"
     ]
    },
    {
     "name": "stderr",
     "output_type": "stream",
     "text": [
      "C:\\ProgramData\\Anaconda3\\lib\\site-packages\\sklearn\\linear_model\\_sag.py:352: ConvergenceWarning: The max_iter was reached which means the coef_ did not converge\n",
      "  warnings.warn(\n"
     ]
    },
    {
     "name": "stdout",
     "output_type": "stream",
     "text": [
      "[CV] END classifier__C=10, classifier__l1_ratio=0.7, classifier__penalty=l2, classifier__solver=saga; total time=   8.1s\n"
     ]
    },
    {
     "name": "stderr",
     "output_type": "stream",
     "text": [
      "C:\\ProgramData\\Anaconda3\\lib\\site-packages\\sklearn\\linear_model\\_sag.py:352: ConvergenceWarning: The max_iter was reached which means the coef_ did not converge\n",
      "  warnings.warn(\n"
     ]
    },
    {
     "name": "stdout",
     "output_type": "stream",
     "text": [
      "[CV] END classifier__C=100, classifier__l1_ratio=1, classifier__penalty=elasticnet, classifier__solver=saga; total time=  10.5s\n"
     ]
    },
    {
     "name": "stderr",
     "output_type": "stream",
     "text": [
      "C:\\ProgramData\\Anaconda3\\lib\\site-packages\\sklearn\\linear_model\\_sag.py:352: ConvergenceWarning: The max_iter was reached which means the coef_ did not converge\n",
      "  warnings.warn(\n"
     ]
    },
    {
     "name": "stdout",
     "output_type": "stream",
     "text": [
      "[CV] END classifier__C=100, classifier__l1_ratio=1, classifier__penalty=elasticnet, classifier__solver=saga; total time=  10.5s\n"
     ]
    },
    {
     "name": "stderr",
     "output_type": "stream",
     "text": [
      "C:\\ProgramData\\Anaconda3\\lib\\site-packages\\sklearn\\linear_model\\_sag.py:352: ConvergenceWarning: The max_iter was reached which means the coef_ did not converge\n",
      "  warnings.warn(\n"
     ]
    },
    {
     "name": "stdout",
     "output_type": "stream",
     "text": [
      "[CV] END classifier__C=100, classifier__l1_ratio=1, classifier__penalty=elasticnet, classifier__solver=saga; total time=  10.2s\n"
     ]
    },
    {
     "name": "stderr",
     "output_type": "stream",
     "text": [
      "C:\\ProgramData\\Anaconda3\\lib\\site-packages\\sklearn\\linear_model\\_sag.py:352: ConvergenceWarning: The max_iter was reached which means the coef_ did not converge\n",
      "  warnings.warn(\n"
     ]
    },
    {
     "name": "stdout",
     "output_type": "stream",
     "text": [
      "[CV] END classifier__C=100, classifier__l1_ratio=1, classifier__penalty=elasticnet, classifier__solver=saga; total time=  10.5s\n"
     ]
    },
    {
     "name": "stderr",
     "output_type": "stream",
     "text": [
      "C:\\ProgramData\\Anaconda3\\lib\\site-packages\\sklearn\\linear_model\\_sag.py:352: ConvergenceWarning: The max_iter was reached which means the coef_ did not converge\n",
      "  warnings.warn(\n",
      "C:\\ProgramData\\Anaconda3\\lib\\site-packages\\sklearn\\linear_model\\_logistic.py:1476: UserWarning: l1_ratio parameter is only used when penalty is 'elasticnet'. Got (penalty=l2)\n",
      "  warnings.warn(\n"
     ]
    },
    {
     "name": "stdout",
     "output_type": "stream",
     "text": [
      "[CV] END classifier__C=100, classifier__l1_ratio=1, classifier__penalty=elasticnet, classifier__solver=saga; total time=   9.8s\n",
      "[CV] END classifier__C=0.1, classifier__l1_ratio=0.1, classifier__penalty=l2, classifier__solver=saga; total time=   1.9s\n"
     ]
    },
    {
     "name": "stderr",
     "output_type": "stream",
     "text": [
      "C:\\ProgramData\\Anaconda3\\lib\\site-packages\\sklearn\\linear_model\\_logistic.py:1476: UserWarning: l1_ratio parameter is only used when penalty is 'elasticnet'. Got (penalty=l2)\n",
      "  warnings.warn(\n"
     ]
    },
    {
     "name": "stdout",
     "output_type": "stream",
     "text": [
      "[CV] END classifier__C=0.1, classifier__l1_ratio=0.1, classifier__penalty=l2, classifier__solver=saga; total time=   1.9s\n"
     ]
    },
    {
     "name": "stderr",
     "output_type": "stream",
     "text": [
      "C:\\ProgramData\\Anaconda3\\lib\\site-packages\\sklearn\\linear_model\\_logistic.py:1476: UserWarning: l1_ratio parameter is only used when penalty is 'elasticnet'. Got (penalty=l2)\n",
      "  warnings.warn(\n"
     ]
    },
    {
     "name": "stdout",
     "output_type": "stream",
     "text": [
      "[CV] END classifier__C=0.1, classifier__l1_ratio=0.1, classifier__penalty=l2, classifier__solver=saga; total time=   1.9s\n"
     ]
    },
    {
     "name": "stderr",
     "output_type": "stream",
     "text": [
      "C:\\ProgramData\\Anaconda3\\lib\\site-packages\\sklearn\\linear_model\\_logistic.py:1476: UserWarning: l1_ratio parameter is only used when penalty is 'elasticnet'. Got (penalty=l2)\n",
      "  warnings.warn(\n"
     ]
    },
    {
     "name": "stdout",
     "output_type": "stream",
     "text": [
      "[CV] END classifier__C=0.1, classifier__l1_ratio=0.1, classifier__penalty=l2, classifier__solver=saga; total time=   1.9s\n"
     ]
    },
    {
     "name": "stderr",
     "output_type": "stream",
     "text": [
      "C:\\ProgramData\\Anaconda3\\lib\\site-packages\\sklearn\\linear_model\\_logistic.py:1476: UserWarning: l1_ratio parameter is only used when penalty is 'elasticnet'. Got (penalty=l2)\n",
      "  warnings.warn(\n"
     ]
    },
    {
     "name": "stdout",
     "output_type": "stream",
     "text": [
      "[CV] END classifier__C=0.1, classifier__l1_ratio=0.1, classifier__penalty=l2, classifier__solver=saga; total time=   1.9s\n"
     ]
    },
    {
     "name": "stderr",
     "output_type": "stream",
     "text": [
      "C:\\ProgramData\\Anaconda3\\lib\\site-packages\\sklearn\\linear_model\\_logistic.py:1476: UserWarning: l1_ratio parameter is only used when penalty is 'elasticnet'. Got (penalty=none)\n",
      "  warnings.warn(\n",
      "C:\\ProgramData\\Anaconda3\\lib\\site-packages\\sklearn\\linear_model\\_logistic.py:1483: UserWarning: Setting penalty='none' will ignore the C and l1_ratio parameters\n",
      "  warnings.warn(\n",
      "C:\\ProgramData\\Anaconda3\\lib\\site-packages\\sklearn\\linear_model\\_sag.py:352: ConvergenceWarning: The max_iter was reached which means the coef_ did not converge\n",
      "  warnings.warn(\n",
      "C:\\ProgramData\\Anaconda3\\lib\\site-packages\\sklearn\\linear_model\\_logistic.py:1476: UserWarning: l1_ratio parameter is only used when penalty is 'elasticnet'. Got (penalty=none)\n",
      "  warnings.warn(\n",
      "C:\\ProgramData\\Anaconda3\\lib\\site-packages\\sklearn\\linear_model\\_logistic.py:1483: UserWarning: Setting penalty='none' will ignore the C and l1_ratio parameters\n",
      "  warnings.warn(\n"
     ]
    },
    {
     "name": "stdout",
     "output_type": "stream",
     "text": [
      "[CV] END classifier__C=10, classifier__l1_ratio=1, classifier__penalty=none, classifier__solver=saga; total time=   7.8s\n"
     ]
    },
    {
     "name": "stderr",
     "output_type": "stream",
     "text": [
      "C:\\ProgramData\\Anaconda3\\lib\\site-packages\\sklearn\\linear_model\\_sag.py:352: ConvergenceWarning: The max_iter was reached which means the coef_ did not converge\n",
      "  warnings.warn(\n",
      "C:\\ProgramData\\Anaconda3\\lib\\site-packages\\sklearn\\linear_model\\_logistic.py:1476: UserWarning: l1_ratio parameter is only used when penalty is 'elasticnet'. Got (penalty=none)\n",
      "  warnings.warn(\n",
      "C:\\ProgramData\\Anaconda3\\lib\\site-packages\\sklearn\\linear_model\\_logistic.py:1483: UserWarning: Setting penalty='none' will ignore the C and l1_ratio parameters\n",
      "  warnings.warn(\n"
     ]
    },
    {
     "name": "stdout",
     "output_type": "stream",
     "text": [
      "[CV] END classifier__C=10, classifier__l1_ratio=1, classifier__penalty=none, classifier__solver=saga; total time=   7.8s\n"
     ]
    },
    {
     "name": "stderr",
     "output_type": "stream",
     "text": [
      "C:\\ProgramData\\Anaconda3\\lib\\site-packages\\sklearn\\linear_model\\_sag.py:352: ConvergenceWarning: The max_iter was reached which means the coef_ did not converge\n",
      "  warnings.warn(\n",
      "C:\\ProgramData\\Anaconda3\\lib\\site-packages\\sklearn\\linear_model\\_logistic.py:1476: UserWarning: l1_ratio parameter is only used when penalty is 'elasticnet'. Got (penalty=none)\n",
      "  warnings.warn(\n",
      "C:\\ProgramData\\Anaconda3\\lib\\site-packages\\sklearn\\linear_model\\_logistic.py:1483: UserWarning: Setting penalty='none' will ignore the C and l1_ratio parameters\n",
      "  warnings.warn(\n"
     ]
    },
    {
     "name": "stdout",
     "output_type": "stream",
     "text": [
      "[CV] END classifier__C=10, classifier__l1_ratio=1, classifier__penalty=none, classifier__solver=saga; total time=   7.8s\n"
     ]
    },
    {
     "name": "stderr",
     "output_type": "stream",
     "text": [
      "C:\\ProgramData\\Anaconda3\\lib\\site-packages\\sklearn\\linear_model\\_sag.py:352: ConvergenceWarning: The max_iter was reached which means the coef_ did not converge\n",
      "  warnings.warn(\n",
      "C:\\ProgramData\\Anaconda3\\lib\\site-packages\\sklearn\\linear_model\\_logistic.py:1476: UserWarning: l1_ratio parameter is only used when penalty is 'elasticnet'. Got (penalty=none)\n",
      "  warnings.warn(\n",
      "C:\\ProgramData\\Anaconda3\\lib\\site-packages\\sklearn\\linear_model\\_logistic.py:1483: UserWarning: Setting penalty='none' will ignore the C and l1_ratio parameters\n",
      "  warnings.warn(\n"
     ]
    },
    {
     "name": "stdout",
     "output_type": "stream",
     "text": [
      "[CV] END classifier__C=10, classifier__l1_ratio=1, classifier__penalty=none, classifier__solver=saga; total time=   7.6s\n"
     ]
    },
    {
     "name": "stderr",
     "output_type": "stream",
     "text": [
      "C:\\ProgramData\\Anaconda3\\lib\\site-packages\\sklearn\\linear_model\\_sag.py:352: ConvergenceWarning: The max_iter was reached which means the coef_ did not converge\n",
      "  warnings.warn(\n",
      "C:\\ProgramData\\Anaconda3\\lib\\site-packages\\sklearn\\linear_model\\_logistic.py:1476: UserWarning: l1_ratio parameter is only used when penalty is 'elasticnet'. Got (penalty=l2)\n",
      "  warnings.warn(\n"
     ]
    },
    {
     "name": "stdout",
     "output_type": "stream",
     "text": [
      "[CV] END classifier__C=10, classifier__l1_ratio=1, classifier__penalty=none, classifier__solver=saga; total time=   8.1s\n"
     ]
    },
    {
     "name": "stderr",
     "output_type": "stream",
     "text": [
      "C:\\ProgramData\\Anaconda3\\lib\\site-packages\\sklearn\\linear_model\\_sag.py:352: ConvergenceWarning: The max_iter was reached which means the coef_ did not converge\n",
      "  warnings.warn(\n",
      "C:\\ProgramData\\Anaconda3\\lib\\site-packages\\sklearn\\linear_model\\_logistic.py:1476: UserWarning: l1_ratio parameter is only used when penalty is 'elasticnet'. Got (penalty=l2)\n",
      "  warnings.warn(\n"
     ]
    },
    {
     "name": "stdout",
     "output_type": "stream",
     "text": [
      "[CV] END classifier__C=10, classifier__l1_ratio=0.5, classifier__penalty=l2, classifier__solver=saga; total time=   8.4s\n"
     ]
    },
    {
     "name": "stderr",
     "output_type": "stream",
     "text": [
      "C:\\ProgramData\\Anaconda3\\lib\\site-packages\\sklearn\\linear_model\\_sag.py:352: ConvergenceWarning: The max_iter was reached which means the coef_ did not converge\n",
      "  warnings.warn(\n",
      "C:\\ProgramData\\Anaconda3\\lib\\site-packages\\sklearn\\linear_model\\_logistic.py:1476: UserWarning: l1_ratio parameter is only used when penalty is 'elasticnet'. Got (penalty=l2)\n",
      "  warnings.warn(\n"
     ]
    },
    {
     "name": "stdout",
     "output_type": "stream",
     "text": [
      "[CV] END classifier__C=10, classifier__l1_ratio=0.5, classifier__penalty=l2, classifier__solver=saga; total time=   8.5s\n"
     ]
    },
    {
     "name": "stderr",
     "output_type": "stream",
     "text": [
      "C:\\ProgramData\\Anaconda3\\lib\\site-packages\\sklearn\\linear_model\\_sag.py:352: ConvergenceWarning: The max_iter was reached which means the coef_ did not converge\n",
      "  warnings.warn(\n",
      "C:\\ProgramData\\Anaconda3\\lib\\site-packages\\sklearn\\linear_model\\_logistic.py:1476: UserWarning: l1_ratio parameter is only used when penalty is 'elasticnet'. Got (penalty=l2)\n",
      "  warnings.warn(\n"
     ]
    },
    {
     "name": "stdout",
     "output_type": "stream",
     "text": [
      "[CV] END classifier__C=10, classifier__l1_ratio=0.5, classifier__penalty=l2, classifier__solver=saga; total time=   8.5s\n"
     ]
    },
    {
     "name": "stderr",
     "output_type": "stream",
     "text": [
      "C:\\ProgramData\\Anaconda3\\lib\\site-packages\\sklearn\\linear_model\\_sag.py:352: ConvergenceWarning: The max_iter was reached which means the coef_ did not converge\n",
      "  warnings.warn(\n",
      "C:\\ProgramData\\Anaconda3\\lib\\site-packages\\sklearn\\linear_model\\_logistic.py:1476: UserWarning: l1_ratio parameter is only used when penalty is 'elasticnet'. Got (penalty=l2)\n",
      "  warnings.warn(\n"
     ]
    },
    {
     "name": "stdout",
     "output_type": "stream",
     "text": [
      "[CV] END classifier__C=10, classifier__l1_ratio=0.5, classifier__penalty=l2, classifier__solver=saga; total time=   8.3s\n"
     ]
    },
    {
     "name": "stderr",
     "output_type": "stream",
     "text": [
      "C:\\ProgramData\\Anaconda3\\lib\\site-packages\\sklearn\\linear_model\\_sag.py:352: ConvergenceWarning: The max_iter was reached which means the coef_ did not converge\n",
      "  warnings.warn(\n"
     ]
    },
    {
     "name": "stdout",
     "output_type": "stream",
     "text": [
      "[CV] END classifier__C=10, classifier__l1_ratio=0.5, classifier__penalty=l2, classifier__solver=saga; total time=   8.0s\n",
      "[CV] END classifier__C=0.1, classifier__l1_ratio=0.7, classifier__penalty=elasticnet, classifier__solver=saga; total time=   1.6s\n",
      "[CV] END classifier__C=0.1, classifier__l1_ratio=0.7, classifier__penalty=elasticnet, classifier__solver=saga; total time=   1.7s\n",
      "[CV] END classifier__C=0.1, classifier__l1_ratio=0.7, classifier__penalty=elasticnet, classifier__solver=saga; total time=   1.6s\n",
      "[CV] END classifier__C=0.1, classifier__l1_ratio=0.7, classifier__penalty=elasticnet, classifier__solver=saga; total time=   1.6s\n",
      "[CV] END classifier__C=0.1, classifier__l1_ratio=0.7, classifier__penalty=elasticnet, classifier__solver=saga; total time=   1.7s\n"
     ]
    },
    {
     "name": "stderr",
     "output_type": "stream",
     "text": [
      "C:\\ProgramData\\Anaconda3\\lib\\site-packages\\sklearn\\linear_model\\_logistic.py:1476: UserWarning: l1_ratio parameter is only used when penalty is 'elasticnet'. Got (penalty=l1)\n",
      "  warnings.warn(\n"
     ]
    },
    {
     "name": "stdout",
     "output_type": "stream",
     "text": [
      "[CV] END classifier__C=0.001, classifier__l1_ratio=0.1, classifier__penalty=l1, classifier__solver=saga; total time=   1.0s\n"
     ]
    },
    {
     "name": "stderr",
     "output_type": "stream",
     "text": [
      "C:\\ProgramData\\Anaconda3\\lib\\site-packages\\sklearn\\linear_model\\_logistic.py:1476: UserWarning: l1_ratio parameter is only used when penalty is 'elasticnet'. Got (penalty=l1)\n",
      "  warnings.warn(\n"
     ]
    },
    {
     "name": "stdout",
     "output_type": "stream",
     "text": [
      "[CV] END classifier__C=0.001, classifier__l1_ratio=0.1, classifier__penalty=l1, classifier__solver=saga; total time=   0.8s\n"
     ]
    },
    {
     "name": "stderr",
     "output_type": "stream",
     "text": [
      "C:\\ProgramData\\Anaconda3\\lib\\site-packages\\sklearn\\linear_model\\_logistic.py:1476: UserWarning: l1_ratio parameter is only used when penalty is 'elasticnet'. Got (penalty=l1)\n",
      "  warnings.warn(\n"
     ]
    },
    {
     "name": "stdout",
     "output_type": "stream",
     "text": [
      "[CV] END classifier__C=0.001, classifier__l1_ratio=0.1, classifier__penalty=l1, classifier__solver=saga; total time=   0.6s\n"
     ]
    },
    {
     "name": "stderr",
     "output_type": "stream",
     "text": [
      "C:\\ProgramData\\Anaconda3\\lib\\site-packages\\sklearn\\linear_model\\_logistic.py:1476: UserWarning: l1_ratio parameter is only used when penalty is 'elasticnet'. Got (penalty=l1)\n",
      "  warnings.warn(\n"
     ]
    },
    {
     "name": "stdout",
     "output_type": "stream",
     "text": [
      "[CV] END classifier__C=0.001, classifier__l1_ratio=0.1, classifier__penalty=l1, classifier__solver=saga; total time=   0.7s\n"
     ]
    },
    {
     "name": "stderr",
     "output_type": "stream",
     "text": [
      "C:\\ProgramData\\Anaconda3\\lib\\site-packages\\sklearn\\linear_model\\_logistic.py:1476: UserWarning: l1_ratio parameter is only used when penalty is 'elasticnet'. Got (penalty=l1)\n",
      "  warnings.warn(\n"
     ]
    },
    {
     "name": "stdout",
     "output_type": "stream",
     "text": [
      "[CV] END classifier__C=0.001, classifier__l1_ratio=0.1, classifier__penalty=l1, classifier__solver=saga; total time=   0.7s\n",
      "[CV] END classifier__C=0.001, classifier__l1_ratio=0.7, classifier__penalty=elasticnet, classifier__solver=saga; total time=   1.0s\n",
      "[CV] END classifier__C=0.001, classifier__l1_ratio=0.7, classifier__penalty=elasticnet, classifier__solver=saga; total time=   1.0s\n",
      "[CV] END classifier__C=0.001, classifier__l1_ratio=0.7, classifier__penalty=elasticnet, classifier__solver=saga; total time=   1.0s\n",
      "[CV] END classifier__C=0.001, classifier__l1_ratio=0.7, classifier__penalty=elasticnet, classifier__solver=saga; total time=   0.8s\n",
      "[CV] END classifier__C=0.001, classifier__l1_ratio=0.7, classifier__penalty=elasticnet, classifier__solver=saga; total time=   1.1s\n"
     ]
    },
    {
     "name": "stderr",
     "output_type": "stream",
     "text": [
      "C:\\ProgramData\\Anaconda3\\lib\\site-packages\\sklearn\\linear_model\\_logistic.py:1476: UserWarning: l1_ratio parameter is only used when penalty is 'elasticnet'. Got (penalty=l2)\n",
      "  warnings.warn(\n",
      "C:\\ProgramData\\Anaconda3\\lib\\site-packages\\sklearn\\linear_model\\_sag.py:352: ConvergenceWarning: The max_iter was reached which means the coef_ did not converge\n",
      "  warnings.warn(\n"
     ]
    },
    {
     "name": "stdout",
     "output_type": "stream",
     "text": [
      "Best parameters for lr: {'classifier__solver': 'saga', 'classifier__penalty': 'l2', 'classifier__l1_ratio': 1, 'classifier__C': 10}\n",
      "Classification report for lr:\n",
      "              precision    recall  f1-score   support\n",
      "\n",
      "           0       0.87      0.99      0.93     20218\n",
      "           1       0.96      0.58      0.73      7113\n",
      "\n",
      "    accuracy                           0.89     27331\n",
      "   macro avg       0.92      0.79      0.83     27331\n",
      "weighted avg       0.90      0.89      0.88     27331\n",
      "\n",
      "Confusion Matrix for lr:\n",
      "[[20063   155]\n",
      " [ 2968  4145]]\n",
      "\n",
      "AUC for lr: 0.94\n",
      "\n"
     ]
    },
    {
     "data": {
      "image/png": "[encoded data removed]",
      "text/plain": [
       "<Figure size 432x288 with 1 Axes>"
      ]
     },
     "metadata": {
      "needs_background": "light"
     },
     "output_type": "display_data"
    }
   ],
   "source": [
    "print(\"Evaluating Genetic Search Selected Features\")\n",
    "run_models(X_train_smote, X_test, y_train_smote, y_test, genetic_search_selected_features)"
   ]
  }
 ],
 "metadata": {
  "kernelspec": {
   "display_name": "Python 3 (ipykernel)",
   "language": "python",
   "name": "python3"
  },
  "language_info": {
   "codemirror_mode": {
    "name": "ipython",
    "version": 3
   },
   "file_extension": ".py",
   "mimetype": "text/x-python",
   "name": "python",
   "nbconvert_exporter": "python",
   "pygments_lexer": "ipython3",
   "version": "3.9.12"
  }
 },
 "nbformat": 4,
 "nbformat_minor": 5
}
